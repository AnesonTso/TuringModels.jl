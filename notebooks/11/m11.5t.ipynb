{
 "cells": [
  {
   "outputs": [
    {
     "output_type": "execute_result",
     "data": {
      "text/plain": "(12, 5)"
     },
     "metadata": {},
     "execution_count": 1
    }
   ],
   "cell_type": "code",
   "source": [
    "using TuringModels\n",
    "\n",
    "Turing.setadbackend(:reverse_diff)\n",
    "#nbTuring.turnprogress(false);\n",
    "\n",
    "d = CSV.read(rel_path(\"..\", \"data\", \"UCBadmit.csv\"), delim=';');\n",
    "size(d) # Should be 12x5"
   ],
   "metadata": {},
   "execution_count": 1
  },
  {
   "outputs": [],
   "cell_type": "markdown",
   "source": [
    "Turing model"
   ],
   "metadata": {}
  },
  {
   "outputs": [
    {
     "output_type": "execute_result",
     "data": {
      "text/plain": "m11_5 (generic function with 3 methods)"
     },
     "metadata": {},
     "execution_count": 2
    }
   ],
   "cell_type": "code",
   "source": [
    "@model m11_5(admit, applications) = begin\n",
    "    N=length(applications)\n",
    "    θ ~ Truncated(Exponential(1), 0, Inf)\n",
    "    α ~ Normal(0,2)\n",
    "\n",
    "    for i ∈ 1:N\n",
    "        prob = logistic(α)\n",
    "        # alpha and beta for the BetaBinomial must be provided.\n",
    "        # The two parameterizations are related by\n",
    "        # alpha = prob * theta, and beta = (1-prob) * theta.\n",
    "        # See https://github.com/rmcelreath/rethinking/blob/master/man/dbetabinom.Rd\n",
    "        alpha = prob * θ\n",
    "        beta = (1 - prob) * θ\n",
    "\n",
    "        admit[i] ~ BetaBinomial(applications[i], alpha, beta)\n",
    "    end\n",
    "end"
   ],
   "metadata": {},
   "execution_count": 2
  },
  {
   "outputs": [],
   "cell_type": "markdown",
   "source": [
    "Sample"
   ],
   "metadata": {}
  },
  {
   "outputs": [
    {
     "name": "stdout",
     "output_type": "stream",
     "text": [
      "┌ Info: [Turing] looking for good initial eps...\n",
      "└ @ Turing.Inference /Users/rob/.julia/dev/Turing/src/inference/support/hmc_core.jl:240\n",
      "┌ Info: \r[NUTS{Turing.Core.FluxTrackerAD,Union{}}] found initial ϵ: 0.8\n",
      "└ @ Turing.Inference /Users/rob/.julia/dev/Turing/src/inference/support/hmc_core.jl:235\n",
      "┌ Warning: Numerical error has been found in gradients.\n",
      "└ @ Turing.Core /Users/rob/.julia/dev/Turing/src/core/ad.jl:168\n",
      "┌ Warning: grad = [NaN, NaN]\n",
      "└ @ Turing.Core /Users/rob/.julia/dev/Turing/src/core/ad.jl:169\n",
      "┌ Warning: Numerical error has been found in gradients.\n",
      "└ @ Turing.Core /Users/rob/.julia/dev/Turing/src/core/ad.jl:168\n",
      "┌ Warning: grad = [NaN, NaN]\n",
      "└ @ Turing.Core /Users/rob/.julia/dev/Turing/src/core/ad.jl:169\n",
      "┌ Info:  Adapted ϵ = 0.17662275392141913, std = [1.0, 1.0]; 1000 iterations is used for adaption.\n",
      "└ @ Turing.Inference /Users/rob/.julia/dev/Turing/src/inference/adapt/adapt.jl:91\n",
      "[NUTS] Finished with\n",
      "  Running time        = 21.64463686100001;\n",
      "  #lf / sample        = 0.0;\n",
      "  #evals / sample     = 16.9715;\n",
      "  pre-cond. metric    = [1.0, 1.0].\n"
     ]
    }
   ],
   "cell_type": "code",
   "source": [
    "posterior = sample(m11_5(d[:admit],d[:applications]), Turing.NUTS(4000, 1000, 0.9));"
   ],
   "metadata": {},
   "execution_count": 3
  },
  {
   "outputs": [],
   "cell_type": "markdown",
   "source": [
    "Draw summary"
   ],
   "metadata": {}
  },
  {
   "outputs": [
    {
     "name": "stdout",
     "output_type": "stream",
     "text": [
      "Iterations = 1:4000\n",
      "Thinning interval = 1\n",
      "Chains = 1\n",
      "Samples per chain = 4000\n",
      "\n",
      "Empirical Posterior Estimates:\n",
      "              Mean           SD        Naive SE        MCSE         ESS   \n",
      "       α  -0.3680032711 0.308081635 0.00487119836 0.00629685013 2393.78371\n",
      "  lf_num   0.0000000000 0.000000000 0.00000000000 0.00000000000        NaN\n",
      " elapsed   0.0054111592 0.012700305 0.00020080945 0.00026146335 2359.42767\n",
      " epsilon   0.1994558359 0.108892744 0.00172174546 0.00641234320  288.37949\n",
      "      lp -71.0967041477 1.603959239 0.02536082235 0.05371726739  891.57695\n",
      "eval_num  16.9715000000 7.793193904 0.12322121491 0.25453238925  937.44297\n",
      "       θ   2.7519568422 1.112317124 0.01758727796 0.03059945495 1321.38650\n",
      "  lf_eps   0.1994558359 0.108892744 0.00172174546 0.00641234320  288.37949\n",
      "\n",
      "Quantiles:\n",
      "               2.5%           25.0%         50.0%         75.0%         97.5%    \n",
      "       α  -0.95568761507  -0.5694470385  -0.368913475  -0.169150708   0.240441826\n",
      "  lf_num   0.00000000000   0.0000000000   0.000000000   0.000000000   0.000000000\n",
      " elapsed   0.00089611303   0.0025939405   0.005483729   0.006108382   0.013509547\n",
      " epsilon   0.13268271140   0.1766227539   0.176622754   0.176622754   0.383777469\n",
      "      lp -73.92975055108 -71.4561220187 -70.741603147 -70.329271289 -70.060754611\n",
      "eval_num   4.00000000000  10.0000000000  22.000000000  22.000000000  22.000000000\n",
      "       θ   1.27267528927   2.0446324358   2.638800239   3.307901471   4.856045798\n",
      "  lf_eps   0.13268271140   0.1766227539   0.176622754   0.176622754   0.383777469\n",
      "\n"
     ]
    }
   ],
   "cell_type": "code",
   "source": [
    "describe(posterior)"
   ],
   "metadata": {},
   "execution_count": 4
  },
  {
   "outputs": [],
   "cell_type": "markdown",
   "source": [
    "Result rethinking"
   ],
   "metadata": {}
  },
  {
   "outputs": [],
   "cell_type": "code",
   "source": [
    "m115rethinking = \"\n",
    "         mean   sd  5.5% 94.5% n_eff Rhat\n",
    "theta  2.74 0.96  1.43  4.37  3583    1\n",
    "a       -0.37 0.31 -0.87  0.12  3210    1\n",
    "\";"
   ],
   "metadata": {},
   "execution_count": 5
  },
  {
   "outputs": [],
   "cell_type": "markdown",
   "source": [
    "*This notebook was generated using [Literate.jl](https://github.com/fredrikekre/Literate.jl).*"
   ],
   "metadata": {}
  }
 ],
 "nbformat_minor": 3,
 "metadata": {
  "language_info": {
   "file_extension": ".jl",
   "mimetype": "application/julia",
   "name": "julia",
   "version": "1.2.0-DEV.291"
  },
  "kernelspec": {
   "name": "julia-1.2",
   "display_name": "Julia 1.2.0-DEV.291",
   "language": "julia"
  }
 },
 "nbformat": 4
}
