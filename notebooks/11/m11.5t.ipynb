{
 "cells": [
  {
   "outputs": [
    {
     "output_type": "execute_result",
     "data": {
      "text/plain": "(12, 5)"
     },
     "metadata": {},
     "execution_count": 1
    }
   ],
   "cell_type": "code",
   "source": [
    "using TuringModels\n",
    "\n",
    "Turing.setadbackend(:reverse_diff)\n",
    "#nbTuring.turnprogress(false);\n",
    "\n",
    "d = CSV.read(rel_path(\"..\", \"data\", \"UCBadmit.csv\"), delim=';');\n",
    "size(d) # Should be 12x5"
   ],
   "metadata": {},
   "execution_count": 1
  },
  {
   "outputs": [],
   "cell_type": "markdown",
   "source": [
    "Turing model"
   ],
   "metadata": {}
  },
  {
   "outputs": [
    {
     "output_type": "execute_result",
     "data": {
      "text/plain": "m11_5 (generic function with 3 methods)"
     },
     "metadata": {},
     "execution_count": 2
    }
   ],
   "cell_type": "code",
   "source": [
    "@model m11_5(admit, applications) = begin\n",
    "    N=length(applications)\n",
    "    θ ~ Truncated(Exponential(1), 0, Inf)\n",
    "    α ~ Normal(0,2)\n",
    "\n",
    "    for i ∈ 1:N\n",
    "        prob = logistic(α)\n",
    "        # alpha and beta for the BetaBinomial must be provided.\n",
    "        # The two parameterizations are related by\n",
    "        # alpha = prob * theta, and beta = (1-prob) * theta.\n",
    "        # See https://github.com/rmcelreath/rethinking/blob/master/man/dbetabinom.Rd\n",
    "        alpha = prob * θ\n",
    "        beta = (1 - prob) * θ\n",
    "\n",
    "        admit[i] ~ BetaBinomial(applications[i], alpha, beta)\n",
    "    end\n",
    "end"
   ],
   "metadata": {},
   "execution_count": 2
  },
  {
   "outputs": [],
   "cell_type": "markdown",
   "source": [
    "Sample"
   ],
   "metadata": {}
  },
  {
   "outputs": [
    {
     "name": "stdout",
     "output_type": "stream",
     "text": [
      "┌ Info: [Turing] looking for good initial eps...\n",
      "└ @ Turing.Inference /Users/rob/.julia/packages/Turing/UXxKz/src/inference/support/hmc_core.jl:240\n",
      "┌ Info: \r[NUTS{Turing.Core.FluxTrackerAD,Union{}}] found initial ϵ: 0.8\n",
      "└ @ Turing.Inference /Users/rob/.julia/packages/Turing/UXxKz/src/inference/support/hmc_core.jl:235\n",
      "┌ Warning: Numerical error has been found in gradients.\n",
      "└ @ Turing.Core /Users/rob/.julia/packages/Turing/UXxKz/src/core/ad.jl:168\n",
      "┌ Warning: grad = [NaN, NaN]\n",
      "└ @ Turing.Core /Users/rob/.julia/packages/Turing/UXxKz/src/core/ad.jl:169\n",
      "┌ Info:  Adapted ϵ = 0.15907376932603656, std = [1.0, 1.0]; 1000 iterations is used for adaption.\n",
      "└ @ Turing.Inference /Users/rob/.julia/packages/Turing/UXxKz/src/inference/adapt/adapt.jl:91\n",
      "[NUTS] Finished with\n",
      "  Running time        = 22.059370601000015;\n",
      "  #lf / sample        = 0.0;\n",
      "  #evals / sample     = 17.42025;\n",
      "  pre-cond. metric    = [1.0, 1.0].\n"
     ]
    }
   ],
   "cell_type": "code",
   "source": [
    "posterior = sample(m11_5(d[:admit],d[:applications]), Turing.NUTS(4000, 1000, 0.9));"
   ],
   "metadata": {},
   "execution_count": 3
  },
  {
   "outputs": [],
   "cell_type": "markdown",
   "source": [
    "Draw summary"
   ],
   "metadata": {}
  },
  {
   "outputs": [
    {
     "name": "stdout",
     "output_type": "stream",
     "text": [
      "Iterations = 1:4000\n",
      "Thinning interval = 1\n",
      "Chains = 1\n",
      "Samples per chain = 4000\n",
      "\n",
      "Empirical Posterior Estimates:\n",
      "              Mean           SD        Naive SE       MCSE         ESS   \n",
      "       α  -0.3727658956 0.316627690 0.00500632336 0.0065444670 2340.71866\n",
      "  lf_num   0.0000000000 0.000000000 0.00000000000 0.0000000000        NaN\n",
      " elapsed   0.0055148427 0.011580373 0.00018310177 0.0002359631 2408.55697\n",
      " epsilon   0.1873475827 0.116654900 0.00184447591 0.0079570227  214.93383\n",
      "      lp -71.1203546921 1.078809709 0.01705747921 0.0305501087 1246.99345\n",
      "eval_num  17.4202500000 7.494676943 0.11850124734 0.3393580832  487.74120\n",
      "       θ   2.7718770502 0.985180746 0.01557707533 0.0252877601 1517.78797\n",
      "  lf_eps   0.1873475827 0.116654900 0.00184447591 0.0079570227  214.93383\n",
      "\n",
      "Quantiles:\n",
      "               2.5%           25.0%         50.0%          75.0%         97.5%    \n",
      "       α  -0.98699232746  -0.5838617475  -0.376888910  -0.1659742742   0.267363481\n",
      "  lf_num   0.00000000000   0.0000000000   0.000000000   0.0000000000   0.000000000\n",
      " elapsed   0.00089887883   0.0026099643   0.005699774   0.0059299252   0.014240091\n",
      " epsilon   0.13754358798   0.1590737693   0.159073769   0.1590737693   0.374578436\n",
      "      lp -73.96605073855 -71.5446268450 -70.792078557 -70.3486020574 -70.064134519\n",
      "eval_num   4.00000000000  10.0000000000  22.000000000  22.0000000000  22.000000000\n",
      "       θ   1.20146708863   2.0848130638   2.648006496   3.3226333496   5.047626832\n",
      "  lf_eps   0.13754358798   0.1590737693   0.159073769   0.1590737693   0.374578436\n",
      "\n"
     ]
    }
   ],
   "cell_type": "code",
   "source": [
    "describe(posterior)"
   ],
   "metadata": {},
   "execution_count": 4
  },
  {
   "outputs": [],
   "cell_type": "markdown",
   "source": [
    "Result rethinking"
   ],
   "metadata": {}
  },
  {
   "outputs": [],
   "cell_type": "code",
   "source": [
    "m115rethinking = \"\n",
    "         mean   sd  5.5% 94.5% n_eff Rhat\n",
    "theta  2.74 0.96  1.43  4.37  3583    1\n",
    "a       -0.37 0.31 -0.87  0.12  3210    1\n",
    "\";"
   ],
   "metadata": {},
   "execution_count": 5
  },
  {
   "outputs": [],
   "cell_type": "markdown",
   "source": [
    "*This notebook was generated using [Literate.jl](https://github.com/fredrikekre/Literate.jl).*"
   ],
   "metadata": {}
  }
 ],
 "nbformat_minor": 3,
 "metadata": {
  "language_info": {
   "file_extension": ".jl",
   "mimetype": "application/julia",
   "name": "julia",
   "version": "1.2.0-DEV.283"
  },
  "kernelspec": {
   "name": "julia-1.2",
   "display_name": "Julia 1.2.0-DEV.283",
   "language": "julia"
  }
 },
 "nbformat": 4
}
