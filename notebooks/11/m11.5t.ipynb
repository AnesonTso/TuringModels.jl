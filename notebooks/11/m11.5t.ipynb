{
 "cells": [
  {
   "outputs": [
    {
     "output_type": "execute_result",
     "data": {
      "text/plain": "(12, 5)"
     },
     "metadata": {},
     "execution_count": 1
    }
   ],
   "cell_type": "code",
   "source": [
    "using TuringModels\n",
    "using Turing\n",
    "\n",
    "Turing.setadbackend(:reverse_diff)\n",
    "#nbTuring.turnprogress(false);\n",
    "\n",
    "d = CSV.read(rel_path(\"..\", \"data\", \"UCBadmit.csv\"), delim=';');\n",
    "size(d) # Should be 12x5"
   ],
   "metadata": {},
   "execution_count": 1
  },
  {
   "outputs": [],
   "cell_type": "markdown",
   "source": [
    "Turing model"
   ],
   "metadata": {}
  },
  {
   "outputs": [
    {
     "output_type": "execute_result",
     "data": {
      "text/plain": "m11_5 (generic function with 3 methods)"
     },
     "metadata": {},
     "execution_count": 2
    }
   ],
   "cell_type": "code",
   "source": [
    "@model m11_5(admit, applications) = begin\n",
    "    N=length(applications)\n",
    "    θ ~ Truncated(Exponential(1), 0, Inf)\n",
    "    α ~ Normal(0,2)\n",
    "\n",
    "    for i ∈ 1:N\n",
    "        prob = logistic(α)\n",
    "        # alpha and beta for the BetaBinomial must be provided.\n",
    "        # The two parameterizations are related by\n",
    "        # alpha = prob * theta, and beta = (1-prob) * theta.\n",
    "        # See https://github.com/rmcelreath/rethinking/blob/master/man/dbetabinom.Rd\n",
    "        alpha = prob * θ\n",
    "        beta = (1 - prob) * θ\n",
    "\n",
    "        admit[i] ~ BetaBinomial(applications[i], alpha, beta)\n",
    "    end\n",
    "end"
   ],
   "metadata": {},
   "execution_count": 2
  },
  {
   "outputs": [],
   "cell_type": "markdown",
   "source": [
    "Sample"
   ],
   "metadata": {}
  },
  {
   "outputs": [
    {
     "name": "stdout",
     "output_type": "stream",
     "text": [
      "┌ Info: [Turing] looking for good initial eps...\n",
      "└ @ Turing.Inference /Users/rob/.julia/packages/Turing/UXxKz/src/inference/support/hmc_core.jl:240\n",
      "┌ Info: \r[NUTS{Turing.Core.FluxTrackerAD,Union{}}] found initial ϵ: 0.1\n",
      "└ @ Turing.Inference /Users/rob/.julia/packages/Turing/UXxKz/src/inference/support/hmc_core.jl:235\n",
      "┌ Warning: Numerical error has been found in gradients.\n",
      "└ @ Turing.Core /Users/rob/.julia/packages/Turing/UXxKz/src/core/ad.jl:168\n",
      "┌ Warning: grad = [NaN, NaN]\n",
      "└ @ Turing.Core /Users/rob/.julia/packages/Turing/UXxKz/src/core/ad.jl:169\n",
      "┌ Info:  Adapted ϵ = 0.22640043955822706, std = [1.0, 1.0]; 1000 iterations is used for adaption.\n",
      "└ @ Turing.Inference /Users/rob/.julia/packages/Turing/UXxKz/src/inference/adapt/adapt.jl:91\n",
      "[NUTS] Finished with\n",
      "  Running time        = 23.116293342999985;\n",
      "  #lf / sample        = 0.0;\n",
      "  #evals / sample     = 14.90025;\n",
      "  pre-cond. metric    = [1.0, 1.0].\n"
     ]
    }
   ],
   "cell_type": "code",
   "source": [
    "posterior = sample(m11_5(d[:admit],d[:applications]), Turing.NUTS(4000, 1000, 0.9));"
   ],
   "metadata": {},
   "execution_count": 3
  },
  {
   "outputs": [],
   "cell_type": "markdown",
   "source": [
    "Draw summary"
   ],
   "metadata": {}
  },
  {
   "outputs": [
    {
     "name": "stdout",
     "output_type": "stream",
     "text": [
      "Iterations = 1:4000\n",
      "Thinning interval = 1\n",
      "Chains = 1\n",
      "Samples per chain = 4000\n",
      "\n",
      "Empirical Posterior Estimates:\n",
      "              Mean          SD        Naive SE        MCSE        ESS   \n",
      "       α  -0.378635554 0.314620755 0.00497459093 0.00559572502 3161.2731\n",
      "  lf_num   0.000000000 0.000000000 0.00000000000 0.00000000000       NaN\n",
      " elapsed   0.005779073 0.013603013 0.00021508252 0.00025877364 2763.3134\n",
      " epsilon   0.237155487 0.089244319 0.00141107659 0.00309149988  833.3409\n",
      "      lp -71.080908202 1.637159578 0.02588576579 0.04913323253 1110.2770\n",
      "eval_num  14.900250000 7.980834754 0.12618807726 0.16926556570 2223.1021\n",
      "       θ   2.765211316 0.936177529 0.01480226643 0.01708023688 3004.1986\n",
      "  lf_eps   0.237155487 0.089244319 0.00141107659 0.00309149988  833.3409\n",
      "\n",
      "Quantiles:\n",
      "               2.5%          25.0%          50.0%         75.0%         97.5%    \n",
      "       α  -0.96982173790  -0.584962094  -0.3839362530  -0.174712537   0.245038538\n",
      "  lf_num   0.00000000000   0.000000000   0.0000000000   0.000000000   0.000000000\n",
      " elapsed   0.00097642855   0.002769202   0.0033398805   0.006435812   0.023397412\n",
      " epsilon   0.15194569407   0.226400440   0.2264004396   0.226400440   0.362185658\n",
      "      lp -73.73201668087 -71.430896305 -70.7118327734 -70.321116191 -70.060236501\n",
      "eval_num   4.00000000000  10.000000000  10.0000000000  22.000000000  22.000000000\n",
      "       θ   1.23953741053   2.120694754   2.6487470337   3.285672726   4.945383999\n",
      "  lf_eps   0.15194569407   0.226400440   0.2264004396   0.226400440   0.362185658\n",
      "\n"
     ]
    }
   ],
   "cell_type": "code",
   "source": [
    "describe(posterior)"
   ],
   "metadata": {},
   "execution_count": 4
  },
  {
   "outputs": [],
   "cell_type": "markdown",
   "source": [
    "Result rethinking"
   ],
   "metadata": {}
  },
  {
   "outputs": [],
   "cell_type": "code",
   "source": [
    "m115rethinking = \"\n",
    "         mean   sd  5.5% 94.5% n_eff Rhat\n",
    "theta  2.74 0.96  1.43  4.37  3583    1\n",
    "a       -0.37 0.31 -0.87  0.12  3210    1\n",
    "\";"
   ],
   "metadata": {},
   "execution_count": 5
  },
  {
   "outputs": [],
   "cell_type": "markdown",
   "source": [
    "*This notebook was generated using [Literate.jl](https://github.com/fredrikekre/Literate.jl).*"
   ],
   "metadata": {}
  }
 ],
 "nbformat_minor": 3,
 "metadata": {
  "language_info": {
   "file_extension": ".jl",
   "mimetype": "application/julia",
   "name": "julia",
   "version": "1.1.0"
  },
  "kernelspec": {
   "name": "julia-1.1",
   "display_name": "Julia 1.1.0",
   "language": "julia"
  }
 },
 "nbformat": 4
}
