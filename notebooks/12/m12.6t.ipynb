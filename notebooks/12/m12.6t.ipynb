{
 "cells": [
  {
   "outputs": [
    {
     "output_type": "execute_result",
     "data": {
      "text/plain": "(10, 5)"
     },
     "metadata": {},
     "execution_count": 1
    }
   ],
   "cell_type": "code",
   "source": [
    "using TuringModels\n",
    "\n",
    "Turing.setadbackend(:reverse_diff)\n",
    "#nbTuring.turnprogress(false);\n",
    "\n",
    "d = CSV.read(rel_path(\"..\", \"data\", \"Kline.csv\"), delim=';');\n",
    "size(d) # Should be 10x5"
   ],
   "metadata": {},
   "execution_count": 1
  },
  {
   "outputs": [],
   "cell_type": "markdown",
   "source": [
    "New col log_pop, set log() for population data"
   ],
   "metadata": {}
  },
  {
   "outputs": [],
   "cell_type": "code",
   "source": [
    "d[:log_pop] = map((x) -> log(x), d[:population]);\n",
    "d[:society] = 1:10;"
   ],
   "metadata": {},
   "execution_count": 2
  },
  {
   "outputs": [],
   "cell_type": "markdown",
   "source": [
    "Turing model"
   ],
   "metadata": {}
  },
  {
   "outputs": [
    {
     "output_type": "execute_result",
     "data": {
      "text/plain": "m12_6 (generic function with 4 methods)"
     },
     "metadata": {},
     "execution_count": 3
    }
   ],
   "cell_type": "code",
   "source": [
    "@model m12_6(total_tools, log_pop, society) = begin\n",
    "    # Total num of y\n",
    "    N = length(total_tools)\n",
    "    # priors\n",
    "    α ~ Normal(0, 10)\n",
    "    βp ~ Normal(0, 1)\n",
    "    # Separate σ priors for each society\n",
    "    σ_society ~ Truncated(Cauchy(0, 1), 0, Inf)\n",
    "    # Number of unique societies in the data set\n",
    "    N_society = length(unique(society)) #10\n",
    "    # Vector of societies (1,..,10) which we'll set priors on\n",
    "    α_society = Vector{Real}(undef, N_society)\n",
    "    # For each society [1,..,10] set a prior N(0, σ_society)\n",
    "    α_society ~ [Normal(0, σ_society)]\n",
    "\n",
    "    for i ∈ 1:N\n",
    "        λ = exp(α + α_society[society[i]] + βp*log_pop[i])\n",
    "        total_tools[i] ~ Poisson(λ)\n",
    "    end\n",
    "end"
   ],
   "metadata": {},
   "execution_count": 3
  },
  {
   "outputs": [],
   "cell_type": "markdown",
   "source": [
    "Sample"
   ],
   "metadata": {}
  },
  {
   "outputs": [
    {
     "name": "stdout",
     "output_type": "stream",
     "text": [
      "┌ Info: [Turing] looking for good initial eps...\n",
      "└ @ Turing.Inference /Users/rob/.julia/dev/Turing/src/inference/support/hmc_core.jl:240\n",
      "┌ Warning: Numerical error has been found in gradients.\n",
      "└ @ Turing.Core /Users/rob/.julia/dev/Turing/src/core/ad.jl:168\n",
      "┌ Warning: grad = [NaN, NaN, -2.6887e6, NaN, NaN, NaN, NaN, NaN, NaN, NaN, NaN, NaN, NaN]\n",
      "└ @ Turing.Core /Users/rob/.julia/dev/Turing/src/core/ad.jl:169\n",
      "┌ Warning: Numerical error has been found in gradients.\n",
      "└ @ Turing.Core /Users/rob/.julia/dev/Turing/src/core/ad.jl:168\n",
      "┌ Warning: grad = [NaN, NaN, -2.80234e6, NaN, NaN, NaN, NaN, NaN, NaN, NaN, NaN, NaN, NaN]\n",
      "└ @ Turing.Core /Users/rob/.julia/dev/Turing/src/core/ad.jl:169\n",
      "┌ Warning: Numerical error has been found in gradients.\n",
      "└ @ Turing.Core /Users/rob/.julia/dev/Turing/src/core/ad.jl:168\n",
      "┌ Warning: grad = [NaN, NaN, -1.35465e5, NaN, NaN, NaN, NaN, NaN, NaN, NaN, NaN, NaN, NaN]\n",
      "└ @ Turing.Core /Users/rob/.julia/dev/Turing/src/core/ad.jl:169\n",
      "┌ Warning: Numerical error has been found in gradients.\n",
      "└ @ Turing.Core /Users/rob/.julia/dev/Turing/src/core/ad.jl:168\n",
      "┌ Warning: grad = [NaN, NaN, -7712.13, NaN, NaN, NaN, NaN, NaN, NaN, NaN, NaN, NaN, NaN]\n",
      "└ @ Turing.Core /Users/rob/.julia/dev/Turing/src/core/ad.jl:169\n",
      "┌ Warning: Numerical error has been found in gradients.\n",
      "└ @ Turing.Core /Users/rob/.julia/dev/Turing/src/core/ad.jl:168\n",
      "┌ Warning: grad = [NaN, NaN, -521.453, NaN, NaN, NaN, NaN, NaN, NaN, NaN, NaN, NaN, NaN]\n",
      "└ @ Turing.Core /Users/rob/.julia/dev/Turing/src/core/ad.jl:169\n",
      "┌ Warning: Numerical error has been found in gradients.\n",
      "└ @ Turing.Core /Users/rob/.julia/dev/Turing/src/core/ad.jl:168\n",
      "┌ Warning: grad = [NaN, NaN, -18.9496, NaN, NaN, NaN, NaN, NaN, NaN, NaN, NaN, NaN, NaN]\n",
      "└ @ Turing.Core /Users/rob/.julia/dev/Turing/src/core/ad.jl:169\n",
      "┌ Warning: Numerical error has been found in gradients.\n",
      "└ @ Turing.Core /Users/rob/.julia/dev/Turing/src/core/ad.jl:168\n",
      "┌ Warning: grad = [NaN, NaN, 9.33567, NaN, NaN, NaN, NaN, NaN, NaN, NaN, NaN, NaN, NaN]\n",
      "└ @ Turing.Core /Users/rob/.julia/dev/Turing/src/core/ad.jl:169\n",
      "┌ Info: \r[NUTS{Turing.Core.FluxTrackerAD,Union{}}] found initial ϵ: 0.00078125\n",
      "└ @ Turing.Inference /Users/rob/.julia/dev/Turing/src/inference/support/hmc_core.jl:235\n",
      "┌ Info:  Adapted ϵ = 0.005268376453490762, std = [1.0, 1.0, 1.0, 1.0, 1.0, 1.0, 1.0, 1.0, 1.0, 1.0, 1.0, 1.0, 1.0]; 1000 iterations is used for adaption.\n",
      "└ @ Turing.Inference /Users/rob/.julia/dev/Turing/src/inference/adapt/adapt.jl:91\n",
      "[NUTS] Finished with\n",
      "  Running time        = 231.38672964099973;\n",
      "  #lf / sample        = 0.0;\n",
      "  #evals / sample     = 188.521;\n",
      "  pre-cond. metric    = [1.0, 1.0, 1.0, 1.0, 1.0, 1.0,....\n"
     ]
    },
    {
     "output_type": "execute_result",
     "data": {
      "text/plain": "Object of type \"Chains{Float64}\"\n\nIterations = 1:3000\nThinning interval = 1\nChains = 1\nSamples per chain = 3000\n\nUnion{Missing, Float64}[0.511546 0.079982 … 0.218663 0.00526838; 0.306171 0.0664622 … 0.129788 0.00526838; … ; 1.28427 0.313298 … 0.129042 0.00526838; 1.30485 0.531285 … 0.106524 0.00526838]"
     },
     "metadata": {},
     "execution_count": 4
    }
   ],
   "cell_type": "code",
   "source": [
    "posterior = sample(m12_6(d[:total_tools], d[:log_pop],\n",
    "    d[:society]), Turing.NUTS(4000, 1000, 0.95));\n",
    "# Fix the inclusion of adaptation samples\n",
    "posterior2 = MCMCChain.Chains(posterior.value[1001:4000,:,:], names=posterior.names)"
   ],
   "metadata": {},
   "execution_count": 4
  },
  {
   "outputs": [],
   "cell_type": "markdown",
   "source": [
    "Results rethinking"
   ],
   "metadata": {}
  },
  {
   "outputs": [],
   "cell_type": "code",
   "source": [
    "m126rethinking = \"\n",
    "              Mean StdDev lower 0.89 upper 0.89 n_eff Rhat\n",
    "a              1.11   0.75      -0.05       2.24  1256    1\n",
    "bp             0.26   0.08       0.13       0.38  1276    1\n",
    "a_society[1]  -0.20   0.24      -0.57       0.16  2389    1\n",
    "a_society[2]   0.04   0.21      -0.29       0.38  2220    1\n",
    "a_society[3]  -0.05   0.19      -0.36       0.25  3018    1\n",
    "a_society[4]   0.32   0.18       0.01       0.60  2153    1\n",
    "a_society[5]   0.04   0.18      -0.22       0.33  3196    1\n",
    "a_society[6]  -0.32   0.21      -0.62       0.02  2574    1\n",
    "a_society[7]   0.14   0.17      -0.13       0.40  2751    1\n",
    "a_society[8]  -0.18   0.19      -0.46       0.12  2952    1\n",
    "a_society[9]   0.27   0.17      -0.02       0.52  2540    1\n",
    "a_society[10] -0.10   0.30      -0.52       0.37  1433    1\n",
    "sigma_society  0.31   0.13       0.11       0.47  1345    1\n",
    "\";"
   ],
   "metadata": {},
   "execution_count": 5
  },
  {
   "outputs": [],
   "cell_type": "markdown",
   "source": [
    "Describe the posterior samples"
   ],
   "metadata": {}
  },
  {
   "outputs": [
    {
     "name": "stdout",
     "output_type": "stream",
     "text": [
      "Iterations = 1:3000\n",
      "Thinning interval = 1\n",
      "Chains = 1\n",
      "Samples per chain = 3000\n",
      "\n",
      "Empirical Posterior Estimates:\n",
      "                   Mean           SD        Naive SE        MCSE         ESS    \n",
      "            α   0.9789482151 0.707105495 0.01290992101 0.09145045945   59.785607\n",
      " α_society[9]   0.2802624743 0.178611963 0.00326099337 0.01221015353  213.982786\n",
      "       lf_num   0.0000000000 0.000000000 0.00000000000 0.00000000000         NaN\n",
      " α_society[8]  -0.1656160241 0.185150623 0.00338037242 0.00943854300  384.804761\n",
      "      elapsed   0.0583991339 0.006626841 0.00012098901 0.00010653978 3000.000000\n",
      "      epsilon   0.0052683765 0.000000000 0.00000000000 0.00000000000         NaN\n",
      " α_society[3]  -0.0205704670 0.191450604 0.00349539381 0.01049993370  332.460740\n",
      " α_society[1]  -0.1745270821 0.226456252 0.00413450658 0.01409274896  258.212462\n",
      "α_society[10]  -0.1205820633 0.290395142 0.00530186566 0.03191225118   82.806382\n",
      " α_society[5]   0.0577537810 0.174798482 0.00319136904 0.00978545836  319.089832\n",
      "     eval_num 189.8800000000 3.942433376 0.07197865639 0.08357528095 2225.220413\n",
      " α_society[7]   0.1581743623 0.179725500 0.00328132368 0.01071031415  281.588544\n",
      "    σ_society   0.3105381574 0.126539937 0.00231029260 0.01235086823  104.968805\n",
      " α_society[6]  -0.3110363093 0.200193799 0.00365502198 0.00953255975  441.044255\n",
      "           βp   0.2731287925 0.077299968 0.00141129786 0.00987266516   61.304140\n",
      " α_society[2]   0.0681683577 0.217903583 0.00397835692 0.01704932089  163.348283\n",
      "           lp -38.9375502814 3.089011955 0.05639738427 0.24101086456  164.272905\n",
      " α_society[4]   0.3505793709 0.189279787 0.00345576031 0.01509478492  157.236954\n",
      "       lf_eps   0.0052683765 0.000000000 0.00000000000 0.00000000000         NaN\n",
      "\n",
      "Quantiles:\n",
      "                   2.5%           25.0%          50.0%          75.0%          97.5%    \n",
      "            α  -0.6262647166   0.5587185645   1.0123975608   1.4203973617   2.3902526146\n",
      " α_society[9]  -0.0515114012   0.1607672612   0.2783809229   0.3956882222   0.6415399245\n",
      "       lf_num   0.0000000000   0.0000000000   0.0000000000   0.0000000000   0.0000000000\n",
      " α_society[8]  -0.5452890643  -0.2755866050  -0.1631049929  -0.0464890615   0.1899175724\n",
      "      elapsed   0.0488489669   0.0513450892   0.0608931215   0.0626632098   0.0684839291\n",
      "      epsilon   0.0052683765   0.0052683765   0.0052683765   0.0052683765   0.0052683765\n",
      " α_society[3]  -0.4062357475  -0.1459856042  -0.0234072515   0.1056888983   0.3636267577\n",
      " α_society[1]  -0.6490935784  -0.3140129698  -0.1623809135  -0.0310551279   0.2513876731\n",
      "α_society[10]  -0.7478362047  -0.2793582417  -0.1007792201   0.0536718201   0.4382514469\n",
      " α_society[5]  -0.2783823062  -0.0547764107   0.0531089928   0.1661148093   0.4343760242\n",
      "     eval_num 190.0000000000 190.0000000000 190.0000000000 190.0000000000 190.0000000000\n",
      " α_society[7]  -0.1919781868   0.0427274452   0.1555482940   0.2669011900   0.5315586986\n",
      "    σ_society   0.1298843293   0.2255508918   0.2922806154   0.3701103604   0.6072322297\n",
      " α_society[6]  -0.7551271844  -0.4364108781  -0.2957333698  -0.1714604123   0.0352830759\n",
      "           βp   0.1171845603   0.2257629069   0.2692474549   0.3191172924   0.4473919348\n",
      " α_society[2]  -0.3361852840  -0.0756057418   0.0563020058   0.2043181677   0.5283800976\n",
      "           lp -45.5746444577 -40.8712592836 -38.5904969512 -36.6785959165 -33.9193086654\n",
      " α_society[4]   0.0168924398   0.2187674012   0.3413125746   0.4735762964   0.7439322788\n",
      "       lf_eps   0.0052683765   0.0052683765   0.0052683765   0.0052683765   0.0052683765\n",
      "\n"
     ]
    }
   ],
   "cell_type": "code",
   "source": [
    "describe(posterior2)"
   ],
   "metadata": {},
   "execution_count": 6
  },
  {
   "outputs": [],
   "cell_type": "markdown",
   "source": [
    "End of m12.6t.jl"
   ],
   "metadata": {}
  },
  {
   "outputs": [],
   "cell_type": "markdown",
   "source": [
    "*This notebook was generated using [Literate.jl](https://github.com/fredrikekre/Literate.jl).*"
   ],
   "metadata": {}
  }
 ],
 "nbformat_minor": 3,
 "metadata": {
  "language_info": {
   "file_extension": ".jl",
   "mimetype": "application/julia",
   "name": "julia",
   "version": "1.2.0-DEV.291"
  },
  "kernelspec": {
   "name": "julia-1.2",
   "display_name": "Julia 1.2.0-DEV.291",
   "language": "julia"
  }
 },
 "nbformat": 4
}
