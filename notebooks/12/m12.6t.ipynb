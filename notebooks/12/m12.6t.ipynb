{
 "cells": [
  {
   "cell_type": "code",
   "execution_count": 7,
   "metadata": {},
   "outputs": [
    {
     "name": "stderr",
     "output_type": "stream",
     "text": [
      "┌ Info: [Turing]: global PROGRESS is set as false\n",
      "└ @ Turing /Users/rob/.julia/packages/Turing/r03H1/src/Turing.jl:24\n"
     ]
    },
    {
     "data": {
      "text/plain": [
       "(10, 5)"
      ]
     },
     "execution_count": 7,
     "metadata": {},
     "output_type": "execute_result"
    }
   ],
   "source": [
    "using TuringModels\n",
    "\n",
    "Turing.setadbackend(:reverse_diff)\n",
    "Turing.turnprogress(false)\n",
    "\n",
    "d = CSV.read(rel_path(\"..\", \"data\", \"Kline.csv\"), delim=';');\n",
    "size(d) # Should be 10x5"
   ]
  },
  {
   "cell_type": "markdown",
   "metadata": {},
   "source": [
    "New col log_pop, set log() for population data"
   ]
  },
  {
   "cell_type": "code",
   "execution_count": 8,
   "metadata": {},
   "outputs": [],
   "source": [
    "d[:log_pop] = map((x) -> log(x), d[:population]);\n",
    "d[:society] = 1:10;"
   ]
  },
  {
   "cell_type": "markdown",
   "metadata": {},
   "source": [
    "Turing model"
   ]
  },
  {
   "cell_type": "code",
   "execution_count": 9,
   "metadata": {},
   "outputs": [
    {
     "data": {
      "text/plain": [
       "m12_6 (generic function with 4 methods)"
      ]
     },
     "execution_count": 9,
     "metadata": {},
     "output_type": "execute_result"
    }
   ],
   "source": [
    "@model m12_6(total_tools, log_pop, society) = begin\n",
    "    # Total num of y\n",
    "    N = length(total_tools)\n",
    "    # priors\n",
    "    α ~ Normal(0, 10)\n",
    "    βp ~ Normal(0, 1)\n",
    "    # Separate σ priors for each society\n",
    "    σ_society ~ Truncated(Cauchy(0, 1), 0, Inf)\n",
    "    # Number of unique societies in the data set\n",
    "    N_society = length(unique(society)) #10\n",
    "    # Vector of societies (1,..,10) which we'll set priors on\n",
    "    α_society = Vector{Real}(undef, N_society)\n",
    "    # For each society [1,..,10] set a prior N(0, σ_society)\n",
    "    α_society ~ [Normal(0, σ_society)]\n",
    "\n",
    "    for i ∈ 1:N\n",
    "        λ = exp(α + α_society[society[i]] + βp*log_pop[i])\n",
    "        total_tools[i] ~ Poisson(λ)\n",
    "    end\n",
    "end"
   ]
  },
  {
   "cell_type": "markdown",
   "metadata": {},
   "source": [
    "Sample"
   ]
  },
  {
   "cell_type": "code",
   "execution_count": 10,
   "metadata": {},
   "outputs": [
    {
     "name": "stderr",
     "output_type": "stream",
     "text": [
      "┌ Info: [Turing] looking for good initial eps...\n",
      "└ @ Turing.Inference /Users/rob/.julia/packages/Turing/r03H1/src/inference/support/hmc_core.jl:240\n",
      "┌ Warning: Numerical error has been found in gradients.\n",
      "└ @ Turing.Core /Users/rob/.julia/packages/Turing/r03H1/src/core/ad.jl:169\n",
      "┌ Warning: grad = [NaN, NaN, 3.975875826723833e81, NaN, NaN, NaN, NaN, NaN, NaN, NaN, NaN, NaN, NaN]\n",
      "└ @ Turing.Core /Users/rob/.julia/packages/Turing/r03H1/src/core/ad.jl:170\n",
      "┌ Warning: Numerical error has been found in gradients.\n",
      "└ @ Turing.Core /Users/rob/.julia/packages/Turing/r03H1/src/core/ad.jl:169\n",
      "┌ Warning: grad = [NaN, NaN, 1.5404851023330582e36, NaN, NaN, NaN, NaN, NaN, NaN, NaN, NaN, NaN, NaN]\n",
      "└ @ Turing.Core /Users/rob/.julia/packages/Turing/r03H1/src/core/ad.jl:170\n",
      "[NUTS{Turing.Core.FluxTrackerAD,Union{}}] found initial ϵ: 0.0125\n",
      "└ @ Turing.Inference /Users/rob/.julia/packages/Turing/r03H1/src/inference/support/hmc_core.jl:235\n",
      "┌ Info:  Adapted ϵ = 0.004603497304111276, std = [1.0, 1.0, 1.0, 1.0, 1.0, 1.0, 1.0, 1.0, 1.0, 1.0, 1.0, 1.0, 1.0]; 1000 iterations is used for adaption.\n",
      "└ @ Turing.Inference /Users/rob/.julia/packages/Turing/r03H1/src/inference/adapt/adapt.jl:91\n"
     ]
    },
    {
     "name": "stdout",
     "output_type": "stream",
     "text": [
      "[NUTS] Finished with\n",
      "  Running time        = 196.16798833699977;\n",
      "  #lf / sample        = 0.0;\n",
      "  #evals / sample     = 189.32975;\n",
      "  pre-cond. metric    = [1.0, 1.0, 1.0, 1.0, 1.0, 1.0,....\n"
     ]
    },
    {
     "data": {
      "text/plain": [
       "Object of type Chains, with data of type 3000×13×1 Array{Union{Missing, Float64},3}\n",
       "\n",
       "Log evidence      = 0.0\n",
       "Iterations        = 1001:4000\n",
       "Thinning interval = 1\n",
       "Chains            = Chain1\n",
       "Samples per chain = 3000\n",
       "parameters        = α_society[5], α_society[9], α_society[3], α_society[6], α_society[8], α_society[1], βp, α_society[10], σ_society, α, α_society[2], α_society[4], α_society[7]\n",
       "\n",
       "parameters\n",
       "                Mean    SD   Naive SE  MCSE     ESS  \n",
       "            α  1.0131 0.8098   0.0148 0.1170  47.9312\n",
       " α_society[1] -0.1869 0.2628   0.0048 0.0274  91.8357\n",
       " α_society[2]  0.0725 0.2366   0.0043 0.0222 113.4874\n",
       " α_society[3] -0.0192 0.2089   0.0038 0.0160 171.3097\n",
       " α_society[4]  0.3666 0.2069   0.0038 0.0180 131.4825\n",
       " α_society[5]  0.0727 0.1925   0.0035 0.0126 232.8379\n",
       " α_society[6] -0.3322 0.2107   0.0038 0.0131 258.9057\n",
       " α_society[7]  0.1750 0.1813   0.0033 0.0110 273.2586\n",
       " α_society[8] -0.1702 0.1895   0.0035 0.0089 455.1627\n",
       " α_society[9]  0.2971 0.1775   0.0032 0.0089 397.5320\n",
       "α_society[10] -0.1077 0.2929   0.0053 0.0340  74.0449\n",
       "           βp  0.2685 0.0857   0.0016 0.0122  49.1601\n",
       "    σ_society  0.3309 0.1184   0.0022 0.0120  97.7657\n",
       "\n"
      ]
     },
     "execution_count": 10,
     "metadata": {},
     "output_type": "execute_result"
    }
   ],
   "source": [
    "posterior = sample(m12_6(d[:total_tools], d[:log_pop],\n",
    "    d[:society]), Turing.NUTS(4000, 1000, 0.95));\n",
    "# Fix the inclusion of adaptation samples\n",
    "draws = 1001:4000\n",
    "posterior2 = Chains(posterior[draws,:,:], :parameters)"
   ]
  },
  {
   "cell_type": "markdown",
   "metadata": {},
   "source": [
    "Results rethinking"
   ]
  },
  {
   "cell_type": "code",
   "execution_count": 11,
   "metadata": {},
   "outputs": [],
   "source": [
    "m126rethinking = \"\n",
    "              Mean StdDev lower 0.89 upper 0.89 n_eff Rhat\n",
    "a              1.11   0.75      -0.05       2.24  1256    1\n",
    "bp             0.26   0.08       0.13       0.38  1276    1\n",
    "a_society[1]  -0.20   0.24      -0.57       0.16  2389    1\n",
    "a_society[2]   0.04   0.21      -0.29       0.38  2220    1\n",
    "a_society[3]  -0.05   0.19      -0.36       0.25  3018    1\n",
    "a_society[4]   0.32   0.18       0.01       0.60  2153    1\n",
    "a_society[5]   0.04   0.18      -0.22       0.33  3196    1\n",
    "a_society[6]  -0.32   0.21      -0.62       0.02  2574    1\n",
    "a_society[7]   0.14   0.17      -0.13       0.40  2751    1\n",
    "a_society[8]  -0.18   0.19      -0.46       0.12  2952    1\n",
    "a_society[9]   0.27   0.17      -0.02       0.52  2540    1\n",
    "a_society[10] -0.10   0.30      -0.52       0.37  1433    1\n",
    "sigma_society  0.31   0.13       0.11       0.47  1345    1\n",
    "\";"
   ]
  },
  {
   "cell_type": "markdown",
   "metadata": {},
   "source": [
    "Describe the posterior samples"
   ]
  },
  {
   "cell_type": "code",
   "execution_count": 12,
   "metadata": {},
   "outputs": [
    {
     "name": "stdout",
     "output_type": "stream",
     "text": [
      "Log evidence      = 0.0\n",
      "Iterations        = 1001:4000\n",
      "Thinning interval = 1\n",
      "Chains            = Chain1\n",
      "Samples per chain = 3000\n",
      "parameters        = α_society[5], α_society[9], α_society[3], α_society[6], α_society[8], α_society[1], βp, α_society[10], σ_society, α, α_society[2], α_society[4], α_society[7]\n",
      "\n"
     ]
    },
    {
     "name": "stderr",
     "output_type": "stream",
     "text": [
      "┌ Warning: `quantile(v::AbstractArray{<:Real})` is deprecated, use `quantile(v, [0.0, 0.25, 0.5, 0.75, 1.0])` instead.\n",
      "│   caller = (::getfield(MCMCChains, Symbol(\"##102#104\")){Chains{Union{Missing, Float64},Float64,NamedTuple{(:parameters,),Tuple{Array{String,1}}},NamedTuple{(:hashedsummary,),Tuple{Base.RefValue{Tuple{UInt64,MCMCChains.ChainSummaries}}}}}})(::String) at none:0\n",
      "└ @ MCMCChains ./none:0\n"
     ]
    },
    {
     "name": "stdout",
     "output_type": "stream",
     "text": [
      "\u001b[36m\u001b[1mEmpirical Posterior Estimates\u001b[22m\u001b[39m\n",
      "─────────────────────────────────────────────────────\n",
      "parameters\n",
      "                Mean    SD   Naive SE  MCSE     ESS  \n",
      "            α  1.0131 0.8098   0.0148 0.1170  47.9312\n",
      " α_society[1] -0.1869 0.2628   0.0048 0.0274  91.8357\n",
      " α_society[2]  0.0725 0.2366   0.0043 0.0222 113.4874\n",
      " α_society[3] -0.0192 0.2089   0.0038 0.0160 171.3097\n",
      " α_society[4]  0.3666 0.2069   0.0038 0.0180 131.4825\n",
      " α_society[5]  0.0727 0.1925   0.0035 0.0126 232.8379\n",
      " α_society[6] -0.3322 0.2107   0.0038 0.0131 258.9057\n",
      " α_society[7]  0.1750 0.1813   0.0033 0.0110 273.2586\n",
      " α_society[8] -0.1702 0.1895   0.0035 0.0089 455.1627\n",
      " α_society[9]  0.2971 0.1775   0.0032 0.0089 397.5320\n",
      "α_society[10] -0.1077 0.2929   0.0053 0.0340  74.0449\n",
      "           βp  0.2685 0.0857   0.0016 0.0122  49.1601\n",
      "    σ_society  0.3309 0.1184   0.0022 0.0120  97.7657\n",
      "\n",
      "\u001b[36m\u001b[1mQuantiles\u001b[22m\u001b[39m\n",
      "─────────────────────────────────────────────────────\n",
      "parameters\n",
      "                2.5%   25.0%   50.0%   75.0%   97.5%\n",
      "            α -1.9097  0.5650  1.1230  1.5701 2.9674\n",
      " α_society[1] -0.9649 -0.3578 -0.1898 -0.0308 0.8134\n",
      " α_society[2] -0.7020 -0.0856  0.0478  0.2050 1.1970\n",
      " α_society[3] -0.7583 -0.1486 -0.0274  0.1092 0.7739\n",
      " α_society[4] -0.2466  0.2232  0.3541  0.4903 1.1594\n",
      " α_society[5] -0.6097 -0.0515  0.0675  0.1932 0.7374\n",
      " α_society[6] -1.1308 -0.4671 -0.3199 -0.1882 0.5029\n",
      " α_society[7] -0.4311  0.0523  0.1669  0.2836 0.9332\n",
      " α_society[8] -0.7607 -0.2923 -0.1698 -0.0388 0.5453\n",
      " α_society[9] -0.4227  0.1762  0.2881  0.4116 0.9183\n",
      "α_society[10] -1.1368 -0.2898 -0.0896  0.0916 0.7851\n",
      "           βp  0.0498  0.2081  0.2575  0.3182 0.5793\n",
      "    σ_society  0.0436  0.2467  0.3137  0.3965 1.1329\n",
      "\n"
     ]
    },
    {
     "data": {
      "text/html": [
       "<table class=\"data-frame\"><thead><tr><th></th><th>α</th><th>α_society_1</th><th>α_society_2</th><th>α_society_3</th><th>α_society_4</th><th>α_society_5</th><th>α_society_6</th><th>α_society_7</th><th>α_society_8</th><th>α_society_9</th><th>α_society_10</th><th>βp</th><th>σ_society</th></tr><tr><th></th><th>Float64</th><th>Float64</th><th>Float64</th><th>Float64</th><th>Float64</th><th>Float64</th><th>Float64</th><th>Float64</th><th>Float64</th><th>Float64</th><th>Float64</th><th>Float64</th><th>Float64</th></tr></thead><tbody><p>5 rows × 13 columns</p><tr><th>1</th><td>0.468659</td><td>0.0997899</td><td>0.0627841</td><td>0.131921</td><td>0.18443</td><td>0.0221748</td><td>-0.117291</td><td>0.189045</td><td>-0.257996</td><td>0.203787</td><td>-0.218552</td><td>0.319401</td><td>0.217443</td></tr><tr><th>2</th><td>0.586306</td><td>0.0517588</td><td>0.0721921</td><td>0.12386</td><td>0.126687</td><td>0.00442691</td><td>-0.0824298</td><td>0.174092</td><td>-0.202191</td><td>0.21546</td><td>-0.178376</td><td>0.312929</td><td>0.209458</td></tr><tr><th>3</th><td>0.687747</td><td>0.0621691</td><td>0.160311</td><td>-0.352538</td><td>0.432242</td><td>0.0729015</td><td>-0.32996</td><td>0.118331</td><td>-0.343966</td><td>0.29101</td><td>-0.123686</td><td>0.304788</td><td>0.194923</td></tr><tr><th>4</th><td>0.713992</td><td>0.0974287</td><td>0.22961</td><td>0.167159</td><td>0.280534</td><td>0.159729</td><td>-0.141922</td><td>0.0661826</td><td>-0.0955419</td><td>-0.0728205</td><td>-0.0705672</td><td>0.306378</td><td>0.179783</td></tr><tr><th>5</th><td>0.774082</td><td>0.13936</td><td>0.256276</td><td>0.129645</td><td>0.285317</td><td>-0.0341815</td><td>-0.220036</td><td>0.219055</td><td>0.0609183</td><td>0.0107175</td><td>-0.079961</td><td>0.28998</td><td>0.146416</td></tr></tbody></table>"
      ],
      "text/latex": [
       "\\begin{tabular}{r|ccccccccccccc}\n",
       "\t& α & α\\_society\\_1 & α\\_society\\_2 & α\\_society\\_3 & α\\_society\\_4 & α\\_society\\_5 & α\\_society\\_6 & α\\_society\\_7 & α\\_society\\_8 & α\\_society\\_9 & α\\_society\\_10 & βp & σ\\_society\\\\\n",
       "\t\\hline\n",
       "\t& Float64 & Float64 & Float64 & Float64 & Float64 & Float64 & Float64 & Float64 & Float64 & Float64 & Float64 & Float64 & Float64\\\\\n",
       "\t\\hline\n",
       "\t1 & 0.468659 & 0.0997899 & 0.0627841 & 0.131921 & 0.18443 & 0.0221748 & -0.117291 & 0.189045 & -0.257996 & 0.203787 & -0.218552 & 0.319401 & 0.217443 \\\\\n",
       "\t2 & 0.586306 & 0.0517588 & 0.0721921 & 0.12386 & 0.126687 & 0.00442691 & -0.0824298 & 0.174092 & -0.202191 & 0.21546 & -0.178376 & 0.312929 & 0.209458 \\\\\n",
       "\t3 & 0.687747 & 0.0621691 & 0.160311 & -0.352538 & 0.432242 & 0.0729015 & -0.32996 & 0.118331 & -0.343966 & 0.29101 & -0.123686 & 0.304788 & 0.194923 \\\\\n",
       "\t4 & 0.713992 & 0.0974287 & 0.22961 & 0.167159 & 0.280534 & 0.159729 & -0.141922 & 0.0661826 & -0.0955419 & -0.0728205 & -0.0705672 & 0.306378 & 0.179783 \\\\\n",
       "\t5 & 0.774082 & 0.13936 & 0.256276 & 0.129645 & 0.285317 & -0.0341815 & -0.220036 & 0.219055 & 0.0609183 & 0.0107175 & -0.079961 & 0.28998 & 0.146416 \\\\\n",
       "\\end{tabular}\n"
      ],
      "text/plain": [
       "5×13 DataFrame. Omitted printing of 8 columns\n",
       "│ Row │ α        │ α_society_1 │ α_society_2 │ α_society_3 │ α_society_4 │\n",
       "│     │ \u001b[90mFloat64\u001b[39m  │ \u001b[90mFloat64\u001b[39m     │ \u001b[90mFloat64\u001b[39m     │ \u001b[90mFloat64\u001b[39m     │ \u001b[90mFloat64\u001b[39m     │\n",
       "├─────┼──────────┼─────────────┼─────────────┼─────────────┼─────────────┤\n",
       "│ 1   │ 0.468659 │ 0.0997899   │ 0.0627841   │ 0.131921    │ 0.18443     │\n",
       "│ 2   │ 0.586306 │ 0.0517588   │ 0.0721921   │ 0.12386     │ 0.126687    │\n",
       "│ 3   │ 0.687747 │ 0.0621691   │ 0.160311    │ -0.352538   │ 0.432242    │\n",
       "│ 4   │ 0.713992 │ 0.0974287   │ 0.22961     │ 0.167159    │ 0.280534    │\n",
       "│ 5   │ 0.774082 │ 0.13936     │ 0.256276    │ 0.129645    │ 0.285317    │"
      ]
     },
     "execution_count": 12,
     "metadata": {},
     "output_type": "execute_result"
    }
   ],
   "source": [
    "describe(posterior2)\n",
    "\n",
    "cnames = [\n",
    "  :α,:α_society_1, :α_society_2, :α_society_3,\n",
    "  :α_society_4, :α_society_5, :α_society_6,\n",
    "  :α_society_7, :α_society_8,:α_society_9,\n",
    "  :α_society_10, :βp, :σ_society\n",
    "]\n",
    "\n",
    "df = DataFrame(convert(Matrix{Float64}, to_df(posterior2)), cnames)\n",
    "first(df, 5)"
   ]
  },
  {
   "cell_type": "markdown",
   "metadata": {},
   "source": [
    "End of m12.6t.jl"
   ]
  },
  {
   "cell_type": "markdown",
   "metadata": {},
   "source": [
    "*This notebook was generated using [Literate.jl](https://github.com/fredrikekre/Literate.jl).*"
   ]
  }
 ],
 "metadata": {
  "kernelspec": {
   "display_name": "Julia 1.2.0-DEV",
   "language": "julia",
   "name": "julia-1.2"
  },
  "language_info": {
   "file_extension": ".jl",
   "mimetype": "application/julia",
   "name": "julia",
   "version": "1.2.0"
  }
 },
 "nbformat": 4,
 "nbformat_minor": 3
}
