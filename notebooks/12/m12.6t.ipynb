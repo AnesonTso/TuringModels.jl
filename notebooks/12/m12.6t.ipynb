{
 "cells": [
  {
   "outputs": [],
   "cell_type": "code",
   "source": [
    "using TuringModels\n",
    "\n",
    "Turing.setadbackend(:reverse_diff)\n",
    "#nbTuring.turnprogress(false);\n",
    "\n",
    "d = CSV.read(rel_path(\"..\", \"data\", \"Kline.csv\"), delim=';');\n",
    "size(d) # Should be 10x5"
   ],
   "metadata": {},
   "execution_count": null
  },
  {
   "outputs": [],
   "cell_type": "markdown",
   "source": [
    "New col log_pop, set log() for population data"
   ],
   "metadata": {}
  },
  {
   "outputs": [],
   "cell_type": "code",
   "source": [
    "d[:log_pop] = map((x) -> log(x), d[:population]);\n",
    "d[:society] = 1:10;"
   ],
   "metadata": {},
   "execution_count": null
  },
  {
   "outputs": [],
   "cell_type": "markdown",
   "source": [
    "Turing model"
   ],
   "metadata": {}
  },
  {
   "outputs": [],
   "cell_type": "code",
   "source": [
    "@model m12_6(total_tools, log_pop, society) = begin\n",
    "    # Total num of y\n",
    "    N = length(total_tools)\n",
    "    # priors\n",
    "    α ~ Normal(0, 10)\n",
    "    βp ~ Normal(0, 1)\n",
    "    # Separate σ priors for each society\n",
    "    σ_society ~ Truncated(Cauchy(0, 1), 0, Inf)\n",
    "    # Number of unique societies in the data set\n",
    "    N_society = length(unique(society)) #10\n",
    "    # Vector of societies (1,..,10) which we'll set priors on\n",
    "    α_society = Vector{Real}(undef, N_society)\n",
    "    # For each society [1,..,10] set a prior N(0, σ_society)\n",
    "    α_society ~ [Normal(0, σ_society)]\n",
    "\n",
    "    for i ∈ 1:N\n",
    "        λ = exp(α + α_society[society[i]] + βp*log_pop[i])\n",
    "        total_tools[i] ~ Poisson(λ)\n",
    "    end\n",
    "end"
   ],
   "metadata": {},
   "execution_count": null
  },
  {
   "outputs": [],
   "cell_type": "markdown",
   "source": [
    "Sample"
   ],
   "metadata": {}
  },
  {
   "outputs": [],
   "cell_type": "code",
   "source": [
    "posterior = sample(m12_6(d[:total_tools], d[:log_pop],\n",
    "    d[:society]), Turing.NUTS(4000, 1000, 0.95));\n",
    "# Fix the inclusion of adaptation samples\n",
    "draws = 1001:4000\n",
    "posterior2 = Chains(posterior[draws,:,:], :parameters)"
   ],
   "metadata": {},
   "execution_count": null
  },
  {
   "outputs": [],
   "cell_type": "markdown",
   "source": [
    "Results rethinking"
   ],
   "metadata": {}
  },
  {
   "outputs": [],
   "cell_type": "code",
   "source": [
    "m126rethinking = \"\n",
    "              Mean StdDev lower 0.89 upper 0.89 n_eff Rhat\n",
    "a              1.11   0.75      -0.05       2.24  1256    1\n",
    "bp             0.26   0.08       0.13       0.38  1276    1\n",
    "a_society[1]  -0.20   0.24      -0.57       0.16  2389    1\n",
    "a_society[2]   0.04   0.21      -0.29       0.38  2220    1\n",
    "a_society[3]  -0.05   0.19      -0.36       0.25  3018    1\n",
    "a_society[4]   0.32   0.18       0.01       0.60  2153    1\n",
    "a_society[5]   0.04   0.18      -0.22       0.33  3196    1\n",
    "a_society[6]  -0.32   0.21      -0.62       0.02  2574    1\n",
    "a_society[7]   0.14   0.17      -0.13       0.40  2751    1\n",
    "a_society[8]  -0.18   0.19      -0.46       0.12  2952    1\n",
    "a_society[9]   0.27   0.17      -0.02       0.52  2540    1\n",
    "a_society[10] -0.10   0.30      -0.52       0.37  1433    1\n",
    "sigma_society  0.31   0.13       0.11       0.47  1345    1\n",
    "\";"
   ],
   "metadata": {},
   "execution_count": null
  },
  {
   "outputs": [],
   "cell_type": "markdown",
   "source": [
    "Describe the posterior samples"
   ],
   "metadata": {}
  },
  {
   "outputs": [],
   "cell_type": "code",
   "source": [
    "describe(posterior2)"
   ],
   "metadata": {},
   "execution_count": null
  },
  {
   "outputs": [],
   "cell_type": "markdown",
   "source": [
    "Create a DataFrame"
   ],
   "metadata": {}
  },
  {
   "outputs": [],
   "cell_type": "code",
   "source": [
    "cnames = [\n",
    "  :α,:α_society_1, :α_society_2, :α_society_3,\n",
    "  :α_society_4, :α_society_5, :α_society_6,\n",
    "  :α_society_7, :α_society_8,:α_society_9,\n",
    "  :α_society_10, :βp, :σ_society\n",
    "]\n",
    "\n",
    "df = DataFrame(convert(Matrix{Float64}, to_df(posterior2)), cnames)\n",
    "first(df, 5)"
   ],
   "metadata": {},
   "execution_count": null
  },
  {
   "outputs": [],
   "cell_type": "markdown",
   "source": [
    "End of m12.6t.jl"
   ],
   "metadata": {}
  },
  {
   "outputs": [],
   "cell_type": "markdown",
   "source": [
    "*This notebook was generated using [Literate.jl](https://github.com/fredrikekre/Literate.jl).*"
   ],
   "metadata": {}
  }
 ],
 "nbformat_minor": 3,
 "metadata": {
  "language_info": {
   "file_extension": ".jl",
   "mimetype": "application/julia",
   "name": "julia",
   "version": "1.2.0-DEV.439"
  },
  "kernelspec": {
   "name": "julia-1.2",
   "display_name": "Julia 1.2.0-DEV.439",
   "language": "julia"
  }
 },
 "nbformat": 4
}
