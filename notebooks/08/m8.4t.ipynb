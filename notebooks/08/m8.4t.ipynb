{
 "cells": [
  {
   "outputs": [
    {
     "name": "stdout",
     "output_type": "stream",
     "text": [
      "┌ Info: [Turing]: global PROGRESS is set as false\n",
      "└ @ Turing /Users/rob/.julia/dev/Turing/src/Turing.jl:24\n"
     ]
    }
   ],
   "cell_type": "code",
   "source": [
    "using TuringModels\n",
    "\n",
    "Turing.setadbackend(:reverse_diff);\n",
    "Turing.turnprogress(false);"
   ],
   "metadata": {},
   "execution_count": 1
  },
  {
   "outputs": [],
   "cell_type": "markdown",
   "source": [
    "Can't really set a Uniform[-Inf,Inf] on σ"
   ],
   "metadata": {}
  },
  {
   "outputs": [],
   "cell_type": "markdown",
   "source": [
    "Turing model"
   ],
   "metadata": {}
  },
  {
   "outputs": [
    {
     "output_type": "execute_result",
     "data": {
      "text/plain": "m8_4 (generic function with 2 methods)"
     },
     "metadata": {},
     "execution_count": 2
    }
   ],
   "cell_type": "code",
   "source": [
    "@model m8_4(y) = begin\n",
    "    α₁ ~ Uniform(-3000, 1000)\n",
    "    α₂ ~ Uniform(-1000, 3000)\n",
    "    σ ~ Truncated(Cauchy(0,1), 0, Inf)\n",
    "\n",
    "    for i ∈ 1:length(y)\n",
    "        y[i] ~ Normal(α₁ + α₂, σ)\n",
    "    end\n",
    "end"
   ],
   "metadata": {},
   "execution_count": 2
  },
  {
   "outputs": [],
   "cell_type": "markdown",
   "source": [
    "Observations"
   ],
   "metadata": {}
  },
  {
   "outputs": [],
   "cell_type": "code",
   "source": [
    "y = rand(Normal(0,1), 100);"
   ],
   "metadata": {},
   "execution_count": 3
  },
  {
   "outputs": [],
   "cell_type": "markdown",
   "source": [
    "Sample"
   ],
   "metadata": {}
  },
  {
   "outputs": [
    {
     "name": "stdout",
     "output_type": "stream",
     "text": [
      "┌ Info: [Turing] looking for good initial eps...\n",
      "└ @ Turing.Inference /Users/rob/.julia/dev/Turing/src/inference/support/hmc_core.jl:240\n",
      "┌ Warning: Numerical error has been found in gradients.\n",
      "└ @ Turing.Core /Users/rob/.julia/dev/Turing/src/core/ad.jl:168\n",
      "┌ Warning: grad = [0.0, 0.0, NaN]\n",
      "└ @ Turing.Core /Users/rob/.julia/dev/Turing/src/core/ad.jl:169\n",
      "┌ Warning: Numerical error has been found in gradients.\n",
      "└ @ Turing.Core /Users/rob/.julia/dev/Turing/src/core/ad.jl:168\n",
      "┌ Warning: grad = [0.0, 0.0, NaN]\n",
      "└ @ Turing.Core /Users/rob/.julia/dev/Turing/src/core/ad.jl:169\n",
      "┌ Warning: Numerical error has been found in gradients.\n",
      "└ @ Turing.Core /Users/rob/.julia/dev/Turing/src/core/ad.jl:168\n",
      "┌ Warning: grad = [0.0, 0.0, NaN]\n",
      "└ @ Turing.Core /Users/rob/.julia/dev/Turing/src/core/ad.jl:169\n",
      "┌ Warning: Numerical error has been found in gradients.\n",
      "└ @ Turing.Core /Users/rob/.julia/dev/Turing/src/core/ad.jl:168\n",
      "┌ Warning: grad = [0.0, 0.0, NaN]\n",
      "└ @ Turing.Core /Users/rob/.julia/dev/Turing/src/core/ad.jl:169\n",
      "┌ Warning: Numerical error has been found in gradients.\n",
      "└ @ Turing.Core /Users/rob/.julia/dev/Turing/src/core/ad.jl:168\n",
      "┌ Warning: grad = [0.0, 0.0, NaN]\n",
      "└ @ Turing.Core /Users/rob/.julia/dev/Turing/src/core/ad.jl:169\n",
      "┌ Warning: Numerical error has been found in gradients.\n",
      "└ @ Turing.Core /Users/rob/.julia/dev/Turing/src/core/ad.jl:168\n",
      "┌ Warning: grad = [0.0, 0.0, NaN]\n",
      "└ @ Turing.Core /Users/rob/.julia/dev/Turing/src/core/ad.jl:169\n",
      "┌ Warning: Numerical error has been found in gradients.\n",
      "└ @ Turing.Core /Users/rob/.julia/dev/Turing/src/core/ad.jl:168\n",
      "┌ Warning: grad = [0.0, 0.0, NaN]\n",
      "└ @ Turing.Core /Users/rob/.julia/dev/Turing/src/core/ad.jl:169\n",
      "┌ Info: \r[NUTS{Turing.Core.FluxTrackerAD,Union{}}] found initial ϵ: 0.00078125\n",
      "└ @ Turing.Inference /Users/rob/.julia/dev/Turing/src/inference/support/hmc_core.jl:235\n",
      "┌ Info:  Adapted ϵ = 0.057984518699563406, std = [1.0, 1.0, 1.0]; 1000 iterations is used for adaption.\n",
      "└ @ Turing.Inference /Users/rob/.julia/dev/Turing/src/inference/adapt/adapt.jl:91\n",
      "[NUTS] Finished with\n",
      "  Running time        = 633.1324551440005;\n",
      "  #lf / sample        = 0.0;\n",
      "  #evals / sample     = 148.16875;\n",
      "  pre-cond. metric    = [1.0, 1.0, 1.0].\n"
     ]
    }
   ],
   "cell_type": "code",
   "source": [
    "posterior = sample(m8_4(y), Turing.NUTS(4000, 1000, 0.95));"
   ],
   "metadata": {},
   "execution_count": 4
  },
  {
   "outputs": [],
   "cell_type": "markdown",
   "source": [
    "Fix the inclusion of adaptation samples"
   ],
   "metadata": {}
  },
  {
   "outputs": [
    {
     "output_type": "execute_result",
     "data": {
      "text/plain": "Object of type \"Chains{Float64}\"\n\nIterations = 1:3000\nThinning interval = 1\nChains = 1\nSamples per chain = 3000\n\nUnion{Missing, Float64}[3954.12 -1000.0 … 190.0 0.0579845; 4082.67 -1000.0 … 190.0 0.0579845; … ; 0.945683 2999.97 … 22.0 0.0579845; 1.03729 2999.89 … 190.0 0.0579845]"
     },
     "metadata": {},
     "execution_count": 5
    }
   ],
   "cell_type": "code",
   "source": [
    "posterior2 = MCMCChain.Chains(posterior.value[1001:4000,:,:], names=posterior.names)"
   ],
   "metadata": {},
   "execution_count": 5
  },
  {
   "outputs": [],
   "cell_type": "markdown",
   "source": [
    "Describe the posterior samples"
   ],
   "metadata": {}
  },
  {
   "outputs": [
    {
     "name": "stdout",
     "output_type": "stream",
     "text": [
      "Iterations = 1:3000\n",
      "Thinning interval = 1\n",
      "Chains = 1\n",
      "Samples per chain = 3000\n",
      "\n",
      "Empirical Posterior Estimates:\n",
      "              Mean            SD        Naive SE               MCSE                 ESS    \n",
      "       σ  3553.98186909 1297.28468113 23.685069445 226.000102657587092380708782   32.949840\n",
      "      α₂  -547.94701126 1266.15939848 23.116802132 225.671604904825471749063581   31.479145\n",
      "  lf_num     0.00000000    0.00000000  0.000000000   0.000000000000000000000000         NaN\n",
      " elapsed     0.15952640    0.07934588  0.001448651   0.003219888724500597713268  607.249299\n",
      " epsilon     0.05798452    0.00000000  0.000000000   0.000000000000000005154081    0.000000\n",
      "      α₁ -3000.00000000    0.00000000  0.000000000   0.000000000000000000000000         NaN\n",
      "      lp  -958.38393320  271.87906049  4.963809811  48.619256014681326405479922   31.270506\n",
      "eval_num   149.84200000   70.56236049  1.288286552   2.122478999530566845521662 1105.247134\n",
      "  lf_eps     0.05798452    0.00000000  0.000000000   0.000000000000000005154081    0.000000\n",
      "\n",
      "Quantiles:\n",
      "               2.5%           25.0%          50.0%          75.0%          97.5%    \n",
      "       σ     0.946269330  3713.61885739  3938.99900590  4160.61166550  4607.70306973\n",
      "      α₂ -1000.000000000 -1000.00000000 -1000.00000000 -1000.00000000  2999.98249453\n",
      "  lf_num     0.000000000     0.00000000     0.00000000     0.00000000     0.00000000\n",
      " elapsed     0.007970001     0.14260079     0.19050644     0.20359738     0.25629797\n",
      " epsilon     0.057984519     0.05798452     0.05798452     0.05798452     0.05798452\n",
      "      α₁ -3000.000000000 -3000.00000000 -3000.00000000 -3000.00000000 -3000.00000000\n",
      "      lp -1057.355503035 -1055.45107407 -1055.02164749 -1054.87227841  -191.06112890\n",
      "eval_num    10.000000000   139.00000000   190.00000000   190.00000000   190.00000000\n",
      "  lf_eps     0.057984519     0.05798452     0.05798452     0.05798452     0.05798452\n",
      "\n"
     ]
    }
   ],
   "cell_type": "code",
   "source": [
    "describe(posterior2)"
   ],
   "metadata": {},
   "execution_count": 6
  },
  {
   "outputs": [],
   "cell_type": "markdown",
   "source": [
    "Results rethinking"
   ],
   "metadata": {}
  },
  {
   "outputs": [],
   "cell_type": "code",
   "source": [
    "m84rethinking = \"\n",
    "         mean      sd     5.5%   94.5% n_eff Rhat\n",
    " a1    -861.15 558.17 -1841.89  -31.04     7 1.43\n",
    " a2     861.26 558.17    31.31 1842.00     7 1.43\n",
    " sigma    0.97   0.07     0.89    1.09     9 1.17\n",
    "\";"
   ],
   "metadata": {},
   "execution_count": 7
  },
  {
   "outputs": [],
   "cell_type": "markdown",
   "source": [
    "*This notebook was generated using [Literate.jl](https://github.com/fredrikekre/Literate.jl).*"
   ],
   "metadata": {}
  }
 ],
 "nbformat_minor": 3,
 "metadata": {
  "language_info": {
   "file_extension": ".jl",
   "mimetype": "application/julia",
   "name": "julia",
   "version": "1.2.0-DEV.291"
  },
  "kernelspec": {
   "name": "julia-1.2",
   "display_name": "Julia 1.2.0-DEV.291",
   "language": "julia"
  }
 },
 "nbformat": 4
}
