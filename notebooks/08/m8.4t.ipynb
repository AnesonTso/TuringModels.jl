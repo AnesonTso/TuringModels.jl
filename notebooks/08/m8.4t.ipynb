{
 "cells": [
  {
   "outputs": [
    {
     "name": "stdout",
     "output_type": "stream",
     "text": [
      "┌ Info: [Turing]: global PROGRESS is set as false\n",
      "└ @ Turing /Users/rob/.julia/packages/Turing/UXxKz/src/Turing.jl:24\n"
     ]
    }
   ],
   "cell_type": "code",
   "source": [
    "using StatisticalRethinking, Turing\n",
    "\n",
    "Turing.setadbackend(:reverse_diff);\n",
    "Turing.turnprogress(false);"
   ],
   "metadata": {},
   "execution_count": 1
  },
  {
   "outputs": [],
   "cell_type": "markdown",
   "source": [
    "Can't really set a Uniform[-Inf,Inf] on σ"
   ],
   "metadata": {}
  },
  {
   "outputs": [],
   "cell_type": "markdown",
   "source": [
    "Turing model"
   ],
   "metadata": {}
  },
  {
   "outputs": [
    {
     "output_type": "execute_result",
     "data": {
      "text/plain": "m8_4 (generic function with 2 methods)"
     },
     "metadata": {},
     "execution_count": 2
    }
   ],
   "cell_type": "code",
   "source": [
    "@model m8_4(y) = begin\n",
    "    α₁ ~ Uniform(-3000, 1000)\n",
    "    α₂ ~ Uniform(-1000, 3000)\n",
    "    σ ~ Truncated(Cauchy(0,1), 0, Inf)\n",
    "\n",
    "    for i ∈ 1:length(y)\n",
    "        y[i] ~ Normal(α₁ + α₂, σ)\n",
    "    end\n",
    "end"
   ],
   "metadata": {},
   "execution_count": 2
  },
  {
   "outputs": [],
   "cell_type": "markdown",
   "source": [
    "Observations"
   ],
   "metadata": {}
  },
  {
   "outputs": [],
   "cell_type": "code",
   "source": [
    "y = rand(Normal(0,1), 100);"
   ],
   "metadata": {},
   "execution_count": 3
  },
  {
   "outputs": [],
   "cell_type": "markdown",
   "source": [
    "Sample"
   ],
   "metadata": {}
  },
  {
   "outputs": [
    {
     "name": "stdout",
     "output_type": "stream",
     "text": [
      "┌ Info: [Turing] looking for good initial eps...\n",
      "└ @ Turing.Inference /Users/rob/.julia/packages/Turing/UXxKz/src/inference/support/hmc_core.jl:240\n",
      "┌ Warning: Numerical error has been found in gradients.\n",
      "└ @ Turing.Core /Users/rob/.julia/packages/Turing/UXxKz/src/core/ad.jl:168\n",
      "┌ Warning: grad = [0.0, 0.0, NaN]\n",
      "└ @ Turing.Core /Users/rob/.julia/packages/Turing/UXxKz/src/core/ad.jl:169\n",
      "┌ Warning: Numerical error has been found in gradients.\n",
      "└ @ Turing.Core /Users/rob/.julia/packages/Turing/UXxKz/src/core/ad.jl:168\n",
      "┌ Warning: grad = [0.0, 0.0, NaN]\n",
      "└ @ Turing.Core /Users/rob/.julia/packages/Turing/UXxKz/src/core/ad.jl:169\n",
      "┌ Warning: Numerical error has been found in gradients.\n",
      "└ @ Turing.Core /Users/rob/.julia/packages/Turing/UXxKz/src/core/ad.jl:168\n",
      "┌ Warning: grad = [0.0, 0.0, NaN]\n",
      "└ @ Turing.Core /Users/rob/.julia/packages/Turing/UXxKz/src/core/ad.jl:169\n",
      "┌ Warning: Numerical error has been found in gradients.\n",
      "└ @ Turing.Core /Users/rob/.julia/packages/Turing/UXxKz/src/core/ad.jl:168\n",
      "┌ Warning: grad = [0.0, 0.0, NaN]\n",
      "└ @ Turing.Core /Users/rob/.julia/packages/Turing/UXxKz/src/core/ad.jl:169\n",
      "┌ Info: \r[NUTS{Turing.Core.FluxTrackerAD,Union{}}] found initial ϵ: 0.00625\n",
      "└ @ Turing.Inference /Users/rob/.julia/packages/Turing/UXxKz/src/inference/support/hmc_core.jl:235\n",
      "┌ Info:  Adapted ϵ = 0.05397913944429307, std = [1.0, 1.0, 1.0]; 1000 iterations is used for adaption.\n",
      "└ @ Turing.Inference /Users/rob/.julia/packages/Turing/UXxKz/src/inference/adapt/adapt.jl:91\n",
      "[NUTS] Finished with\n",
      "  Running time        = 738.3013899689988;\n",
      "  #lf / sample        = 0.0;\n",
      "  #evals / sample     = 163.549;\n",
      "  pre-cond. metric    = [1.0, 1.0, 1.0].\n"
     ]
    }
   ],
   "cell_type": "code",
   "source": [
    "posterior = sample(m8_4(y), Turing.NUTS(4000, 1000, 0.95));"
   ],
   "metadata": {},
   "execution_count": 4
  },
  {
   "outputs": [],
   "cell_type": "markdown",
   "source": [
    "Fix the inclusion of adaptation samples"
   ],
   "metadata": {}
  },
  {
   "outputs": [
    {
     "output_type": "execute_result",
     "data": {
      "text/plain": "Object of type \"Chains{Float64}\"\n\nIterations = 1:3000\nThinning interval = 1\nChains = 1\nSamples per chain = 3000\n\nUnion{Missing, Float64}[4064.61 -1000.0 … 190.0 0.0539791; 4147.75 -1000.0 … 190.0 0.0539791; … ; 1.14022 -1000.0 … 46.0 0.0539791; 1.08439 -1000.0 … 10.0 0.0539791]"
     },
     "metadata": {},
     "execution_count": 5
    }
   ],
   "cell_type": "code",
   "source": [
    "posterior2 = MCMCChain.Chains(posterior.value[1001:4000,:,:], names=posterior.names)"
   ],
   "metadata": {},
   "execution_count": 5
  },
  {
   "outputs": [],
   "cell_type": "markdown",
   "source": [
    "Describe the posterior samples"
   ],
   "metadata": {}
  },
  {
   "outputs": [
    {
     "name": "stdout",
     "output_type": "stream",
     "text": [
      "Iterations = 1:3000\n",
      "Thinning interval = 1\n",
      "Chains = 1\n",
      "Samples per chain = 3000\n",
      "\n",
      "Empirical Posterior Estimates:\n",
      "              Mean                   SD                        Naive SE                       MCSE                 ESS    \n",
      "       σ  3922.92309534 625.78601666848396689601941 11.42523725002108569981373876 81.229709658168076202855445   59.3501618\n",
      "      α₂ -1000.00000000   0.00000000000000000000000  0.00000000000000000000000000  0.000000000000000000000000          NaN\n",
      "  lf_num     0.00000000   0.00000000000000000000000  0.00000000000000000000000000  0.000000000000000000000000          NaN\n",
      " elapsed     0.18373918   0.06879596967722984013349  0.00125603681525533967047736  0.002964812868239554300570  538.4326893\n",
      " epsilon     0.05397914   0.00000000000000000694005  0.00000000000000000012670741  0.000000000000000005154081    1.8131044\n",
      "      α₁ -2919.84447624 560.07485041872882902680431 10.22552098218898386505770759 80.155523758878985063347500   48.8230864\n",
      "      lp -1038.06586471 119.84462188634975632339774  2.18805342676103631305295494 17.288214433284039728278003   48.0548048\n",
      "eval_num   167.57200000  58.48292828082484362539617  1.06774730161215303247956854  1.612858845396091700408192 1314.8175705\n",
      "  lf_eps     0.05397914   0.00000000000000000694005  0.00000000000000000012670741  0.000000000000000005154081    1.8131044\n",
      "\n",
      "Quantiles:\n",
      "               2.5%           25.0%          50.0%          75.0%          97.5%    \n",
      "       σ  3363.060193007  3796.40503007  3978.28072934  4175.88969602  4600.92349663\n",
      "      α₂ -1000.000000000 -1000.00000000 -1000.00000000 -1000.00000000 -1000.00000000\n",
      "  lf_num     0.000000000     0.00000000     0.00000000     0.00000000     0.00000000\n",
      " elapsed     0.008639945     0.19451752     0.20088672     0.20750077     0.27340144\n",
      " epsilon     0.053979139     0.05397914     0.05397914     0.05397914     0.05397914\n",
      "      α₁ -3000.000000000 -3000.00000000 -3000.00000000 -3000.00000000 -2999.99996874\n",
      "      lp -1057.275356233 -1055.50532295 -1055.06702780 -1054.90427298 -1037.03901388\n",
      "eval_num    10.000000000   190.00000000   190.00000000   190.00000000   190.00000000\n",
      "  lf_eps     0.053979139     0.05397914     0.05397914     0.05397914     0.05397914\n",
      "\n"
     ]
    }
   ],
   "cell_type": "code",
   "source": [
    "describe(posterior2)"
   ],
   "metadata": {},
   "execution_count": 6
  },
  {
   "outputs": [],
   "cell_type": "markdown",
   "source": [
    "Results rethinking"
   ],
   "metadata": {}
  },
  {
   "outputs": [],
   "cell_type": "code",
   "source": [
    "m84rethinking = \"\n",
    "         mean      sd     5.5%   94.5% n_eff Rhat\n",
    " a1    -861.15 558.17 -1841.89  -31.04     7 1.43\n",
    " a2     861.26 558.17    31.31 1842.00     7 1.43\n",
    " sigma    0.97   0.07     0.89    1.09     9 1.17\n",
    "\";"
   ],
   "metadata": {},
   "execution_count": 7
  },
  {
   "outputs": [],
   "cell_type": "markdown",
   "source": [
    "*This notebook was generated using [Literate.jl](https://github.com/fredrikekre/Literate.jl).*"
   ],
   "metadata": {}
  }
 ],
 "nbformat_minor": 3,
 "metadata": {
  "language_info": {
   "file_extension": ".jl",
   "mimetype": "application/julia",
   "name": "julia",
   "version": "1.1.0"
  },
  "kernelspec": {
   "name": "julia-1.1",
   "display_name": "Julia 1.1.0",
   "language": "julia"
  }
 },
 "nbformat": 4
}
