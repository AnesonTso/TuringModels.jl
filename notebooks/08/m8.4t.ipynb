{
 "cells": [
  {
   "outputs": [
    {
     "name": "stdout",
     "output_type": "stream",
     "text": [
      "┌ Info: [Turing]: global PROGRESS is set as false\n",
      "└ @ Turing /Users/rob/.julia/packages/Turing/FTRCE/src/Turing.jl:24\n"
     ]
    }
   ],
   "cell_type": "code",
   "source": [
    "using TuringModels\n",
    "\n",
    "Turing.setadbackend(:reverse_diff);\n",
    "Turing.turnprogress(false);"
   ],
   "metadata": {},
   "execution_count": 1
  },
  {
   "outputs": [],
   "cell_type": "markdown",
   "source": [
    "Can't really set a Uniform[-Inf,Inf] on σ"
   ],
   "metadata": {}
  },
  {
   "outputs": [],
   "cell_type": "markdown",
   "source": [
    "Turing model"
   ],
   "metadata": {}
  },
  {
   "outputs": [
    {
     "output_type": "execute_result",
     "data": {
      "text/plain": "m8_4 (generic function with 2 methods)"
     },
     "metadata": {},
     "execution_count": 2
    }
   ],
   "cell_type": "code",
   "source": [
    "@model m8_4(y) = begin\n",
    "    α₁ ~ Uniform(-3000, 1000)\n",
    "    α₂ ~ Uniform(-1000, 3000)\n",
    "    σ ~ Truncated(Cauchy(0,1), 0, Inf)\n",
    "\n",
    "    for i ∈ 1:length(y)\n",
    "        y[i] ~ Normal(α₁ + α₂, σ)\n",
    "    end\n",
    "end"
   ],
   "metadata": {},
   "execution_count": 2
  },
  {
   "outputs": [],
   "cell_type": "markdown",
   "source": [
    "Observations"
   ],
   "metadata": {}
  },
  {
   "outputs": [],
   "cell_type": "code",
   "source": [
    "y = rand(Normal(0,1), 100);"
   ],
   "metadata": {},
   "execution_count": 3
  },
  {
   "outputs": [],
   "cell_type": "markdown",
   "source": [
    "Sample"
   ],
   "metadata": {}
  },
  {
   "outputs": [
    {
     "name": "stdout",
     "output_type": "stream",
     "text": [
      "┌ Info: [Turing] looking for good initial eps...\n",
      "└ @ Turing.Inference /Users/rob/.julia/packages/Turing/FTRCE/src/inference/support/hmc_core.jl:240\n",
      "┌ Warning: Numerical error has been found in gradients.\n",
      "└ @ Turing.Core /Users/rob/.julia/packages/Turing/FTRCE/src/core/ad.jl:168\n",
      "┌ Warning: grad = [0.0, 0.0, NaN]\n",
      "└ @ Turing.Core /Users/rob/.julia/packages/Turing/FTRCE/src/core/ad.jl:169\n",
      "┌ Warning: Numerical error has been found in gradients.\n",
      "└ @ Turing.Core /Users/rob/.julia/packages/Turing/FTRCE/src/core/ad.jl:168\n",
      "┌ Warning: grad = [0.0, 0.0, NaN]\n",
      "└ @ Turing.Core /Users/rob/.julia/packages/Turing/FTRCE/src/core/ad.jl:169\n",
      "┌ Warning: Numerical error has been found in gradients.\n",
      "└ @ Turing.Core /Users/rob/.julia/packages/Turing/FTRCE/src/core/ad.jl:168\n",
      "┌ Warning: grad = [0.0, 0.0, NaN]\n",
      "└ @ Turing.Core /Users/rob/.julia/packages/Turing/FTRCE/src/core/ad.jl:169\n",
      "┌ Warning: Numerical error has been found in gradients.\n",
      "└ @ Turing.Core /Users/rob/.julia/packages/Turing/FTRCE/src/core/ad.jl:168\n",
      "┌ Warning: grad = [0.0, 0.0, NaN]\n",
      "└ @ Turing.Core /Users/rob/.julia/packages/Turing/FTRCE/src/core/ad.jl:169\n",
      "┌ Warning: Numerical error has been found in gradients.\n",
      "└ @ Turing.Core /Users/rob/.julia/packages/Turing/FTRCE/src/core/ad.jl:168\n",
      "┌ Warning: grad = [0.0, 0.0, NaN]\n",
      "└ @ Turing.Core /Users/rob/.julia/packages/Turing/FTRCE/src/core/ad.jl:169\n",
      "┌ Warning: Numerical error has been found in gradients.\n",
      "└ @ Turing.Core /Users/rob/.julia/packages/Turing/FTRCE/src/core/ad.jl:168\n",
      "┌ Warning: grad = [0.0, 0.0, NaN]\n",
      "└ @ Turing.Core /Users/rob/.julia/packages/Turing/FTRCE/src/core/ad.jl:169\n",
      "┌ Info: \r[NUTS{Turing.Core.FluxTrackerAD,Union{}}] found initial ϵ: 0.0015625\n",
      "└ @ Turing.Inference /Users/rob/.julia/packages/Turing/FTRCE/src/inference/support/hmc_core.jl:235\n",
      "┌ Warning: Numerical error has been found in gradients.\n",
      "└ @ Turing.Core /Users/rob/.julia/packages/Turing/FTRCE/src/core/ad.jl:168\n",
      "┌ Warning: grad = [-Inf, -Inf, -Inf]\n",
      "└ @ Turing.Core /Users/rob/.julia/packages/Turing/FTRCE/src/core/ad.jl:169\n",
      "┌ Info:  Adapted ϵ = 0.03844855642993803, std = [1.0, 1.0, 1.0]; 1000 iterations is used for adaption.\n",
      "└ @ Turing.Inference /Users/rob/.julia/packages/Turing/FTRCE/src/inference/adapt/adapt.jl:91\n",
      "[NUTS] Finished with\n",
      "  Running time        = 244.42208195499933;\n",
      "  #lf / sample        = 0.0;\n",
      "  #evals / sample     = 47.77275;\n",
      "  pre-cond. metric    = [1.0, 1.0, 1.0].\n"
     ]
    }
   ],
   "cell_type": "code",
   "source": [
    "posterior = sample(m8_4(y), Turing.NUTS(4000, 1000, 0.95));"
   ],
   "metadata": {},
   "execution_count": 4
  },
  {
   "outputs": [],
   "cell_type": "markdown",
   "source": [
    "Fix the inclusion of adaptation samples"
   ],
   "metadata": {}
  },
  {
   "outputs": [
    {
     "output_type": "execute_result",
     "data": {
      "text/plain": "Object of type \"Chains{Float64}\"\n\nIterations = 1:3000\nThinning interval = 1\nChains = 1\nSamples per chain = 3000\n\nUnion{Missing, Float64}[0.93346 -999.105 … 34.0 0.0384486; 0.97445 -999.026 … 22.0 0.0384486; … ; 0.971681 -997.845 … 76.0 0.0384486; 0.946611 -997.864 … 22.0 0.0384486]"
     },
     "metadata": {},
     "execution_count": 5
    }
   ],
   "cell_type": "code",
   "source": [
    "posterior2 = MCMCChain.Chains(posterior.value[1001:4000,:,:], names=posterior.names)"
   ],
   "metadata": {},
   "execution_count": 5
  },
  {
   "outputs": [],
   "cell_type": "markdown",
   "source": [
    "Describe the posterior samples"
   ],
   "metadata": {}
  },
  {
   "outputs": [
    {
     "name": "stdout",
     "output_type": "stream",
     "text": [
      "Iterations = 1:3000\n",
      "Thinning interval = 1\n",
      "Chains = 1\n",
      "Samples per chain = 3000\n",
      "\n",
      "Empirical Posterior Estimates:\n",
      "              Mean                   SD                       Naive SE                      MCSE                ESS    \n",
      "       σ    0.970127399  0.075932783180285595703296 0.0013863366067330430957821 0.0062145252932216581490121  149.294125\n",
      "      α₂ -997.510156767  1.495051182394788291674104 0.0272957752407465351063287 0.2241848277943877532081274   44.473334\n",
      "  lf_num    0.000000000  0.000000000000000000000000 0.0000000000000000000000000 0.0000000000000000000000000         NaN\n",
      " elapsed    0.046791146  0.058711552865769095488346 0.0010719213963579605434356 0.0046173830775094433856442  161.679635\n",
      " epsilon    0.038448556  0.000000000000000041640304 0.0000000000000000007602445 0.0000000000000000012885203 1044.348116\n",
      "      α₁  997.512034971  1.500589905776024357564324 0.0273968980319360087827274 0.2251705717391911110158986   44.412046\n",
      "      lp -156.102686876  1.865376611612137969231640 0.0340569616140840372708887 0.2004674521697600020342378   86.585529\n",
      "eval_num   37.276000000 44.937455969191162807874207 0.8204419437073725562825643 3.5782773933064877525112024  157.713531\n",
      "  lf_eps    0.038448556  0.000000000000000041640304 0.0000000000000000007602445 0.0000000000000000012885203 1044.348116\n",
      "\n",
      "Quantiles:\n",
      "              2.5%           25.0%          50.0%          75.0%          97.5%    \n",
      "       σ    0.834297704    0.915896041    0.967311921    1.020585185    1.129004983\n",
      "      α₂ -999.760188170 -998.951412199 -997.515653255 -996.160611096 -994.926316024\n",
      "  lf_num    0.000000000    0.000000000    0.000000000    0.000000000    0.000000000\n",
      " elapsed    0.003561578    0.010264040    0.023756818    0.060135006    0.228905195\n",
      " epsilon    0.038448556    0.038448556    0.038448556    0.038448556    0.038448556\n",
      "      α₁  994.943062915  996.169134194  997.531716590  998.946827158  999.782545141\n",
      "      lp -160.354718620 -157.259112835 -155.834246618 -154.617473279 -153.551824478\n",
      "eval_num    4.000000000   10.000000000   22.000000000   46.000000000  178.150000000\n",
      "  lf_eps    0.038448556    0.038448556    0.038448556    0.038448556    0.038448556\n",
      "\n"
     ]
    }
   ],
   "cell_type": "code",
   "source": [
    "describe(posterior2)"
   ],
   "metadata": {},
   "execution_count": 6
  },
  {
   "outputs": [],
   "cell_type": "markdown",
   "source": [
    "Results rethinking"
   ],
   "metadata": {}
  },
  {
   "outputs": [],
   "cell_type": "code",
   "source": [
    "m84rethinking = \"\n",
    "         mean      sd     5.5%   94.5% n_eff Rhat\n",
    " a1    -861.15 558.17 -1841.89  -31.04     7 1.43\n",
    " a2     861.26 558.17    31.31 1842.00     7 1.43\n",
    " sigma    0.97   0.07     0.89    1.09     9 1.17\n",
    "\";"
   ],
   "metadata": {},
   "execution_count": 7
  },
  {
   "outputs": [],
   "cell_type": "markdown",
   "source": [
    "*This notebook was generated using [Literate.jl](https://github.com/fredrikekre/Literate.jl).*"
   ],
   "metadata": {}
  }
 ],
 "nbformat_minor": 3,
 "metadata": {
  "language_info": {
   "file_extension": ".jl",
   "mimetype": "application/julia",
   "name": "julia",
   "version": "1.2.0-DEV.296"
  },
  "kernelspec": {
   "name": "julia-1.2",
   "display_name": "Julia 1.2.0-DEV.296",
   "language": "julia"
  }
 },
 "nbformat": 4
}
