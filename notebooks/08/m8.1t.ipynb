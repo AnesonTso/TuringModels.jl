{
 "cells": [
  {
   "outputs": [],
   "cell_type": "markdown",
   "source": [
    "### m8.1stan"
   ],
   "metadata": {}
  },
  {
   "outputs": [],
   "cell_type": "markdown",
   "source": [
    "m8.1stan is the first model in the Statistical Rethinking book (pp. 249) using Stan."
   ],
   "metadata": {}
  },
  {
   "outputs": [],
   "cell_type": "markdown",
   "source": [
    "Here we will use Turing's NUTS support, which is currently (2018) the originalNUTS by [Hoffman & Gelman]( http://www.stat.columbia.edu/~gelman/research/published/nuts.pdf) and not the one that's in Stan 2.18.2, i.e., Appendix A.5 in: https://arxiv.org/abs/1701.02434"
   ],
   "metadata": {}
  },
  {
   "outputs": [],
   "cell_type": "markdown",
   "source": [
    "The TuringModels pkg imports modules such as CSV and DataFrames"
   ],
   "metadata": {}
  },
  {
   "outputs": [
    {
     "name": "stdout",
     "output_type": "stream",
     "text": [
      "┌ Info: [Turing]: global PROGRESS is set as false\n",
      "└ @ Turing /Users/rob/.julia/dev/Turing/src/Turing.jl:24\n"
     ]
    }
   ],
   "cell_type": "code",
   "source": [
    "using TuringModels\n",
    "\n",
    "Turing.setadbackend(:reverse_diff);\n",
    "Turing.turnprogress(false);"
   ],
   "metadata": {},
   "execution_count": 1
  },
  {
   "outputs": [],
   "cell_type": "markdown",
   "source": [
    "Read in the `rugged` data as a DataFrame"
   ],
   "metadata": {}
  },
  {
   "outputs": [],
   "cell_type": "code",
   "source": [
    "d = CSV.read(rel_path(\"..\", \"data\", \"rugged.csv\"), delim=';');"
   ],
   "metadata": {},
   "execution_count": 2
  },
  {
   "outputs": [],
   "cell_type": "markdown",
   "source": [
    "Show size of the DataFrame (should be 234x51)"
   ],
   "metadata": {}
  },
  {
   "outputs": [
    {
     "output_type": "execute_result",
     "data": {
      "text/plain": "(234, 51)"
     },
     "metadata": {},
     "execution_count": 3
    }
   ],
   "cell_type": "code",
   "source": [
    "size(d)"
   ],
   "metadata": {},
   "execution_count": 3
  },
  {
   "outputs": [],
   "cell_type": "markdown",
   "source": [
    "Apply log() to each element in rgdppc_2000 column and add it as a new column"
   ],
   "metadata": {}
  },
  {
   "outputs": [],
   "cell_type": "code",
   "source": [
    "d = hcat(d, map(log, d[Symbol(\"rgdppc_2000\")]));"
   ],
   "metadata": {},
   "execution_count": 4
  },
  {
   "outputs": [],
   "cell_type": "markdown",
   "source": [
    "Rename our col x1 => log_gdp"
   ],
   "metadata": {}
  },
  {
   "outputs": [],
   "cell_type": "code",
   "source": [
    "rename!(d, :x1 => :log_gdp);"
   ],
   "metadata": {},
   "execution_count": 5
  },
  {
   "outputs": [],
   "cell_type": "markdown",
   "source": [
    "Now we need to drop every row where rgdppc_2000 == missing"
   ],
   "metadata": {}
  },
  {
   "outputs": [],
   "cell_type": "markdown",
   "source": [
    "When this (https://github.com/JuliaData/DataFrames.jl/pull/1546) hits DataFrame it'll be conceptually easier: i.e., completecases!(d, :rgdppc_2000)"
   ],
   "metadata": {}
  },
  {
   "outputs": [],
   "cell_type": "code",
   "source": [
    "notisnan(e) = !ismissing(e)\n",
    "dd = d[map(notisnan, d[:rgdppc_2000]), :];"
   ],
   "metadata": {},
   "execution_count": 6
  },
  {
   "outputs": [],
   "cell_type": "markdown",
   "source": [
    "Updated DataFrame dd size (should equal 170 x 52)"
   ],
   "metadata": {}
  },
  {
   "outputs": [
    {
     "output_type": "execute_result",
     "data": {
      "text/plain": "(170, 52)"
     },
     "metadata": {},
     "execution_count": 7
    }
   ],
   "cell_type": "code",
   "source": [
    "size(dd)"
   ],
   "metadata": {},
   "execution_count": 7
  },
  {
   "outputs": [],
   "cell_type": "markdown",
   "source": [
    "Define the Turing model"
   ],
   "metadata": {}
  },
  {
   "outputs": [],
   "cell_type": "code",
   "source": [
    "@model m8_1stan(y, x₁, x₂) = begin\n",
    "    σ ~ Truncated(Cauchy(0, 2), 0, Inf)\n",
    "    βR ~ Normal(0, 10)\n",
    "    βA ~ Normal(0, 10)\n",
    "    βAR ~ Normal(0, 10)\n",
    "    α ~ Normal(0, 100)\n",
    "\n",
    "    for i ∈ 1:length(y)\n",
    "        y[i] ~ Normal(α + βR * x₁[i] + βA * x₂[i] + βAR * x₁[i] * x₂[i], σ)\n",
    "    end\n",
    "end;"
   ],
   "metadata": {},
   "execution_count": 8
  },
  {
   "outputs": [],
   "cell_type": "markdown",
   "source": [
    "Test to see that the model is sane. Use 2000 for now, as in the book.\n",
    "Need to set the same stepsize and adapt_delta as in Stan..."
   ],
   "metadata": {}
  },
  {
   "outputs": [],
   "cell_type": "markdown",
   "source": [
    "Use Turing mcmc"
   ],
   "metadata": {}
  },
  {
   "outputs": [
    {
     "name": "stdout",
     "output_type": "stream",
     "text": [
      "┌ Info: [Turing] looking for good initial eps...\n",
      "└ @ Turing.Inference /Users/rob/.julia/dev/Turing/src/inference/support/hmc_core.jl:240\n",
      "┌ Info: \r[NUTS{Turing.Core.FluxTrackerAD,Union{}}] found initial ϵ: 0.05\n",
      "└ @ Turing.Inference /Users/rob/.julia/dev/Turing/src/inference/support/hmc_core.jl:235\n",
      "┌ Info:  Adapted ϵ = 0.026792728411377444, std = [1.0, 1.0, 1.0, 1.0, 1.0]; 1000 iterations is used for adaption.\n",
      "└ @ Turing.Inference /Users/rob/.julia/dev/Turing/src/inference/adapt/adapt.jl:91\n",
      "[NUTS] Finished with\n",
      "  Running time        = 252.91359624099962;\n",
      "  #lf / sample        = 0.0;\n",
      "  #evals / sample     = 46.143;\n",
      "  pre-cond. metric    = [1.0, 1.0, 1.0, 1.0, 1.0].\n"
     ]
    }
   ],
   "cell_type": "code",
   "source": [
    "posterior = sample(m8_1stan(dd[:log_gdp], dd[:rugged], dd[:cont_africa]),\n",
    "Turing.NUTS(2000, 1000, 0.95));"
   ],
   "metadata": {},
   "execution_count": 9
  },
  {
   "outputs": [],
   "cell_type": "markdown",
   "source": [
    "Describe the posterior samples"
   ],
   "metadata": {}
  },
  {
   "outputs": [
    {
     "name": "stdout",
     "output_type": "stream",
     "text": [
      "Iterations = 1:2000\n",
      "Thinning interval = 1\n",
      "Chains = 1\n",
      "Samples per chain = 2000\n",
      "\n",
      "Empirical Posterior Estimates:\n",
      "              Mean           SD         Naive SE       MCSE         ESS   \n",
      "       α    9.177727030  0.544957413 0.01218561820 0.0387707887  197.56766\n",
      "  lf_num    0.000000000  0.000000000 0.00000000000 0.0000000000        NaN\n",
      "      βA   -1.904083647  0.436209405 0.00975393883 0.0357953175  148.50382\n",
      "      βR   -0.187853634  0.178975354 0.00400201057 0.0123477823  210.09152\n",
      "       σ    0.971095210  0.272548554 0.00609437094 0.0204594203  177.46026\n",
      " elapsed    0.126456798  0.101997799 0.00228074011 0.0046814513  474.70147\n",
      " epsilon    0.028589068  0.018914646 0.00042294434 0.0006114057  957.05620\n",
      "eval_num   46.143000000 26.523749841 0.59308907664 0.5981432235 1966.34389\n",
      "     βAR    0.380371851  0.177224637 0.00396286336 0.0098604808  323.03681\n",
      "      lp -250.206770871 19.995784933 0.44711934374 1.6466746899  147.45561\n",
      "  lf_eps    0.028589068  0.018914646 0.00042294434 0.0006114057  957.05620\n",
      "\n",
      "Quantiles:\n",
      "              2.5%           25.0%         50.0%          75.0%          97.5%    \n",
      "       α    8.924907701    9.119464866    9.21586066    9.310021682    9.489462809\n",
      "  lf_num    0.000000000    0.000000000    0.00000000    0.000000000    0.000000000\n",
      "      βA   -2.387600638   -2.089040426   -1.93265040   -1.774600391   -1.441720745\n",
      "      βR   -0.356307870   -0.247436810   -0.20212419   -0.149170001   -0.030807138\n",
      "       σ    0.852504115    0.915080160    0.94875890    0.986442061    1.069332603\n",
      " elapsed    0.021119564    0.056960874    0.11507235    0.151990991    0.302176110\n",
      " epsilon    0.019624534    0.026792728    0.02679273    0.028019254    0.039756621\n",
      "eval_num   10.000000000   22.000000000   46.00000000   46.000000000   94.000000000\n",
      "     βAR    0.117018735    0.299251658    0.38715512    0.475369938    0.648603607\n",
      "      lp -253.238079668 -249.405892687 -248.27173021 -247.404124545 -246.439589587\n",
      "  lf_eps    0.019624534    0.026792728    0.02679273    0.028019254    0.039756621\n",
      "\n"
     ]
    }
   ],
   "cell_type": "code",
   "source": [
    "describe(posterior)"
   ],
   "metadata": {},
   "execution_count": 10
  },
  {
   "outputs": [],
   "cell_type": "markdown",
   "source": [
    "Fix the inclusion of adaptation samples"
   ],
   "metadata": {}
  },
  {
   "outputs": [
    {
     "output_type": "execute_result",
     "data": {
      "text/plain": "Object of type \"Chains{Float64}\"\n\nIterations = 1:1000\nThinning interval = 1\nChains = 1\nSamples per chain = 1000\n\nUnion{Missing, Float64}[9.14611 0.0 … -246.759 0.0267927; 9.19438 0.0 … -253.237 0.0267927; … ; 9.41211 0.0 … -248.038 0.0267927; 9.11704 0.0 … -248.546 0.0267927]"
     },
     "metadata": {},
     "execution_count": 11
    }
   ],
   "cell_type": "code",
   "source": [
    "posterior2 = MCMCChain.Chains(posterior.value[1001:2000,:,:], names=posterior.names)"
   ],
   "metadata": {},
   "execution_count": 11
  },
  {
   "outputs": [],
   "cell_type": "markdown",
   "source": [
    "Example of a Turing run simulation output"
   ],
   "metadata": {}
  },
  {
   "outputs": [],
   "cell_type": "markdown",
   "source": [
    "Here's the ulam() output from rethinking"
   ],
   "metadata": {}
  },
  {
   "outputs": [],
   "cell_type": "code",
   "source": [
    "m8_1s_cmdstan = \"\n",
    "Iterations = 1:1000\n",
    "Thinning interval = 1\n",
    "Chains = 1,2,3,4\n",
    "Samples per chain = 1000\n",
    "\n",
    "Empirical Posterior Estimates:\n",
    "          Mean         SD       Naive SE       MCSE      ESS\n",
    "    a  9.22360053 0.139119116 0.0021996664 0.0034632816 1000\n",
    "   bR -0.20196346 0.076106388 0.0012033477 0.0018370185 1000\n",
    "   bA -1.94430980 0.227080488 0.0035904578 0.0057840746 1000\n",
    "  bAR  0.39071684 0.131889143 0.0020853505 0.0032749642 1000\n",
    "sigma  0.95036370 0.052161768 0.0008247500 0.0009204073 1000\n",
    "\n",
    "Quantiles:\n",
    "          2.5%       25.0%       50.0%      75.0%        97.5%\n",
    "    a  8.95307475  9.12719750  9.2237750  9.31974000  9.490234250\n",
    "   bR -0.35217930 -0.25334425 -0.2012855 -0.15124725 -0.054216855\n",
    "   bA -2.39010825 -2.09894500 -1.9432550 -1.78643000 -1.513974250\n",
    "  bAR  0.13496995  0.30095575  0.3916590  0.47887625  0.650244475\n",
    "sigma  0.85376115  0.91363250  0.9484920  0.98405750  1.058573750\n",
    "\";"
   ],
   "metadata": {},
   "execution_count": 12
  },
  {
   "outputs": [],
   "cell_type": "markdown",
   "source": [
    "Describe the posterior samples"
   ],
   "metadata": {}
  },
  {
   "outputs": [
    {
     "name": "stdout",
     "output_type": "stream",
     "text": [
      "Iterations = 1:1000\n",
      "Thinning interval = 1\n",
      "Chains = 1\n",
      "Samples per chain = 1000\n",
      "\n",
      "Empirical Posterior Estimates:\n",
      "              Mean                 SD                       Naive SE                      MCSE                ESS   \n",
      "       α    9.21318649  0.14668651825035525226859 0.0046386349971097966260469 0.0117056981694366648433236  157.03113\n",
      "  lf_num    0.00000000  0.00000000000000000000000 0.0000000000000000000000000 0.0000000000000000000000000        NaN\n",
      "      βA   -1.93095798  0.24179755964384133659628 0.0076463102114495071215394 0.0188531924995661466504249  164.48793\n",
      "      βR   -0.19767909  0.08310633728449441648412 0.0026280531381317512491791 0.0058432367373252970879638  202.28390\n",
      "       σ    0.95237692  0.05361465844528068985797 0.0016954443665906904735452 0.0017804139850477013976709  906.82836\n",
      " elapsed    0.13435410  0.12416787454202164731054 0.0039265329577482513054298 0.0083376417742839804836397  221.78493\n",
      " epsilon    0.02679273  0.00000000000000003471183 0.0000000000000000010976844 0.0000000000000000011564823  900.90090\n",
      "eval_num   46.27000000 25.59770189572380161280307 0.8094704085649715441519447 0.6045990406872971956175888 1000.00000\n",
      "     βAR    0.38639424  0.13752114225914510714510 0.0043488003596693219909852 0.0088832305452223158520608  239.66084\n",
      "      lp -248.66450405  1.67052201186173210345487 0.0528265443892989225438406 0.0772694716829577382677385  467.39980\n",
      "  lf_eps    0.02679273  0.00000000000000003471183 0.0000000000000000010976844 0.0000000000000000011564823  900.90090\n",
      "\n",
      "Quantiles:\n",
      "              2.5%           25.0%          50.0%         75.0%          97.5%    \n",
      "       α    8.931185205    9.119464866    9.207739175    9.30672250    9.501584308\n",
      "  lf_num    0.000000000    0.000000000    0.000000000    0.00000000    0.000000000\n",
      "      βA   -2.422552202   -2.086162098   -1.928422010   -1.76040738   -1.470851264\n",
      "      βR   -0.362370776   -0.247899611   -0.202577911   -0.14425096   -0.037061363\n",
      "       σ    0.850450592    0.916945216    0.948259385    0.98853436    1.064465568\n",
      " elapsed    0.022321517    0.058717383    0.112282165    0.16955067    0.357117789\n",
      " epsilon    0.026792728    0.026792728    0.026792728    0.02679273    0.026792728\n",
      "eval_num   10.000000000   22.000000000   46.000000000   46.00000000   94.000000000\n",
      "     βAR    0.124387007    0.290765779    0.379151004    0.47739020    0.670331175\n",
      "      lp -252.858038583 -249.454371766 -248.344444443 -247.45403915 -246.453757955\n",
      "  lf_eps    0.026792728    0.026792728    0.026792728    0.02679273    0.026792728\n",
      "\n"
     ]
    }
   ],
   "cell_type": "code",
   "source": [
    "describe(posterior2)"
   ],
   "metadata": {},
   "execution_count": 13
  },
  {
   "outputs": [],
   "cell_type": "markdown",
   "source": [
    "end of 08/m8.1t.jl#-\n",
    "*This notebook was generated using [Literate.jl](https://github.com/fredrikekre/Literate.jl).*"
   ],
   "metadata": {}
  }
 ],
 "nbformat_minor": 3,
 "metadata": {
  "language_info": {
   "file_extension": ".jl",
   "mimetype": "application/julia",
   "name": "julia",
   "version": "1.2.0-DEV.291"
  },
  "kernelspec": {
   "name": "julia-1.2",
   "display_name": "Julia 1.2.0-DEV.291",
   "language": "julia"
  }
 },
 "nbformat": 4
}
