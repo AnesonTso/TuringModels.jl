{
 "cells": [
  {
   "outputs": [],
   "cell_type": "markdown",
   "source": [
    "### m8.1stan"
   ],
   "metadata": {}
  },
  {
   "outputs": [],
   "cell_type": "markdown",
   "source": [
    "m8.1stan is the first model in the Statistical Rethinking book (pp. 249) using Stan."
   ],
   "metadata": {}
  },
  {
   "outputs": [],
   "cell_type": "markdown",
   "source": [
    "Here we will use Turing's NUTS support, which is currently (2018) the originalNUTS by [Hoffman & Gelman]( http://www.stat.columbia.edu/~gelman/research/published/nuts.pdf) and not the one that's in Stan 2.18.2, i.e., Appendix A.5 in: https://arxiv.org/abs/1701.02434"
   ],
   "metadata": {}
  },
  {
   "outputs": [],
   "cell_type": "markdown",
   "source": [
    "The TuringModels pkg imports modules such as CSV and DataFrames"
   ],
   "metadata": {}
  },
  {
   "outputs": [
    {
     "name": "stdout",
     "output_type": "stream",
     "text": [
      "┌ Info: [Turing]: global PROGRESS is set as false\n",
      "└ @ Turing /Users/rob/.julia/packages/Turing/UXxKz/src/Turing.jl:24\n"
     ]
    }
   ],
   "cell_type": "code",
   "source": [
    "using TuringModels, Turing\n",
    "\n",
    "Turing.setadbackend(:reverse_diff);\n",
    "Turing.turnprogress(false);"
   ],
   "metadata": {},
   "execution_count": 1
  },
  {
   "outputs": [],
   "cell_type": "markdown",
   "source": [
    "Read in the `rugged` data as a DataFrame"
   ],
   "metadata": {}
  },
  {
   "outputs": [],
   "cell_type": "code",
   "source": [
    "d = CSV.read(rel_path(\"..\", \"data\", \"rugged.csv\"), delim=';');"
   ],
   "metadata": {},
   "execution_count": 2
  },
  {
   "outputs": [],
   "cell_type": "markdown",
   "source": [
    "Show size of the DataFrame (should be 234x51)"
   ],
   "metadata": {}
  },
  {
   "outputs": [
    {
     "output_type": "execute_result",
     "data": {
      "text/plain": "(234, 51)"
     },
     "metadata": {},
     "execution_count": 3
    }
   ],
   "cell_type": "code",
   "source": [
    "size(d)"
   ],
   "metadata": {},
   "execution_count": 3
  },
  {
   "outputs": [],
   "cell_type": "markdown",
   "source": [
    "Apply log() to each element in rgdppc_2000 column and add it as a new column"
   ],
   "metadata": {}
  },
  {
   "outputs": [],
   "cell_type": "code",
   "source": [
    "d = hcat(d, map(log, d[Symbol(\"rgdppc_2000\")]));"
   ],
   "metadata": {},
   "execution_count": 4
  },
  {
   "outputs": [],
   "cell_type": "markdown",
   "source": [
    "Rename our col x1 => log_gdp"
   ],
   "metadata": {}
  },
  {
   "outputs": [],
   "cell_type": "code",
   "source": [
    "rename!(d, :x1 => :log_gdp);"
   ],
   "metadata": {},
   "execution_count": 5
  },
  {
   "outputs": [],
   "cell_type": "markdown",
   "source": [
    "Now we need to drop every row where rgdppc_2000 == missing"
   ],
   "metadata": {}
  },
  {
   "outputs": [],
   "cell_type": "markdown",
   "source": [
    "When this (https://github.com/JuliaData/DataFrames.jl/pull/1546) hits DataFrame it'll be conceptually easier: i.e., completecases!(d, :rgdppc_2000)"
   ],
   "metadata": {}
  },
  {
   "outputs": [],
   "cell_type": "code",
   "source": [
    "notisnan(e) = !ismissing(e)\n",
    "dd = d[map(notisnan, d[:rgdppc_2000]), :];"
   ],
   "metadata": {},
   "execution_count": 6
  },
  {
   "outputs": [],
   "cell_type": "markdown",
   "source": [
    "Updated DataFrame dd size (should equal 170 x 52)"
   ],
   "metadata": {}
  },
  {
   "outputs": [
    {
     "output_type": "execute_result",
     "data": {
      "text/plain": "(170, 52)"
     },
     "metadata": {},
     "execution_count": 7
    }
   ],
   "cell_type": "code",
   "source": [
    "size(dd)"
   ],
   "metadata": {},
   "execution_count": 7
  },
  {
   "outputs": [],
   "cell_type": "markdown",
   "source": [
    "Define the Turing model"
   ],
   "metadata": {}
  },
  {
   "outputs": [],
   "cell_type": "code",
   "source": [
    "@model m8_1stan(y, x₁, x₂) = begin\n",
    "    σ ~ Truncated(Cauchy(0, 2), 0, Inf)\n",
    "    βR ~ Normal(0, 10)\n",
    "    βA ~ Normal(0, 10)\n",
    "    βAR ~ Normal(0, 10)\n",
    "    α ~ Normal(0, 100)\n",
    "\n",
    "    for i ∈ 1:length(y)\n",
    "        y[i] ~ Normal(α + βR * x₁[i] + βA * x₂[i] + βAR * x₁[i] * x₂[i], σ)\n",
    "    end\n",
    "end;"
   ],
   "metadata": {},
   "execution_count": 8
  },
  {
   "outputs": [],
   "cell_type": "markdown",
   "source": [
    "Test to see that the model is sane. Use 2000 for now, as in the book.\n",
    "Need to set the same stepsize and adapt_delta as in Stan..."
   ],
   "metadata": {}
  },
  {
   "outputs": [],
   "cell_type": "markdown",
   "source": [
    "Use Turing mcmc"
   ],
   "metadata": {}
  },
  {
   "outputs": [
    {
     "name": "stdout",
     "output_type": "stream",
     "text": [
      "┌ Info: [Turing] looking for good initial eps...\n",
      "└ @ Turing.Inference /Users/rob/.julia/packages/Turing/UXxKz/src/inference/support/hmc_core.jl:240\n",
      "┌ Info: \r[NUTS{Turing.Core.FluxTrackerAD,Union{}}] found initial ϵ: 0.1\n",
      "└ @ Turing.Inference /Users/rob/.julia/packages/Turing/UXxKz/src/inference/support/hmc_core.jl:235\n",
      "┌ Info:  Adapted ϵ = 0.028298413339053828, std = [1.0, 1.0, 1.0, 1.0, 1.0]; 1000 iterations is used for adaption.\n",
      "└ @ Turing.Inference /Users/rob/.julia/packages/Turing/UXxKz/src/inference/adapt/adapt.jl:91\n",
      "[NUTS] Finished with\n",
      "  Running time        = 290.7372216720001;\n",
      "  #lf / sample        = 0.0;\n",
      "  #evals / sample     = 45.949;\n",
      "  pre-cond. metric    = [1.0, 1.0, 1.0, 1.0, 1.0].\n"
     ]
    }
   ],
   "cell_type": "code",
   "source": [
    "posterior = sample(m8_1stan(dd[:log_gdp], dd[:rugged], dd[:cont_africa]),\n",
    "Turing.NUTS(2000, 1000, 0.95));"
   ],
   "metadata": {},
   "execution_count": 9
  },
  {
   "outputs": [],
   "cell_type": "markdown",
   "source": [
    "Describe the posterior samples"
   ],
   "metadata": {}
  },
  {
   "outputs": [
    {
     "name": "stdout",
     "output_type": "stream",
     "text": [
      "Iterations = 1:2000\n",
      "Thinning interval = 1\n",
      "Chains = 1\n",
      "Samples per chain = 2000\n",
      "\n",
      "Empirical Posterior Estimates:\n",
      "              Mean           SD         Naive SE        MCSE         ESS    \n",
      "       α    9.172685916  0.539672543 0.01206744491 0.05217665258  106.981386\n",
      "  lf_num    0.000000000  0.000000000 0.00000000000 0.00000000000         NaN\n",
      "      βA   -1.898779289  0.470268544 0.01051552433 0.05217559801   81.237582\n",
      "      βR   -0.181017841  0.233840279 0.00522882759 0.02338156427  100.021074\n",
      "       σ    0.968754734  0.232627447 0.00520170785 0.02032779040  130.960873\n",
      " elapsed    0.145368611  0.093850995 0.00209857205 0.00342077975  752.709743\n",
      " epsilon    0.028941493  0.013858204 0.00030987885 0.00021608833 2000.000000\n",
      "eval_num   45.949000000 27.904349578 0.62396022524 0.87435326475 1018.520879\n",
      "     βAR    0.373992527  0.207308860 0.00463556703 0.02010936414  106.276942\n",
      "      lp -250.421713727 18.848907391 0.42147438228 1.83940573385  105.006767\n",
      "  lf_eps    0.028941493  0.013858204 0.00030987885 0.00021608833 2000.000000\n",
      "\n",
      "Quantiles:\n",
      "              2.5%          25.0%          50.0%          75.0%          97.5%    \n",
      "       α    8.916087894    9.11888177    9.220750722    9.316062941    9.503118817\n",
      "  lf_num    0.000000000    0.00000000    0.000000000    0.000000000    0.000000000\n",
      "      βA   -2.415562495   -2.10471988   -1.930112658   -1.778686905   -1.414768236\n",
      "      βR   -0.361174723   -0.25282901   -0.201292383   -0.148614098   -0.020421998\n",
      "       σ    0.853161505    0.91260447    0.948548438    0.984696027    1.075171986\n",
      " elapsed    0.026843363    0.06841620    0.135749225    0.176921846    0.343737103\n",
      " epsilon    0.017164974    0.02809827    0.028298413    0.028298413    0.038827652\n",
      "eval_num   10.000000000   22.00000000   46.000000000   46.000000000   94.000000000\n",
      "     βAR    0.099373167    0.29361550    0.386441480    0.482469998    0.656292998\n",
      "      lp -254.024243218 -249.44530595 -248.293041328 -247.399488150 -246.428240288\n",
      "  lf_eps    0.017164974    0.02809827    0.028298413    0.028298413    0.038827652\n",
      "\n"
     ]
    }
   ],
   "cell_type": "code",
   "source": [
    "describe(posterior)"
   ],
   "metadata": {},
   "execution_count": 10
  },
  {
   "outputs": [],
   "cell_type": "markdown",
   "source": [
    "Fix the inclusion of adaptation samples"
   ],
   "metadata": {}
  },
  {
   "outputs": [
    {
     "output_type": "execute_result",
     "data": {
      "text/plain": "Object of type \"Chains{Float64}\"\n\nIterations = 1:1000\nThinning interval = 1\nChains = 1\nSamples per chain = 1000\n\nUnion{Missing, Float64}[9.26481 0.0 … -247.272 0.0282984; 9.23935 0.0 … -246.169 0.0282984; … ; 9.15283 0.0 … -248.715 0.0282984; 9.10157 0.0 … -247.162 0.0282984]"
     },
     "metadata": {},
     "execution_count": 11
    }
   ],
   "cell_type": "code",
   "source": [
    "posterior2 = MCMCChain.Chains(posterior.value[1001:2000,:,:], names=posterior.names)"
   ],
   "metadata": {},
   "execution_count": 11
  },
  {
   "outputs": [],
   "cell_type": "markdown",
   "source": [
    "Example of a Turing run simulation output"
   ],
   "metadata": {}
  },
  {
   "outputs": [],
   "cell_type": "markdown",
   "source": [
    "Here's the ulam() output from rethinking"
   ],
   "metadata": {}
  },
  {
   "outputs": [],
   "cell_type": "code",
   "source": [
    "m8_1s_cmdstan = \"\n",
    "Iterations = 1:1000\n",
    "Thinning interval = 1\n",
    "Chains = 1,2,3,4\n",
    "Samples per chain = 1000\n",
    "\n",
    "Empirical Posterior Estimates:\n",
    "          Mean         SD       Naive SE       MCSE      ESS\n",
    "    a  9.22360053 0.139119116 0.0021996664 0.0034632816 1000\n",
    "   bR -0.20196346 0.076106388 0.0012033477 0.0018370185 1000\n",
    "   bA -1.94430980 0.227080488 0.0035904578 0.0057840746 1000\n",
    "  bAR  0.39071684 0.131889143 0.0020853505 0.0032749642 1000\n",
    "sigma  0.95036370 0.052161768 0.0008247500 0.0009204073 1000\n",
    "\n",
    "Quantiles:\n",
    "          2.5%       25.0%       50.0%      75.0%        97.5%\n",
    "    a  8.95307475  9.12719750  9.2237750  9.31974000  9.490234250\n",
    "   bR -0.35217930 -0.25334425 -0.2012855 -0.15124725 -0.054216855\n",
    "   bA -2.39010825 -2.09894500 -1.9432550 -1.78643000 -1.513974250\n",
    "  bAR  0.13496995  0.30095575  0.3916590  0.47887625  0.650244475\n",
    "sigma  0.85376115  0.91363250  0.9484920  0.98405750  1.058573750\n",
    "\";"
   ],
   "metadata": {},
   "execution_count": 12
  },
  {
   "outputs": [],
   "cell_type": "markdown",
   "source": [
    "Describe the posterior samples"
   ],
   "metadata": {}
  },
  {
   "outputs": [
    {
     "name": "stdout",
     "output_type": "stream",
     "text": [
      "Iterations = 1:1000\n",
      "Thinning interval = 1\n",
      "Chains = 1\n",
      "Samples per chain = 1000\n",
      "\n",
      "Empirical Posterior Estimates:\n",
      "              Mean                   SD                       Naive SE                       MCSE                ESS   \n",
      "       α    9.220630044  0.146568537006979970893639 0.00463490410260735102160323 0.0086983648829756093912025  283.92672\n",
      "  lf_num    0.000000000  0.000000000000000000000000 0.00000000000000000000000000 0.0000000000000000000000000        NaN\n",
      "      βA   -1.927467763  0.234807850298384551690489 0.00742527619430742580330929 0.0172806868219145190468389  184.63041\n",
      "      βR   -0.203183007  0.081130815900362585058048 0.00256558166672950140746456 0.0041346883572629311229263  385.02251\n",
      "       σ    0.949919816  0.052648881216447632191979 0.00166490380903630942957538 0.0016653454543760844337730  999.46968\n",
      " elapsed    0.140624627  0.080469751548063558899138 0.00254467697639741263077040 0.0030369925297186453269638  702.06589\n",
      " epsilon    0.028298413  0.000000000000000010413549 0.00000000000000000032930533 0.0000000000000000023129646   20.27027\n",
      "eval_num   45.604000000 25.246634955505985686841086 0.79836869714222691296612311 0.7255453121618250511559722 1000.00000\n",
      "     βAR    0.384212839  0.131819859969496439022763 0.00416850998348062586063012 0.0072891878033541340070611  327.04191\n",
      "      lp -248.523508881  1.558203486577360408205095 0.04927472075600066586664738 0.1178754680032221280328031  174.74368\n",
      "  lf_eps    0.028298413  0.000000000000000010413549 0.00000000000000000032930533 0.0000000000000000023129646   20.27027\n",
      "\n",
      "Quantiles:\n",
      "              2.5%           25.0%          50.0%          75.0%          97.5%    \n",
      "       α    8.952857108    9.118881773    9.224139146    9.313019757    9.514787489\n",
      "  lf_num    0.000000000    0.000000000    0.000000000    0.000000000    0.000000000\n",
      "      βA   -2.390429563   -2.086018644   -1.907650236   -1.769997147   -1.503181597\n",
      "      βR   -0.375894219   -0.252205795   -0.202719639   -0.148394859   -0.044688398\n",
      "       σ    0.851689689    0.912167312    0.948742294    0.985437957    1.058529249\n",
      " elapsed    0.031642288    0.067839025    0.135551867    0.167187771    0.306468448\n",
      " epsilon    0.028298413    0.028298413    0.028298413    0.028298413    0.028298413\n",
      "eval_num   10.000000000   22.000000000   46.000000000   46.000000000   94.000000000\n",
      "     βAR    0.131183506    0.293352511    0.382128515    0.473021568    0.656292998\n",
      "      lp -252.334296836 -249.328970775 -248.184636188 -247.377339671 -246.452202903\n",
      "  lf_eps    0.028298413    0.028298413    0.028298413    0.028298413    0.028298413\n",
      "\n"
     ]
    }
   ],
   "cell_type": "code",
   "source": [
    "describe(posterior2)"
   ],
   "metadata": {},
   "execution_count": 13
  },
  {
   "outputs": [],
   "cell_type": "markdown",
   "source": [
    "end of 08/m8.1t.jl#-\n",
    "*This notebook was generated using [Literate.jl](https://github.com/fredrikekre/Literate.jl).*"
   ],
   "metadata": {}
  }
 ],
 "nbformat_minor": 3,
 "metadata": {
  "language_info": {
   "file_extension": ".jl",
   "mimetype": "application/julia",
   "name": "julia",
   "version": "1.1.0"
  },
  "kernelspec": {
   "name": "julia-1.1",
   "display_name": "Julia 1.1.0",
   "language": "julia"
  }
 },
 "nbformat": 4
}
