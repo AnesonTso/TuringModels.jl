{
 "cells": [
  {
   "outputs": [],
   "cell_type": "markdown",
   "source": [
    "### m8.1stan"
   ],
   "metadata": {}
  },
  {
   "outputs": [],
   "cell_type": "markdown",
   "source": [
    "m8.1stan is the first model in the Statistical Rethinking book (pp. 249) using Stan."
   ],
   "metadata": {}
  },
  {
   "outputs": [],
   "cell_type": "markdown",
   "source": [
    "Here we will use Turing's NUTS support, which is currently (2018) the originalNUTS by [Hoffman & Gelman]( http://www.stat.columbia.edu/~gelman/research/published/nuts.pdf) and not the one that's in Stan 2.18.2, i.e., Appendix A.5 in: https://arxiv.org/abs/1701.02434"
   ],
   "metadata": {}
  },
  {
   "outputs": [],
   "cell_type": "markdown",
   "source": [
    "The TuringModels pkg imports modules such as CSV and DataFrames"
   ],
   "metadata": {}
  },
  {
   "outputs": [
    {
     "name": "stdout",
     "output_type": "stream",
     "text": [
      "┌ Info: [Turing]: global PROGRESS is set as false\n",
      "└ @ Turing /Users/rob/.julia/packages/Turing/UXxKz/src/Turing.jl:24\n"
     ]
    }
   ],
   "cell_type": "code",
   "source": [
    "using TuringModels, Turing\n",
    "\n",
    "Turing.setadbackend(:reverse_diff);\n",
    "Turing.turnprogress(false);"
   ],
   "metadata": {},
   "execution_count": 1
  },
  {
   "outputs": [],
   "cell_type": "markdown",
   "source": [
    "Read in the `rugged` data as a DataFrame"
   ],
   "metadata": {}
  },
  {
   "outputs": [],
   "cell_type": "code",
   "source": [
    "d = CSV.read(rel_path(\"..\", \"data\", \"rugged.csv\"), delim=';');"
   ],
   "metadata": {},
   "execution_count": 2
  },
  {
   "outputs": [],
   "cell_type": "markdown",
   "source": [
    "Show size of the DataFrame (should be 234x51)"
   ],
   "metadata": {}
  },
  {
   "outputs": [
    {
     "output_type": "execute_result",
     "data": {
      "text/plain": "(234, 51)"
     },
     "metadata": {},
     "execution_count": 3
    }
   ],
   "cell_type": "code",
   "source": [
    "size(d)"
   ],
   "metadata": {},
   "execution_count": 3
  },
  {
   "outputs": [],
   "cell_type": "markdown",
   "source": [
    "Apply log() to each element in rgdppc_2000 column and add it as a new column"
   ],
   "metadata": {}
  },
  {
   "outputs": [],
   "cell_type": "code",
   "source": [
    "d = hcat(d, map(log, d[Symbol(\"rgdppc_2000\")]));"
   ],
   "metadata": {},
   "execution_count": 4
  },
  {
   "outputs": [],
   "cell_type": "markdown",
   "source": [
    "Rename our col x1 => log_gdp"
   ],
   "metadata": {}
  },
  {
   "outputs": [],
   "cell_type": "code",
   "source": [
    "rename!(d, :x1 => :log_gdp);"
   ],
   "metadata": {},
   "execution_count": 5
  },
  {
   "outputs": [],
   "cell_type": "markdown",
   "source": [
    "Now we need to drop every row where rgdppc_2000 == missing"
   ],
   "metadata": {}
  },
  {
   "outputs": [],
   "cell_type": "markdown",
   "source": [
    "When this (https://github.com/JuliaData/DataFrames.jl/pull/1546) hits DataFrame it'll be conceptually easier: i.e., completecases!(d, :rgdppc_2000)"
   ],
   "metadata": {}
  },
  {
   "outputs": [],
   "cell_type": "code",
   "source": [
    "notisnan(e) = !ismissing(e)\n",
    "dd = d[map(notisnan, d[:rgdppc_2000]), :];"
   ],
   "metadata": {},
   "execution_count": 6
  },
  {
   "outputs": [],
   "cell_type": "markdown",
   "source": [
    "Updated DataFrame dd size (should equal 170 x 52)"
   ],
   "metadata": {}
  },
  {
   "outputs": [
    {
     "output_type": "execute_result",
     "data": {
      "text/plain": "(170, 52)"
     },
     "metadata": {},
     "execution_count": 7
    }
   ],
   "cell_type": "code",
   "source": [
    "size(dd)"
   ],
   "metadata": {},
   "execution_count": 7
  },
  {
   "outputs": [],
   "cell_type": "markdown",
   "source": [
    "Define the Turing model"
   ],
   "metadata": {}
  },
  {
   "outputs": [],
   "cell_type": "code",
   "source": [
    "@model m8_1stan(y, x₁, x₂) = begin\n",
    "    σ ~ Truncated(Cauchy(0, 2), 0, Inf)\n",
    "    βR ~ Normal(0, 10)\n",
    "    βA ~ Normal(0, 10)\n",
    "    βAR ~ Normal(0, 10)\n",
    "    α ~ Normal(0, 100)\n",
    "\n",
    "    for i ∈ 1:length(y)\n",
    "        y[i] ~ Normal(α + βR * x₁[i] + βA * x₂[i] + βAR * x₁[i] * x₂[i], σ)\n",
    "    end\n",
    "end;"
   ],
   "metadata": {},
   "execution_count": 8
  },
  {
   "outputs": [],
   "cell_type": "markdown",
   "source": [
    "Test to see that the model is sane. Use 2000 for now, as in the book.\n",
    "Need to set the same stepsize and adapt_delta as in Stan..."
   ],
   "metadata": {}
  },
  {
   "outputs": [],
   "cell_type": "markdown",
   "source": [
    "Use Turing mcmc"
   ],
   "metadata": {}
  },
  {
   "outputs": [
    {
     "name": "stdout",
     "output_type": "stream",
     "text": [
      "┌ Info: [Turing] looking for good initial eps...\n",
      "└ @ Turing.Inference /Users/rob/.julia/packages/Turing/UXxKz/src/inference/support/hmc_core.jl:240\n",
      "┌ Info: \r[NUTS{Turing.Core.FluxTrackerAD,Union{}}] found initial ϵ: 0.1\n",
      "└ @ Turing.Inference /Users/rob/.julia/packages/Turing/UXxKz/src/inference/support/hmc_core.jl:235\n",
      "┌ Info:  Adapted ϵ = 0.02455354787220282, std = [1.0, 1.0, 1.0, 1.0, 1.0]; 1000 iterations is used for adaption.\n",
      "└ @ Turing.Inference /Users/rob/.julia/packages/Turing/UXxKz/src/inference/adapt/adapt.jl:91\n",
      "[NUTS] Finished with\n",
      "  Running time        = 250.91819286099994;\n",
      "  #lf / sample        = 0.0;\n",
      "  #evals / sample     = 47.296;\n",
      "  pre-cond. metric    = [1.0, 1.0, 1.0, 1.0, 1.0].\n"
     ]
    }
   ],
   "cell_type": "code",
   "source": [
    "posterior = sample(m8_1stan(dd[:log_gdp], dd[:rugged], dd[:cont_africa]),\n",
    "Turing.NUTS(2000, 1000, 0.95));"
   ],
   "metadata": {},
   "execution_count": 9
  },
  {
   "outputs": [],
   "cell_type": "markdown",
   "source": [
    "Describe the posterior samples"
   ],
   "metadata": {}
  },
  {
   "outputs": [
    {
     "name": "stdout",
     "output_type": "stream",
     "text": [
      "Iterations = 1:2000\n",
      "Thinning interval = 1\n",
      "Chains = 1\n",
      "Samples per chain = 2000\n",
      "\n",
      "Empirical Posterior Estimates:\n",
      "              Mean              SD            Naive SE          MCSE          ESS    \n",
      "       α    9.181455714  3.933350958×10⁻¹    0.0087952401    0.0367816441  114.357097\n",
      "  lf_num    0.000000000                 0    0.0000000000    0.0000000000         NaN\n",
      "      βA   -1.888066517  4.566855972×10⁻¹    0.0102118004    0.0440006905  107.724787\n",
      "      βR   -0.170404369  3.335329574×10⁻¹    0.0074580237    0.0316124718  111.316771\n",
      "       σ 1324.048654985    5.43520801×10⁴ 1215.3494579162 1323.0977011788 1687.518370\n",
      " elapsed    0.125459096 7.9970404761×10⁻²    0.0017881926    0.0021390520 1397.706251\n",
      " epsilon    0.027552754 1.7361337791×10⁻²    0.0003882113    0.0007902756  482.624344\n",
      "eval_num   47.296000000    2.78267416×10¹    0.6222248580    0.7205708264 1491.321779\n",
      "     βAR    0.390309023  1.700210609×10⁻¹    0.0038017865    0.0060423862  791.750743\n",
      "      lp -258.808577498    1.22935701×10²    2.7489258329   10.3315375867  141.587894\n",
      "  lf_eps    0.027552754 1.7361337791×10⁻²    0.0003882113    0.0007902756  482.624344\n",
      "\n",
      "Quantiles:\n",
      "              2.5%           25.0%          50.0%          75.0%          97.5%    \n",
      "       α    8.910641008    9.124610928    9.217491893    9.300016327    9.503879830\n",
      "  lf_num    0.000000000    0.000000000    0.000000000    0.000000000    0.000000000\n",
      "      βA   -2.363478005   -2.077025042   -1.932704677   -1.770626428   -1.422888105\n",
      "      βR   -0.362010118   -0.249077909   -0.199002211   -0.146994190   -0.041752151\n",
      "       σ    0.857428730    0.916697185    0.950025272    0.983400064    1.075563563\n",
      " elapsed    0.022767609    0.057917425    0.117449338    0.146703608    0.274431161\n",
      " epsilon    0.018024236    0.024553548    0.024553548    0.028995142    0.039242565\n",
      "eval_num   10.000000000   22.000000000   46.000000000   46.000000000   94.000000000\n",
      "     βAR    0.117240614    0.293401960    0.386880870    0.482616121    0.678289958\n",
      "      lp -253.357032392 -249.402949759 -248.219375640 -247.338736775 -246.440276663\n",
      "  lf_eps    0.018024236    0.024553548    0.024553548    0.028995142    0.039242565\n",
      "\n"
     ]
    }
   ],
   "cell_type": "code",
   "source": [
    "describe(posterior)"
   ],
   "metadata": {},
   "execution_count": 10
  },
  {
   "outputs": [],
   "cell_type": "markdown",
   "source": [
    "Fix the inclusion of adaptation samples"
   ],
   "metadata": {}
  },
  {
   "outputs": [
    {
     "output_type": "execute_result",
     "data": {
      "text/plain": "Object of type \"Chains{Float64}\"\n\nIterations = 1:1000\nThinning interval = 1\nChains = 1\nSamples per chain = 1000\n\nUnion{Missing, Float64}[9.19034 0.0 … -249.045 0.0245535; 9.16767 0.0 … -247.055 0.0245535; … ; 9.29008 0.0 … -248.106 0.0245535; 9.26406 0.0 … -246.688 0.0245535]"
     },
     "metadata": {},
     "execution_count": 11
    }
   ],
   "cell_type": "code",
   "source": [
    "posterior2 = MCMCChain.Chains(posterior.value[1001:2000,:,:], names=posterior.names)"
   ],
   "metadata": {},
   "execution_count": 11
  },
  {
   "outputs": [],
   "cell_type": "markdown",
   "source": [
    "Example of a Turing run simulation output"
   ],
   "metadata": {}
  },
  {
   "outputs": [],
   "cell_type": "markdown",
   "source": [
    "Here's the ulam() output from rethinking"
   ],
   "metadata": {}
  },
  {
   "outputs": [],
   "cell_type": "code",
   "source": [
    "m8_1s_cmdstan = \"\n",
    "Iterations = 1:1000\n",
    "Thinning interval = 1\n",
    "Chains = 1,2,3,4\n",
    "Samples per chain = 1000\n",
    "\n",
    "Empirical Posterior Estimates:\n",
    "          Mean         SD       Naive SE       MCSE      ESS\n",
    "    a  9.22360053 0.139119116 0.0021996664 0.0034632816 1000\n",
    "   bR -0.20196346 0.076106388 0.0012033477 0.0018370185 1000\n",
    "   bA -1.94430980 0.227080488 0.0035904578 0.0057840746 1000\n",
    "  bAR  0.39071684 0.131889143 0.0020853505 0.0032749642 1000\n",
    "sigma  0.95036370 0.052161768 0.0008247500 0.0009204073 1000\n",
    "\n",
    "Quantiles:\n",
    "          2.5%       25.0%       50.0%      75.0%        97.5%\n",
    "    a  8.95307475  9.12719750  9.2237750  9.31974000  9.490234250\n",
    "   bR -0.35217930 -0.25334425 -0.2012855 -0.15124725 -0.054216855\n",
    "   bA -2.39010825 -2.09894500 -1.9432550 -1.78643000 -1.513974250\n",
    "  bAR  0.13496995  0.30095575  0.3916590  0.47887625  0.650244475\n",
    "sigma  0.85376115  0.91363250  0.9484920  0.98405750  1.058573750\n",
    "\";"
   ],
   "metadata": {},
   "execution_count": 12
  },
  {
   "outputs": [],
   "cell_type": "markdown",
   "source": [
    "Describe the posterior samples"
   ],
   "metadata": {}
  },
  {
   "outputs": [
    {
     "name": "stdout",
     "output_type": "stream",
     "text": [
      "Iterations = 1:1000\n",
      "Thinning interval = 1\n",
      "Chains = 1\n",
      "Samples per chain = 1000\n",
      "\n",
      "Empirical Posterior Estimates:\n",
      "              Mean                   SD                       Naive SE              MCSE         ESS   \n",
      "       α    9.220223898  0.136246523139085862208475 0.0043084933639834536653335 0.0091337309  222.51251\n",
      "  lf_num    0.000000000  0.000000000000000000000000 0.0000000000000000000000000 0.0000000000        NaN\n",
      "      βA   -1.939239358  0.226602042770951583872119 0.0071657857760309981789981 0.0193795497  136.72259\n",
      "      βR   -0.204729891  0.078700402464217750209130 0.0024887252455885627323851 0.0038821380  410.97174\n",
      "       σ    0.952001663  0.054100018068588974495814 0.0017107927855300457831850 0.0012247892 1000.00000\n",
      " elapsed    0.123533711  0.071055947788420378841145 0.0022469863631341254958662 0.0018691656 1000.00000\n",
      " epsilon    0.024553548  0.000000000000000041654196 0.0000000000000000013172213 0.0000000000 1000.00000\n",
      "eval_num   48.052000000 27.096780833367102303554930 0.8568754469183550437350050 0.6680000000 1000.00000\n",
      "     βAR    0.393296930  0.139088375662305974156396 0.0043983606314601754114224 0.0081392350  292.02128\n",
      "      lp -248.568513241  1.668952222640108562501382 0.0527769032954317832140312 0.0886394050  354.51462\n",
      "  lf_eps    0.024553548  0.000000000000000041654196 0.0000000000000000013172213 0.0000000000 1000.00000\n",
      "\n",
      "Quantiles:\n",
      "              2.5%           25.0%          50.0%          75.0%          97.5%    \n",
      "       α    8.962841037    9.125920731    9.218859284    9.307146320    9.500768914\n",
      "  lf_num    0.000000000    0.000000000    0.000000000    0.000000000    0.000000000\n",
      "      βA   -2.363670256   -2.103769402   -1.944693752   -1.785450421   -1.484485462\n",
      "      βR   -0.375706603   -0.254816749   -0.202652469   -0.151929443   -0.061891673\n",
      "       σ    0.854295746    0.915106211    0.948978394    0.983722702    1.070322633\n",
      " elapsed    0.027546417    0.056941887    0.116650778    0.138376256    0.254138053\n",
      " epsilon    0.024553548    0.024553548    0.024553548    0.024553548    0.024553548\n",
      "eval_num   10.000000000   22.000000000   46.000000000   46.000000000   94.000000000\n",
      "     βAR    0.109587461    0.297252308    0.395127267    0.488931518    0.666023886\n",
      "      lp -253.105378284 -249.438117180 -248.219375640 -247.318425272 -246.434304098\n",
      "  lf_eps    0.024553548    0.024553548    0.024553548    0.024553548    0.024553548\n",
      "\n"
     ]
    }
   ],
   "cell_type": "code",
   "source": [
    "describe(posterior2)"
   ],
   "metadata": {},
   "execution_count": 13
  },
  {
   "outputs": [],
   "cell_type": "markdown",
   "source": [
    "end of 08/m8.1t.jl#-\n",
    "*This notebook was generated using [Literate.jl](https://github.com/fredrikekre/Literate.jl).*"
   ],
   "metadata": {}
  }
 ],
 "nbformat_minor": 3,
 "metadata": {
  "language_info": {
   "file_extension": ".jl",
   "mimetype": "application/julia",
   "name": "julia",
   "version": "1.2.0-DEV.271"
  },
  "kernelspec": {
   "name": "julia-1.2",
   "display_name": "Julia 1.2.0-DEV.271",
   "language": "julia"
  }
 },
 "nbformat": 4
}
