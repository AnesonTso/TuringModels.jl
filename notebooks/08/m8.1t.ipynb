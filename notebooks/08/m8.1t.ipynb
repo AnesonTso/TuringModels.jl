{
 "cells": [
  {
   "outputs": [],
   "cell_type": "markdown",
   "source": [
    "### m8.1stan"
   ],
   "metadata": {}
  },
  {
   "outputs": [],
   "cell_type": "markdown",
   "source": [
    "m8.1stan is the first model in the Statistical Rethinking book (pp. 249) using Stan."
   ],
   "metadata": {}
  },
  {
   "outputs": [],
   "cell_type": "markdown",
   "source": [
    "Here we will use Turing's NUTS support, which is currently (2018) the originalNUTS by [Hoffman & Gelman]( http://www.stat.columbia.edu/~gelman/research/published/nuts.pdf) and not the one that's in Stan 2.18.2, i.e., Appendix A.5 in: https://arxiv.org/abs/1701.02434"
   ],
   "metadata": {}
  },
  {
   "outputs": [],
   "cell_type": "markdown",
   "source": [
    "The TuringModels pkg imports modules such as CSV and DataFrames"
   ],
   "metadata": {}
  },
  {
   "outputs": [
    {
     "name": "stdout",
     "output_type": "stream",
     "text": [
      "┌ Info: [Turing]: global PROGRESS is set as false\n",
      "└ @ Turing /Users/rob/.julia/packages/Turing/UXxKz/src/Turing.jl:24\n"
     ]
    }
   ],
   "cell_type": "code",
   "source": [
    "using TuringModels\n",
    "\n",
    "Turing.setadbackend(:reverse_diff);\n",
    "Turing.turnprogress(false);"
   ],
   "metadata": {},
   "execution_count": 1
  },
  {
   "outputs": [],
   "cell_type": "markdown",
   "source": [
    "Read in the `rugged` data as a DataFrame"
   ],
   "metadata": {}
  },
  {
   "outputs": [],
   "cell_type": "code",
   "source": [
    "d = CSV.read(rel_path(\"..\", \"data\", \"rugged.csv\"), delim=';');"
   ],
   "metadata": {},
   "execution_count": 2
  },
  {
   "outputs": [],
   "cell_type": "markdown",
   "source": [
    "Show size of the DataFrame (should be 234x51)"
   ],
   "metadata": {}
  },
  {
   "outputs": [
    {
     "output_type": "execute_result",
     "data": {
      "text/plain": "(234, 51)"
     },
     "metadata": {},
     "execution_count": 3
    }
   ],
   "cell_type": "code",
   "source": [
    "size(d)"
   ],
   "metadata": {},
   "execution_count": 3
  },
  {
   "outputs": [],
   "cell_type": "markdown",
   "source": [
    "Apply log() to each element in rgdppc_2000 column and add it as a new column"
   ],
   "metadata": {}
  },
  {
   "outputs": [],
   "cell_type": "code",
   "source": [
    "d = hcat(d, map(log, d[Symbol(\"rgdppc_2000\")]));"
   ],
   "metadata": {},
   "execution_count": 4
  },
  {
   "outputs": [],
   "cell_type": "markdown",
   "source": [
    "Rename our col x1 => log_gdp"
   ],
   "metadata": {}
  },
  {
   "outputs": [],
   "cell_type": "code",
   "source": [
    "rename!(d, :x1 => :log_gdp);"
   ],
   "metadata": {},
   "execution_count": 5
  },
  {
   "outputs": [],
   "cell_type": "markdown",
   "source": [
    "Now we need to drop every row where rgdppc_2000 == missing"
   ],
   "metadata": {}
  },
  {
   "outputs": [],
   "cell_type": "markdown",
   "source": [
    "When this (https://github.com/JuliaData/DataFrames.jl/pull/1546) hits DataFrame it'll be conceptually easier: i.e., completecases!(d, :rgdppc_2000)"
   ],
   "metadata": {}
  },
  {
   "outputs": [],
   "cell_type": "code",
   "source": [
    "notisnan(e) = !ismissing(e)\n",
    "dd = d[map(notisnan, d[:rgdppc_2000]), :];"
   ],
   "metadata": {},
   "execution_count": 6
  },
  {
   "outputs": [],
   "cell_type": "markdown",
   "source": [
    "Updated DataFrame dd size (should equal 170 x 52)"
   ],
   "metadata": {}
  },
  {
   "outputs": [
    {
     "output_type": "execute_result",
     "data": {
      "text/plain": "(170, 52)"
     },
     "metadata": {},
     "execution_count": 7
    }
   ],
   "cell_type": "code",
   "source": [
    "size(dd)"
   ],
   "metadata": {},
   "execution_count": 7
  },
  {
   "outputs": [],
   "cell_type": "markdown",
   "source": [
    "Define the Turing model"
   ],
   "metadata": {}
  },
  {
   "outputs": [],
   "cell_type": "code",
   "source": [
    "@model m8_1stan(y, x₁, x₂) = begin\n",
    "    σ ~ Truncated(Cauchy(0, 2), 0, Inf)\n",
    "    βR ~ Normal(0, 10)\n",
    "    βA ~ Normal(0, 10)\n",
    "    βAR ~ Normal(0, 10)\n",
    "    α ~ Normal(0, 100)\n",
    "\n",
    "    for i ∈ 1:length(y)\n",
    "        y[i] ~ Normal(α + βR * x₁[i] + βA * x₂[i] + βAR * x₁[i] * x₂[i], σ)\n",
    "    end\n",
    "end;"
   ],
   "metadata": {},
   "execution_count": 8
  },
  {
   "outputs": [],
   "cell_type": "markdown",
   "source": [
    "Test to see that the model is sane. Use 2000 for now, as in the book.\n",
    "Need to set the same stepsize and adapt_delta as in Stan..."
   ],
   "metadata": {}
  },
  {
   "outputs": [],
   "cell_type": "markdown",
   "source": [
    "Use Turing mcmc"
   ],
   "metadata": {}
  },
  {
   "outputs": [
    {
     "name": "stdout",
     "output_type": "stream",
     "text": [
      "┌ Info: [Turing] looking for good initial eps...\n",
      "└ @ Turing.Inference /Users/rob/.julia/packages/Turing/UXxKz/src/inference/support/hmc_core.jl:240\n",
      "┌ Info: \r[NUTS{Turing.Core.FluxTrackerAD,Union{}}] found initial ϵ: 0.1\n",
      "└ @ Turing.Inference /Users/rob/.julia/packages/Turing/UXxKz/src/inference/support/hmc_core.jl:235\n",
      "┌ Info:  Adapted ϵ = 0.030678798031748687, std = [1.0, 1.0, 1.0, 1.0, 1.0]; 1000 iterations is used for adaption.\n",
      "└ @ Turing.Inference /Users/rob/.julia/packages/Turing/UXxKz/src/inference/adapt/adapt.jl:91\n",
      "[NUTS] Finished with\n",
      "  Running time        = 235.97243155899974;\n",
      "  #lf / sample        = 0.0;\n",
      "  #evals / sample     = 43.528;\n",
      "  pre-cond. metric    = [1.0, 1.0, 1.0, 1.0, 1.0].\n"
     ]
    }
   ],
   "cell_type": "code",
   "source": [
    "posterior = sample(m8_1stan(dd[:log_gdp], dd[:rugged], dd[:cont_africa]),\n",
    "Turing.NUTS(2000, 1000, 0.95));"
   ],
   "metadata": {},
   "execution_count": 9
  },
  {
   "outputs": [],
   "cell_type": "markdown",
   "source": [
    "Describe the posterior samples"
   ],
   "metadata": {}
  },
  {
   "outputs": [
    {
     "name": "stdout",
     "output_type": "stream",
     "text": [
      "Iterations = 1:2000\n",
      "Thinning interval = 1\n",
      "Chains = 1\n",
      "Samples per chain = 2000\n",
      "\n",
      "Empirical Posterior Estimates:\n",
      "              Mean           SD        Naive SE        MCSE         ESS   \n",
      "       α    9.178085003  0.433940492 0.0097032044 0.02937793424  218.18146\n",
      "  lf_num    0.000000000  0.000000000 0.0000000000 0.00000000000        NaN\n",
      "      βA   -1.913381781  0.265290115 0.0059320673 0.01333090874  396.02502\n",
      "      βR   -0.185937134  0.152922167 0.0034194436 0.01027835143  221.35736\n",
      "       σ    0.966711775  0.233126529 0.0052128677 0.01423716546  268.12439\n",
      " elapsed    0.117986216  0.071785197 0.0016051658 0.00240439519  891.37015\n",
      " epsilon    0.030887567  0.026899355 0.0006014879 0.00046378757 2000.00000\n",
      "eval_num   43.528000000 25.520322479 0.5706517587 0.82232840155  963.12296\n",
      "     βAR    0.381432189  0.139689366 0.0031235492 0.00388195707 1294.86721\n",
      "      lp -249.722794495 16.360296709 0.3658273557 1.15128513098  201.93731\n",
      "  lf_eps    0.030887567  0.026899355 0.0006014879 0.00046378757 2000.00000\n",
      "\n",
      "Quantiles:\n",
      "              2.5%           25.0%          50.0%          75.0%          97.5%    \n",
      "       α    8.941933005    9.115400457    9.205666711    9.298405102    9.470952395\n",
      "  lf_num    0.000000000    0.000000000    0.000000000    0.000000000    0.000000000\n",
      "      βA   -2.350040854   -2.063938921   -1.927903264   -1.780189075   -1.470099484\n",
      "      βR   -0.347600002   -0.249562796   -0.196048167   -0.139032195   -0.043210313\n",
      "       σ    0.855573857    0.913962034    0.950011611    0.989973729    1.068544363\n",
      " elapsed    0.022091993    0.057710127    0.116669110    0.139748253    0.271542653\n",
      " epsilon    0.018539111    0.028709711    0.030678798    0.030678798    0.039378352\n",
      "eval_num   10.000000000   22.000000000   46.000000000   46.000000000   94.000000000\n",
      "     βAR    0.109327729    0.297129351    0.381821780    0.466386968    0.626758385\n",
      "      lp -253.350724709 -249.421010501 -248.263620294 -247.407216033 -246.402913051\n",
      "  lf_eps    0.018539111    0.028709711    0.030678798    0.030678798    0.039378352\n",
      "\n"
     ]
    }
   ],
   "cell_type": "code",
   "source": [
    "describe(posterior)"
   ],
   "metadata": {},
   "execution_count": 10
  },
  {
   "outputs": [],
   "cell_type": "markdown",
   "source": [
    "Fix the inclusion of adaptation samples"
   ],
   "metadata": {}
  },
  {
   "outputs": [
    {
     "output_type": "execute_result",
     "data": {
      "text/plain": "Object of type \"Chains{Float64}\"\n\nIterations = 1:1000\nThinning interval = 1\nChains = 1\nSamples per chain = 1000\n\nUnion{Missing, Float64}[9.3931 0.0 … -251.957 0.0306788; 9.32455 0.0 … -250.295 0.0306788; … ; 9.12926 0.0 … -247.81 0.0306788; 9.02808 0.0 … -250.511 0.0306788]"
     },
     "metadata": {},
     "execution_count": 11
    }
   ],
   "cell_type": "code",
   "source": [
    "posterior2 = MCMCChain.Chains(posterior.value[1001:2000,:,:], names=posterior.names)"
   ],
   "metadata": {},
   "execution_count": 11
  },
  {
   "outputs": [],
   "cell_type": "markdown",
   "source": [
    "Example of a Turing run simulation output"
   ],
   "metadata": {}
  },
  {
   "outputs": [],
   "cell_type": "markdown",
   "source": [
    "Here's the ulam() output from rethinking"
   ],
   "metadata": {}
  },
  {
   "outputs": [],
   "cell_type": "code",
   "source": [
    "m8_1s_cmdstan = \"\n",
    "Iterations = 1:1000\n",
    "Thinning interval = 1\n",
    "Chains = 1,2,3,4\n",
    "Samples per chain = 1000\n",
    "\n",
    "Empirical Posterior Estimates:\n",
    "          Mean         SD       Naive SE       MCSE      ESS\n",
    "    a  9.22360053 0.139119116 0.0021996664 0.0034632816 1000\n",
    "   bR -0.20196346 0.076106388 0.0012033477 0.0018370185 1000\n",
    "   bA -1.94430980 0.227080488 0.0035904578 0.0057840746 1000\n",
    "  bAR  0.39071684 0.131889143 0.0020853505 0.0032749642 1000\n",
    "sigma  0.95036370 0.052161768 0.0008247500 0.0009204073 1000\n",
    "\n",
    "Quantiles:\n",
    "          2.5%       25.0%       50.0%      75.0%        97.5%\n",
    "    a  8.95307475  9.12719750  9.2237750  9.31974000  9.490234250\n",
    "   bR -0.35217930 -0.25334425 -0.2012855 -0.15124725 -0.054216855\n",
    "   bA -2.39010825 -2.09894500 -1.9432550 -1.78643000 -1.513974250\n",
    "  bAR  0.13496995  0.30095575  0.3916590  0.47887625  0.650244475\n",
    "sigma  0.85376115  0.91363250  0.9484920  0.98405750  1.058573750\n",
    "\";"
   ],
   "metadata": {},
   "execution_count": 12
  },
  {
   "outputs": [],
   "cell_type": "markdown",
   "source": [
    "Describe the posterior samples"
   ],
   "metadata": {}
  },
  {
   "outputs": [
    {
     "name": "stdout",
     "output_type": "stream",
     "text": [
      "Iterations = 1:1000\n",
      "Thinning interval = 1\n",
      "Chains = 1\n",
      "Samples per chain = 1000\n",
      "\n",
      "Empirical Posterior Estimates:\n",
      "              Mean                   SD                       Naive SE              MCSE         ESS   \n",
      "       α    9.203900168  0.133746806612780044787314 0.0042294453867045478032138 0.0078263528  292.04381\n",
      "  lf_num    0.000000000  0.000000000000000000000000 0.0000000000000000000000000 0.0000000000        NaN\n",
      "      βA   -1.915600284  0.216404341726608773210927 0.0068433061540549879053774 0.0098163546  485.99462\n",
      "      βR   -0.195288308  0.076545500277554412438263 0.0024205812551412277978946 0.0045698166  280.57037\n",
      "       σ    0.951301305  0.053488504079339110885982 0.0016914550152591929094159 0.0014307318 1000.00000\n",
      " elapsed    0.112241152  0.065458912870544616602331 0.0020699925782943161788052 0.0023053208  806.25949\n",
      " epsilon    0.030678798  0.000000000000000024298281 0.0000000000000000007683791 0.0000000000 1000.00000\n",
      "eval_num   41.344000000 23.148423564327519130756627 0.7320174270558820195375915 0.9807425758  557.09952\n",
      "     βAR    0.380690332  0.123359738239535859927187 0.0039009774439910322244018 0.0057095331  466.81595\n",
      "      lp -248.490170562  1.556232037826206449082633 0.0492123780725612497422006 0.0759151218  420.23490\n",
      "  lf_eps    0.030678798  0.000000000000000024298281 0.0000000000000000007683791 0.0000000000 1000.00000\n",
      "\n",
      "Quantiles:\n",
      "              2.5%           25.0%          50.0%          75.0%          97.5%    \n",
      "       α    8.950783365    9.115400457    9.205999007    9.292885032    9.461130229\n",
      "  lf_num    0.000000000    0.000000000    0.000000000    0.000000000    0.000000000\n",
      "      βA   -2.332631596   -2.054725256   -1.920382062   -1.770676065   -1.484206010\n",
      "      βR   -0.347600002   -0.249190780   -0.196076660   -0.138713169   -0.049257897\n",
      "       σ    0.857419674    0.912309595    0.947978335    0.989306625    1.061075304\n",
      " elapsed    0.022084172    0.057703028    0.115650442    0.131549971    0.262363763\n",
      " epsilon    0.030678798    0.030678798    0.030678798    0.030678798    0.030678798\n",
      "eval_num   10.000000000   22.000000000   46.000000000   46.000000000   94.000000000\n",
      "     βAR    0.123121794    0.300348080    0.380726383    0.463286302    0.613180005\n",
      "      lp -252.371117675 -249.344197814 -248.186005500 -247.358834772 -246.334950528\n",
      "  lf_eps    0.030678798    0.030678798    0.030678798    0.030678798    0.030678798\n",
      "\n"
     ]
    }
   ],
   "cell_type": "code",
   "source": [
    "describe(posterior2)"
   ],
   "metadata": {},
   "execution_count": 13
  },
  {
   "outputs": [],
   "cell_type": "markdown",
   "source": [
    "end of 08/m8.1t.jl#-\n",
    "*This notebook was generated using [Literate.jl](https://github.com/fredrikekre/Literate.jl).*"
   ],
   "metadata": {}
  }
 ],
 "nbformat_minor": 3,
 "metadata": {
  "language_info": {
   "file_extension": ".jl",
   "mimetype": "application/julia",
   "name": "julia",
   "version": "1.2.0-DEV.283"
  },
  "kernelspec": {
   "name": "julia-1.2",
   "display_name": "Julia 1.2.0-DEV.283",
   "language": "julia"
  }
 },
 "nbformat": 4
}
