{
 "cells": [
  {
   "cell_type": "markdown",
   "metadata": {},
   "source": [
    "### m8.1stan"
   ]
  },
  {
   "cell_type": "markdown",
   "metadata": {},
   "source": [
    "m8.1stan is the first model in the Statistical Rethinking book (pp. 249) using Stan."
   ]
  },
  {
   "cell_type": "markdown",
   "metadata": {},
   "source": [
    "Here we will use Turing's NUTS support, which is currently (2018) the originalNUTS by [Hoffman & Gelman]( http://www.stat.columbia.edu/~gelman/research/published/nuts.pdf) and not the one that's in Stan 2.18.2, i.e., Appendix A.5 in: https://arxiv.org/abs/1701.02434"
   ]
  },
  {
   "cell_type": "markdown",
   "metadata": {},
   "source": [
    "The TuringModels pkg imports modules such as CSV and DataFrames"
   ]
  },
  {
   "cell_type": "code",
   "execution_count": 1,
   "metadata": {},
   "outputs": [
    {
     "name": "stdout",
     "output_type": "stream",
     "text": [
      "loaded\n"
     ]
    },
    {
     "name": "stderr",
     "output_type": "stream",
     "text": [
      "┌ Info: [Turing]: global PROGRESS is set as false\n",
      "└ @ Turing /Users/rob/.julia/packages/Turing/r03H1/src/Turing.jl:24\n"
     ]
    },
    {
     "data": {
      "text/plain": [
       "false"
      ]
     },
     "execution_count": 1,
     "metadata": {},
     "output_type": "execute_result"
    }
   ],
   "source": [
    "using TuringModels\n",
    "\n",
    "Turing.setadbackend(:reverse_diff);\n",
    "Turing.turnprogress(false)"
   ]
  },
  {
   "cell_type": "markdown",
   "metadata": {},
   "source": [
    "Read in the `rugged` data as a DataFrame"
   ]
  },
  {
   "cell_type": "code",
   "execution_count": 2,
   "metadata": {},
   "outputs": [],
   "source": [
    "d = CSV.read(rel_path(\"..\", \"data\", \"rugged.csv\"), delim=';');"
   ]
  },
  {
   "cell_type": "markdown",
   "metadata": {},
   "source": [
    "Show size of the DataFrame (should be 234x51)"
   ]
  },
  {
   "cell_type": "code",
   "execution_count": 3,
   "metadata": {},
   "outputs": [
    {
     "data": {
      "text/plain": [
       "(234, 51)"
      ]
     },
     "execution_count": 3,
     "metadata": {},
     "output_type": "execute_result"
    }
   ],
   "source": [
    "size(d)"
   ]
  },
  {
   "cell_type": "markdown",
   "metadata": {},
   "source": [
    "Apply log() to each element in rgdppc_2000 column and add it as a new column"
   ]
  },
  {
   "cell_type": "code",
   "execution_count": 4,
   "metadata": {},
   "outputs": [],
   "source": [
    "d = hcat(d, map(log, d[Symbol(\"rgdppc_2000\")]));"
   ]
  },
  {
   "cell_type": "markdown",
   "metadata": {},
   "source": [
    "Rename our col x1 => log_gdp"
   ]
  },
  {
   "cell_type": "code",
   "execution_count": 5,
   "metadata": {},
   "outputs": [],
   "source": [
    "rename!(d, :x1 => :log_gdp);"
   ]
  },
  {
   "cell_type": "markdown",
   "metadata": {},
   "source": [
    "Now we need to drop every row where rgdppc_2000 == missing"
   ]
  },
  {
   "cell_type": "markdown",
   "metadata": {},
   "source": [
    "When this (https://github.com/JuliaData/DataFrames.jl/pull/1546) hits DataFrame it'll be conceptually easier: i.e., completecases!(d, :rgdppc_2000)"
   ]
  },
  {
   "cell_type": "code",
   "execution_count": 6,
   "metadata": {},
   "outputs": [],
   "source": [
    "notisnan(e) = !ismissing(e)\n",
    "dd = d[map(notisnan, d[:rgdppc_2000]), :];"
   ]
  },
  {
   "cell_type": "markdown",
   "metadata": {},
   "source": [
    "Updated DataFrame dd size (should equal 170 x 52)"
   ]
  },
  {
   "cell_type": "code",
   "execution_count": 7,
   "metadata": {},
   "outputs": [
    {
     "data": {
      "text/plain": [
       "(170, 52)"
      ]
     },
     "execution_count": 7,
     "metadata": {},
     "output_type": "execute_result"
    }
   ],
   "source": [
    "size(dd)"
   ]
  },
  {
   "cell_type": "markdown",
   "metadata": {},
   "source": [
    "Define the Turing model"
   ]
  },
  {
   "cell_type": "code",
   "execution_count": 8,
   "metadata": {},
   "outputs": [],
   "source": [
    "@model m8_1stan(y, x₁, x₂) = begin\n",
    "    σ ~ Truncated(Cauchy(0, 2), 0, Inf)\n",
    "    βR ~ Normal(0, 10)\n",
    "    βA ~ Normal(0, 10)\n",
    "    βAR ~ Normal(0, 10)\n",
    "    α ~ Normal(0, 100)\n",
    "\n",
    "    for i ∈ 1:length(y)\n",
    "        y[i] ~ Normal(α + βR * x₁[i] + βA * x₂[i] + βAR * x₁[i] * x₂[i], σ)\n",
    "    end\n",
    "end;"
   ]
  },
  {
   "cell_type": "markdown",
   "metadata": {},
   "source": [
    "Test to see that the model is sane. Use 2000 for now, as in the book.\n",
    "Need to set the same stepsize and adapt_delta as in Stan..."
   ]
  },
  {
   "cell_type": "markdown",
   "metadata": {},
   "source": [
    "Use Turing mcmc"
   ]
  },
  {
   "cell_type": "code",
   "execution_count": 9,
   "metadata": {},
   "outputs": [
    {
     "name": "stderr",
     "output_type": "stream",
     "text": [
      "┌ Info: [Turing] looking for good initial eps...\n",
      "└ @ Turing.Inference /Users/rob/.julia/packages/Turing/r03H1/src/inference/support/hmc_core.jl:240\n",
      "[NUTS{Turing.Core.FluxTrackerAD,Union{}}] found initial ϵ: 0.1\n",
      "└ @ Turing.Inference /Users/rob/.julia/packages/Turing/r03H1/src/inference/support/hmc_core.jl:235\n",
      "┌ Info:  Adapted ϵ = 0.026392788491123437, std = [1.0, 1.0, 1.0, 1.0, 1.0]; 1000 iterations is used for adaption.\n",
      "└ @ Turing.Inference /Users/rob/.julia/packages/Turing/r03H1/src/inference/adapt/adapt.jl:91\n"
     ]
    },
    {
     "name": "stdout",
     "output_type": "stream",
     "text": [
      "[NUTS] Finished with\n",
      "  Running time        = 223.3260227410002;\n",
      "  #lf / sample        = 0.0;\n",
      "  #evals / sample     = 46.4005;\n",
      "  pre-cond. metric    = [1.0, 1.0, 1.0, 1.0, 1.0].\n"
     ]
    }
   ],
   "source": [
    "posterior = sample(m8_1stan(dd[:log_gdp], dd[:rugged], dd[:cont_africa]),\n",
    "Turing.NUTS(2000, 1000, 0.95));"
   ]
  },
  {
   "cell_type": "markdown",
   "metadata": {},
   "source": [
    "Fix the inclusion of adaptation samples"
   ]
  },
  {
   "cell_type": "code",
   "execution_count": 10,
   "metadata": {},
   "outputs": [
    {
     "data": {
      "text/plain": [
       "Object of type Chains, with data of type 1000×5×1 Array{Union{Missing, Float64},3}\n",
       "\n",
       "Log evidence      = 0.0\n",
       "Iterations        = 1001:2000\n",
       "Thinning interval = 1\n",
       "Chains            = Chain1\n",
       "Samples per chain = 1000\n",
       "parameters        = σ, βAR, βA, α, βR\n",
       "\n",
       "parameters\n",
       "      Mean    SD   Naive SE  MCSE     ESS  \n",
       "  α  9.2258 0.1457   0.0046 0.0097 224.9403\n",
       " βA -1.9580 0.2372   0.0075 0.0164 209.5267\n",
       "βAR  0.3969 0.1330   0.0042 0.0100 175.8492\n",
       " βR -0.2038 0.0797   0.0025 0.0055 212.8302\n",
       "  σ  0.9500 0.0509   0.0016 0.0017 916.8077\n",
       "\n"
      ]
     },
     "execution_count": 10,
     "metadata": {},
     "output_type": "execute_result"
    }
   ],
   "source": [
    "draws = 1001:2000\n",
    "posterior2 = Chains(posterior[draws,:,:], :parameters)"
   ]
  },
  {
   "cell_type": "markdown",
   "metadata": {},
   "source": [
    "Example of a Turing run simulation output"
   ]
  },
  {
   "cell_type": "markdown",
   "metadata": {},
   "source": [
    "Here's the ulam() output from rethinking"
   ]
  },
  {
   "cell_type": "code",
   "execution_count": 11,
   "metadata": {},
   "outputs": [],
   "source": [
    "m8_1s_cmdstan = \"\n",
    "Iterations = 1:1000\n",
    "Thinning interval = 1\n",
    "Chains = 1,2,3,4\n",
    "Samples per chain = 1000\n",
    "\n",
    "Empirical Posterior Estimates:\n",
    "          Mean         SD       Naive SE       MCSE      ESS\n",
    "    a  9.22360053 0.139119116 0.0021996664 0.0034632816 1000\n",
    "   bR -0.20196346 0.076106388 0.0012033477 0.0018370185 1000\n",
    "   bA -1.94430980 0.227080488 0.0035904578 0.0057840746 1000\n",
    "  bAR  0.39071684 0.131889143 0.0020853505 0.0032749642 1000\n",
    "sigma  0.95036370 0.052161768 0.0008247500 0.0009204073 1000\n",
    "\n",
    "Quantiles:\n",
    "          2.5%       25.0%       50.0%      75.0%        97.5%\n",
    "    a  8.95307475  9.12719750  9.2237750  9.31974000  9.490234250\n",
    "   bR -0.35217930 -0.25334425 -0.2012855 -0.15124725 -0.054216855\n",
    "   bA -2.39010825 -2.09894500 -1.9432550 -1.78643000 -1.513974250\n",
    "  bAR  0.13496995  0.30095575  0.3916590  0.47887625  0.650244475\n",
    "sigma  0.85376115  0.91363250  0.9484920  0.98405750  1.058573750\n",
    "\";"
   ]
  },
  {
   "cell_type": "markdown",
   "metadata": {},
   "source": [
    "Describe the posterior samples"
   ]
  },
  {
   "cell_type": "code",
   "execution_count": 12,
   "metadata": {},
   "outputs": [
    {
     "name": "stdout",
     "output_type": "stream",
     "text": [
      "Log evidence      = 0.0\n",
      "Iterations        = 1001:2000\n",
      "Thinning interval = 1\n",
      "Chains            = Chain1\n",
      "Samples per chain = 1000\n",
      "parameters        = σ, βAR, βA, α, βR\n",
      "\n"
     ]
    },
    {
     "name": "stderr",
     "output_type": "stream",
     "text": [
      "┌ Warning: `quantile(v::AbstractArray{<:Real})` is deprecated, use `quantile(v, [0.0, 0.25, 0.5, 0.75, 1.0])` instead.\n",
      "│   caller = (::getfield(MCMCChains, Symbol(\"##102#104\")){Chains{Union{Missing, Float64},Float64,NamedTuple{(:parameters,),Tuple{Array{String,1}}},NamedTuple{(:hashedsummary,),Tuple{Base.RefValue{Tuple{UInt64,MCMCChains.ChainSummaries}}}}}})(::String) at none:0\n",
      "└ @ MCMCChains ./none:0\n"
     ]
    },
    {
     "name": "stdout",
     "output_type": "stream",
     "text": [
      "\u001b[36m\u001b[1mEmpirical Posterior Estimates\u001b[22m\u001b[39m\n",
      "───────────────────────────────────────────\n",
      "parameters\n",
      "      Mean    SD   Naive SE  MCSE     ESS  \n",
      "  α  9.2258 0.1457   0.0046 0.0097 224.9403\n",
      " βA -1.9580 0.2372   0.0075 0.0164 209.5267\n",
      "βAR  0.3969 0.1330   0.0042 0.0100 175.8492\n",
      " βR -0.2038 0.0797   0.0025 0.0055 212.8302\n",
      "  σ  0.9500 0.0509   0.0016 0.0017 916.8077\n",
      "\n",
      "\u001b[36m\u001b[1mQuantiles\u001b[22m\u001b[39m\n",
      "───────────────────────────────────────────\n",
      "parameters\n",
      "      2.5%   25.0%   50.0%   75.0%   97.5% \n",
      "  α  8.6704  9.1249  9.2246  9.3219  9.7520\n",
      " βA -2.6922 -2.1177 -1.9737 -1.7884 -1.2476\n",
      "βAR -0.0845  0.3022  0.3964  0.4840  0.8435\n",
      " βR -0.4696 -0.2584 -0.2024 -0.1488  0.0564\n",
      "  σ  0.7990  0.9121  0.9494  0.9842  1.1318\n",
      "\n"
     ]
    }
   ],
   "source": [
    "describe(posterior2)"
   ]
  },
  {
   "cell_type": "markdown",
   "metadata": {},
   "source": [
    "end of 08/m8.1t.jl#-\n",
    "*This notebook was generated using [Literate.jl](https://github.com/fredrikekre/Literate.jl).*"
   ]
  }
 ],
 "metadata": {
  "kernelspec": {
   "display_name": "Julia 1.2.0-DEV",
   "language": "julia",
   "name": "julia-1.2"
  },
  "language_info": {
   "file_extension": ".jl",
   "mimetype": "application/julia",
   "name": "julia",
   "version": "1.2.0"
  }
 },
 "nbformat": 4,
 "nbformat_minor": 3
}
