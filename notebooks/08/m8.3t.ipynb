{
 "cells": [
  {
   "outputs": [
    {
     "name": "stdout",
     "output_type": "stream",
     "text": [
      "┌ Info: [Turing]: global PROGRESS is set as false\n",
      "└ @ Turing /Users/rob/.julia/packages/Turing/UXxKz/src/Turing.jl:24\n"
     ]
    },
    {
     "output_type": "execute_result",
     "data": {
      "text/plain": "false"
     },
     "metadata": {},
     "execution_count": 1
    }
   ],
   "cell_type": "code",
   "source": [
    "using TuringModels\n",
    "\n",
    "Turing.setadbackend(:reverse_diff)\n",
    "Turing.turnprogress(false)"
   ],
   "metadata": {},
   "execution_count": 1
  },
  {
   "outputs": [],
   "cell_type": "markdown",
   "source": [
    "Turing model"
   ],
   "metadata": {}
  },
  {
   "outputs": [
    {
     "output_type": "execute_result",
     "data": {
      "text/plain": "2-element Array{Int64,1}:\n -1\n  1"
     },
     "metadata": {},
     "execution_count": 2
    }
   ],
   "cell_type": "code",
   "source": [
    "@model m8_3(y) = begin\n",
    "    α ~ Normal(1, 10)\n",
    "    σ ~ Truncated(Cauchy(0, 1), 0, Inf)\n",
    "\n",
    "    for i ∈ 1:length(y)\n",
    "        y[i] ~ Normal(α, σ)\n",
    "    end\n",
    "end\n",
    "\n",
    "y = [-1,1]"
   ],
   "metadata": {},
   "execution_count": 2
  },
  {
   "outputs": [],
   "cell_type": "markdown",
   "source": [
    "Sample"
   ],
   "metadata": {}
  },
  {
   "outputs": [
    {
     "name": "stdout",
     "output_type": "stream",
     "text": [
      "┌ Info: [Turing] looking for good initial eps...\n",
      "└ @ Turing.Inference /Users/rob/.julia/packages/Turing/UXxKz/src/inference/support/hmc_core.jl:240\n",
      "┌ Info: \r[NUTS{Turing.Core.FluxTrackerAD,Union{}}] found initial ϵ: 3.2\n",
      "└ @ Turing.Inference /Users/rob/.julia/packages/Turing/UXxKz/src/inference/support/hmc_core.jl:235\n",
      "┌ Warning: 5.68859433050041 exceeds 5.0; capped to 5.0 for numerical stability\n",
      "└ @ Turing.Inference /Users/rob/.julia/packages/Turing/UXxKz/src/inference/adapt/stepsize.jl:96\n",
      "┌ Info:  Adapted ϵ = 0.17222193654761947, std = [1.0, 1.0]; 1000 iterations is used for adaption.\n",
      "└ @ Turing.Inference /Users/rob/.julia/packages/Turing/UXxKz/src/inference/adapt/adapt.jl:91\n",
      "[NUTS] Finished with\n",
      "  Running time        = 9.804545698000034;\n",
      "  #lf / sample        = 0.0;\n",
      "  #evals / sample     = 36.195;\n",
      "  pre-cond. metric    = [1.0, 1.0].\n"
     ]
    }
   ],
   "cell_type": "code",
   "source": [
    "posterior = sample(m8_3(y), Turing.NUTS(4000,1000, 0.95));"
   ],
   "metadata": {},
   "execution_count": 3
  },
  {
   "outputs": [],
   "cell_type": "markdown",
   "source": [
    "Fix the inclusion of adaptation samples"
   ],
   "metadata": {}
  },
  {
   "outputs": [
    {
     "output_type": "execute_result",
     "data": {
      "text/plain": "Object of type \"Chains{Float64}\"\n\nIterations = 1:3000\nThinning interval = 1\nChains = 1\nSamples per chain = 3000\n\nUnion{Missing, Float64}[-3.45909 11.8091 … 46.0 0.172222; -3.03956 8.36543 … 22.0 0.172222; … ; 0.343321 0.649515 … 4.0 0.172222; 0.43639 2.07371 … 22.0 0.172222]"
     },
     "metadata": {},
     "execution_count": 4
    }
   ],
   "cell_type": "code",
   "source": [
    "posterior2 = MCMCChain.Chains(posterior.value[1001:4000,:,:], names=posterior.names)"
   ],
   "metadata": {},
   "execution_count": 4
  },
  {
   "outputs": [],
   "cell_type": "markdown",
   "source": [
    "Describe the posterior samples"
   ],
   "metadata": {}
  },
  {
   "outputs": [
    {
     "name": "stdout",
     "output_type": "stream",
     "text": [
      "Iterations = 1:3000\n",
      "Thinning interval = 1\n",
      "Chains = 1\n",
      "Samples per chain = 3000\n",
      "\n",
      "Empirical Posterior Estimates:\n",
      "             Mean           SD         Naive SE         MCSE          ESS   \n",
      "       α  0.146397372  1.9087866499 0.034849516853 0.117903362490  262.09721\n",
      "       σ  2.253305170  2.5521081801 0.046594907314 0.105172551546  588.83462\n",
      "  lf_num  0.000000000  0.0000000000 0.000000000000 0.000000000000        NaN\n",
      " elapsed  0.002429667  0.0019890612 0.000036315123 0.000057322074 1204.07209\n",
      " epsilon  0.172221937  0.0000000000 0.000000000000 0.000000000000        NaN\n",
      "      lp -8.755550023  1.4874817868 0.027157577616 0.074294717084  400.85513\n",
      "eval_num 37.902000000 22.2124032833 0.405541144489 0.559468836764 1576.30153\n",
      "  lf_eps  0.172221937  0.0000000000 0.000000000000 0.000000000000        NaN\n",
      "\n",
      "Quantiles:\n",
      "              2.5%          25.0%         50.0%         75.0%         97.5%   \n",
      "       α  -3.6516346267 -0.6853710195  0.0557262450  0.8409972769  4.732857870\n",
      "       σ   0.6055762377  1.0691628746  1.5548410277  2.5201010317  8.215095693\n",
      "  lf_num   0.0000000000  0.0000000000  0.0000000000  0.0000000000  0.000000000\n",
      " elapsed   0.0005030185  0.0011741145  0.0023197675  0.0027093035  0.008883421\n",
      " epsilon   0.1722219365  0.1722219365  0.1722219365  0.1722219365  0.172221937\n",
      "      lp -12.7130810338 -9.4294494540 -8.2876428932 -7.6351498825 -7.242789187\n",
      "eval_num  10.0000000000 22.0000000000 40.0000000000 46.0000000000 94.000000000\n",
      "  lf_eps   0.1722219365  0.1722219365  0.1722219365  0.1722219365  0.172221937\n",
      "\n"
     ]
    }
   ],
   "cell_type": "code",
   "source": [
    "describe(posterior2)"
   ],
   "metadata": {},
   "execution_count": 5
  },
  {
   "outputs": [],
   "cell_type": "markdown",
   "source": [
    "Results rethinking"
   ],
   "metadata": {}
  },
  {
   "outputs": [],
   "cell_type": "code",
   "source": [
    "m83rethinking = \"\n",
    "      mean   sd  5.5% 94.5% n_eff Rhat\n",
    "alpha 0.09 1.63 -2.13  2.39   959    1\n",
    "sigma 2.04 2.05  0.68  4.83  1090    1\n",
    "\";"
   ],
   "metadata": {},
   "execution_count": 6
  },
  {
   "outputs": [],
   "cell_type": "markdown",
   "source": [
    "*This notebook was generated using [Literate.jl](https://github.com/fredrikekre/Literate.jl).*"
   ],
   "metadata": {}
  }
 ],
 "nbformat_minor": 3,
 "metadata": {
  "language_info": {
   "file_extension": ".jl",
   "mimetype": "application/julia",
   "name": "julia",
   "version": "1.2.0-DEV.283"
  },
  "kernelspec": {
   "name": "julia-1.2",
   "display_name": "Julia 1.2.0-DEV.283",
   "language": "julia"
  }
 },
 "nbformat": 4
}
