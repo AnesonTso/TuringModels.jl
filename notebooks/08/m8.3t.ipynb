{
 "cells": [
  {
   "outputs": [
    {
     "name": "stdout",
     "output_type": "stream",
     "text": [
      "┌ Info: [Turing]: global PROGRESS is set as false\n",
      "└ @ Turing /Users/rob/.julia/packages/Turing/UXxKz/src/Turing.jl:24\n"
     ]
    },
    {
     "output_type": "execute_result",
     "data": {
      "text/plain": "false"
     },
     "metadata": {},
     "execution_count": 1
    }
   ],
   "cell_type": "code",
   "source": [
    "using TuringModels, Turing\n",
    "\n",
    "Turing.setadbackend(:reverse_diff)\n",
    "Turing.turnprogress(false)"
   ],
   "metadata": {},
   "execution_count": 1
  },
  {
   "outputs": [],
   "cell_type": "markdown",
   "source": [
    "Turing model"
   ],
   "metadata": {}
  },
  {
   "outputs": [
    {
     "output_type": "execute_result",
     "data": {
      "text/plain": "2-element Array{Int64,1}:\n -1\n  1"
     },
     "metadata": {},
     "execution_count": 2
    }
   ],
   "cell_type": "code",
   "source": [
    "@model m8_3(y) = begin\n",
    "    α ~ Normal(1, 10)\n",
    "    σ ~ Truncated(Cauchy(0, 1), 0, Inf)\n",
    "\n",
    "    for i ∈ 1:length(y)\n",
    "        y[i] ~ Normal(α, σ)\n",
    "    end\n",
    "end\n",
    "\n",
    "y = [-1,1]"
   ],
   "metadata": {},
   "execution_count": 2
  },
  {
   "outputs": [],
   "cell_type": "markdown",
   "source": [
    "Sample"
   ],
   "metadata": {}
  },
  {
   "outputs": [
    {
     "name": "stdout",
     "output_type": "stream",
     "text": [
      "┌ Info: [Turing] looking for good initial eps...\n",
      "└ @ Turing.Inference /Users/rob/.julia/packages/Turing/UXxKz/src/inference/support/hmc_core.jl:240\n",
      "┌ Info: \r[NUTS{Turing.Core.FluxTrackerAD,Union{}}] found initial ϵ: 1.6\n",
      "└ @ Turing.Inference /Users/rob/.julia/packages/Turing/UXxKz/src/inference/support/hmc_core.jl:235\n",
      "┌ Info:  Adapted ϵ = 0.211595221456119, std = [1.0, 1.0]; 1000 iterations is used for adaption.\n",
      "└ @ Turing.Inference /Users/rob/.julia/packages/Turing/UXxKz/src/inference/adapt/adapt.jl:91\n",
      "[NUTS] Finished with\n",
      "  Running time        = 11.319082917999994;\n",
      "  #lf / sample        = 0.0;\n",
      "  #evals / sample     = 31.25525;\n",
      "  pre-cond. metric    = [1.0, 1.0].\n"
     ]
    }
   ],
   "cell_type": "code",
   "source": [
    "posterior = sample(m8_3(y), Turing.NUTS(4000,1000, 0.95));"
   ],
   "metadata": {},
   "execution_count": 3
  },
  {
   "outputs": [],
   "cell_type": "markdown",
   "source": [
    "Fix the inclusion of adaptation samples"
   ],
   "metadata": {}
  },
  {
   "outputs": [
    {
     "output_type": "execute_result",
     "data": {
      "text/plain": "Object of type \"Chains{Float64}\"\n\nIterations = 1:3000\nThinning interval = 1\nChains = 1\nSamples per chain = 3000\n\nUnion{Missing, Float64}[0.594581 4.82584 … 46.0 0.211595; 0.604941 4.29049 … 22.0 0.211595; … ; -5.89838 4.99218 … 22.0 0.211595; -2.82142 5.38061 … 70.0 0.211595]"
     },
     "metadata": {},
     "execution_count": 4
    }
   ],
   "cell_type": "code",
   "source": [
    "posterior2 = MCMCChain.Chains(posterior.value[1001:4000,:,:], names=posterior.names)"
   ],
   "metadata": {},
   "execution_count": 4
  },
  {
   "outputs": [],
   "cell_type": "markdown",
   "source": [
    "Describe the posterior samples"
   ],
   "metadata": {}
  },
  {
   "outputs": [
    {
     "name": "stdout",
     "output_type": "stream",
     "text": [
      "Iterations = 1:3000\n",
      "Thinning interval = 1\n",
      "Chains = 1\n",
      "Samples per chain = 3000\n",
      "\n",
      "Empirical Posterior Estimates:\n",
      "              Mean                 SD                      Naive SE                     MCSE                ESS   \n",
      "       α -0.0087057019  1.6608732393462721788069 0.0303232579448876674033109 0.085671788804995901989159  375.83507\n",
      "       σ  2.0104937406  1.7066496660977334975939 0.0311590173293462766035411 0.070240148951485267825312  590.36134\n",
      "  lf_num  0.0000000000  0.0000000000000000000000 0.0000000000000000000000000 0.000000000000000000000000        NaN\n",
      " elapsed  0.0025429914  0.0020691452493999552137 0.0000377772509283669395957 0.000072972728887338606939  804.00876\n",
      " epsilon  0.2115952215  0.0000000000000000555204 0.0000000000000000010136593 0.000000000000000010308162   29.00967\n",
      "      lp -8.5995865188  1.2891518146208695849708 0.0235365842972189466542066 0.058155049835982179640137  491.39786\n",
      "eval_num 31.4920000000 18.6378573314808946292942 0.3402791628005042423588122 0.366147511257416513608121 2591.07386\n",
      "  lf_eps  0.2115952215  0.0000000000000000555204 0.0000000000000000010136593 0.000000000000000010308162   29.00967\n",
      "\n",
      "Quantiles:\n",
      "              2.5%          25.0%         50.0%        75.0%         97.5%   \n",
      "       α  -3.4529956018 -0.6644649075  0.027173897  0.7178496011  3.268888235\n",
      "       σ   0.5910578201  1.0227554092  1.500493138  2.3066940795  6.549996132\n",
      "  lf_num   0.0000000000  0.0000000000  0.000000000  0.0000000000  0.000000000\n",
      " elapsed   0.0006187121  0.0014504967  0.001831301  0.0031848993  0.008418805\n",
      " epsilon   0.2115952215  0.2115952215  0.211595221  0.2115952215  0.211595221\n",
      "      lp -11.9957503624 -9.2213459307 -8.201810028 -7.6245716734 -7.247038791\n",
      "eval_num  10.0000000000 22.0000000000 22.000000000 46.0000000000 70.000000000\n",
      "  lf_eps   0.2115952215  0.2115952215  0.211595221  0.2115952215  0.211595221\n",
      "\n"
     ]
    }
   ],
   "cell_type": "code",
   "source": [
    "describe(posterior2)"
   ],
   "metadata": {},
   "execution_count": 5
  },
  {
   "outputs": [],
   "cell_type": "markdown",
   "source": [
    "Results rethinking"
   ],
   "metadata": {}
  },
  {
   "outputs": [],
   "cell_type": "code",
   "source": [
    "m83rethinking = \"\n",
    "      mean   sd  5.5% 94.5% n_eff Rhat\n",
    "alpha 0.09 1.63 -2.13  2.39   959    1\n",
    "sigma 2.04 2.05  0.68  4.83  1090    1\n",
    "\";"
   ],
   "metadata": {},
   "execution_count": 6
  },
  {
   "outputs": [],
   "cell_type": "markdown",
   "source": [
    "*This notebook was generated using [Literate.jl](https://github.com/fredrikekre/Literate.jl).*"
   ],
   "metadata": {}
  }
 ],
 "nbformat_minor": 3,
 "metadata": {
  "language_info": {
   "file_extension": ".jl",
   "mimetype": "application/julia",
   "name": "julia",
   "version": "1.1.0"
  },
  "kernelspec": {
   "name": "julia-1.1",
   "display_name": "Julia 1.1.0",
   "language": "julia"
  }
 },
 "nbformat": 4
}
