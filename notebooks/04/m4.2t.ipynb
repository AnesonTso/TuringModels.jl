{
 "cells": [
  {
   "outputs": [],
   "cell_type": "code",
   "source": [
    "using TuringModels\n",
    "gr(size=(500,500));\n",
    "\n",
    "Turing.setadbackend(:reverse_diff);\n",
    "Turing.turnprogress(false);\n",
    "\n",
    "ProjDir = rel_path_t(\"..\", \"scripts\", \"04\")\n",
    "cd(ProjDir)"
   ],
   "metadata": {},
   "execution_count": null
  },
  {
   "outputs": [],
   "cell_type": "markdown",
   "source": [
    "### snippet 4.43"
   ],
   "metadata": {}
  },
  {
   "outputs": [],
   "cell_type": "code",
   "source": [
    "howell1 = CSV.read(rel_path(\"..\", \"data\", \"Howell1.csv\"), delim=';')\n",
    "df = convert(DataFrame, howell1);"
   ],
   "metadata": {},
   "execution_count": null
  },
  {
   "outputs": [],
   "cell_type": "markdown",
   "source": [
    "Use only adults and center the weight observations"
   ],
   "metadata": {}
  },
  {
   "outputs": [],
   "cell_type": "code",
   "source": [
    "df2 = filter(row -> row[:age] >= 18, df);\n",
    "mean_weight = mean(df2[:weight]);\n",
    "df2[:weight_c] = df2[:weight] .- mean_weight;\n",
    "first(df2, 5)"
   ],
   "metadata": {},
   "execution_count": null
  },
  {
   "outputs": [],
   "cell_type": "markdown",
   "source": [
    "Extract variables for Turing model"
   ],
   "metadata": {}
  },
  {
   "outputs": [],
   "cell_type": "code",
   "source": [
    "y = convert(Vector{Float64}, df2[:height]);\n",
    "x = convert(Vector{Float64}, df2[:weight_c]);"
   ],
   "metadata": {},
   "execution_count": null
  },
  {
   "outputs": [],
   "cell_type": "markdown",
   "source": [
    "Define the regression model"
   ],
   "metadata": {}
  },
  {
   "outputs": [],
   "cell_type": "code",
   "source": [
    "@model line(y, x) = begin\n",
    "    #priors\n",
    "    alpha ~ Normal(178.0, 100.0)\n",
    "    beta ~ Normal(0.0, 10.0)\n",
    "    s ~ Uniform(0, 50)\n",
    "\n",
    "    #model\n",
    "    mu = alpha .+ beta*x\n",
    "    for i in 1:length(y)\n",
    "      y[i] ~ Normal(mu[i], s)\n",
    "    end\n",
    "end;"
   ],
   "metadata": {},
   "execution_count": null
  },
  {
   "outputs": [],
   "cell_type": "markdown",
   "source": [
    "Draw the samples"
   ],
   "metadata": {}
  },
  {
   "outputs": [],
   "cell_type": "code",
   "source": [
    "samples = 2000\n",
    "adapt_cycles = 1000\n",
    "\n",
    "@time chn = sample(line(y, x), Turing.NUTS(samples, adapt_cycles, 0.65));\n",
    "draws = adapt_cycles+1:samples;"
   ],
   "metadata": {},
   "execution_count": null
  },
  {
   "outputs": [],
   "cell_type": "markdown",
   "source": [
    "Show corrected results (drop adaptation samples)"
   ],
   "metadata": {}
  },
  {
   "outputs": [],
   "cell_type": "code",
   "source": [
    "chn2 = MCMCChains.Chains(chn.value[draws,:,:],\n",
    "  vcat(chn.name_map[:internals], chn.name_map[:parameters]),\n",
    "  Dict(\n",
    "    :parameters => chn.name_map[:parameters],\n",
    "    :internals => chn.name_map[:internals]\n",
    "  )\n",
    ")"
   ],
   "metadata": {},
   "execution_count": null
  },
  {
   "outputs": [],
   "cell_type": "markdown",
   "source": [
    "Look at the proper draws (in corrected chn2)"
   ],
   "metadata": {}
  },
  {
   "outputs": [],
   "cell_type": "code",
   "source": [
    "describe(chn2)"
   ],
   "metadata": {},
   "execution_count": null
  },
  {
   "outputs": [],
   "cell_type": "markdown",
   "source": [
    "Compare with a previous result"
   ],
   "metadata": {}
  },
  {
   "outputs": [],
   "cell_type": "code",
   "source": [
    "clip_43s_example_output = \"\n",
    "\n",
    "Iterations = 1:1000\n",
    "Thinning interval = 1\n",
    "Chains = 1,2,3,4\n",
    "Samples per chain = 1000\n",
    "\n",
    "Empirical Posterior Estimates:\n",
    "         Mean        SD       Naive SE       MCSE      ESS\n",
    "alpha 154.597086 0.27326431 0.0043206882 0.0036304132 1000\n",
    " beta   0.906380 0.04143488 0.0006551430 0.0006994720 1000\n",
    "sigma   5.106643 0.19345409 0.0030587777 0.0032035103 1000\n",
    "\n",
    "Quantiles:\n",
    "          2.5%       25.0%       50.0%       75.0%       97.5%\n",
    "alpha 154.0610000 154.4150000 154.5980000 154.7812500 155.1260000\n",
    " beta   0.8255494   0.8790695   0.9057435   0.9336445   0.9882981\n",
    "sigma   4.7524368   4.9683400   5.0994450   5.2353100   5.5090128\n",
    "\";\n",
    "\n",
    "#="
   ],
   "metadata": {},
   "execution_count": null
  },
  {
   "outputs": [],
   "cell_type": "markdown",
   "source": [
    "Plot the chains"
   ],
   "metadata": {}
  },
  {
   "outputs": [],
   "cell_type": "code",
   "source": [
    "plot(chn3)"
   ],
   "metadata": {},
   "execution_count": null
  },
  {
   "outputs": [],
   "cell_type": "markdown",
   "source": [
    "Plot the regerssion line and observations"
   ],
   "metadata": {}
  },
  {
   "outputs": [],
   "cell_type": "code",
   "source": [
    "scatter(x, y, lab=\"Observations\", xlab=\"weight\", ylab=\"height\")\n",
    "xi = -15.0:0.1:15.0\n",
    "yi = mean(chn2.value[:,1,:]) .+ mean(chn2.value[:, 2, :])*xi\n",
    "plot!(xi, yi, lab=\"Regression line\")\n",
    "=#"
   ],
   "metadata": {},
   "execution_count": null
  },
  {
   "outputs": [],
   "cell_type": "markdown",
   "source": [
    "End of `04/m4.2t.jl`"
   ],
   "metadata": {}
  },
  {
   "outputs": [],
   "cell_type": "markdown",
   "source": [
    "*This notebook was generated using [Literate.jl](https://github.com/fredrikekre/Literate.jl).*"
   ],
   "metadata": {}
  }
 ],
 "nbformat_minor": 3,
 "metadata": {
  "language_info": {
   "file_extension": ".jl",
   "mimetype": "application/julia",
   "name": "julia",
   "version": "1.2.0-DEV.406"
  },
  "kernelspec": {
   "name": "julia-1.2",
   "display_name": "Julia 1.2.0-DEV.406",
   "language": "julia"
  }
 },
 "nbformat": 4
}
