{
 "cells": [
  {
   "outputs": [
    {
     "name": "stdout",
     "output_type": "stream",
     "text": [
      "┌ Info: [Turing] looking for good initial eps...\n",
      "└ @ Turing.Inference /Users/rob/.julia/packages/Turing/r03H1/src/inference/support/hmc_core.jl:240\n",
      "┌ Info: \r[NUTS{Turing.Core.ForwardDiffAD{40},Union{}}] found initial ϵ: 0.2\n",
      "└ @ Turing.Inference /Users/rob/.julia/packages/Turing/r03H1/src/inference/support/hmc_core.jl:235\n",
      "\r[NUTS] Sampling...  0%  ETA: 1:20:31\u001b[K\r[NUTS] Sampling...  0%  ETA: 1:01:22\u001b[K┌ Info:  Adapted ϵ = 0.0972455165429274, std = [1.0, 1.0, 1.0, 1.0]; 1000 iterations is used for adaption.\n",
      "└ @ Turing.Inference /Users/rob/.julia/packages/Turing/r03H1/src/inference/adapt/adapt.jl:91\n",
      "\r[NUTS] Sampling...100% Time: 0:00:04\u001b[K\n",
      "[NUTS] Finished with\n",
      "  Running time        = 4.13750998000001;\n",
      "  #lf / sample        = 0.0;\n",
      "  #evals / sample     = 11.502;\n",
      "  pre-cond. metric    = [1.0, 1.0, 1.0, 1.0].\n",
      "┌ Warning: zeta not in [\"c\", \"b\", \"a\", \"d\"], ignored\n",
      "└ @ TuringModels /Users/rob/.julia/dev/TuringModels/src/utils/move_parameters_to_new_section.jl:22\n",
      "Log evidence      = 0.0\n",
      "Iterations        = 1:2000\n",
      "Thinning interval = 1\n",
      "Chains            = Chain1\n",
      "Samples per chain = 2000\n",
      "parameters        = c, a\n",
      "\n",
      "Empirical Posterior Estimates\n",
      "───────────────────────────────────────────\n",
      "parameters\n",
      "    Mean     SD   Naive SE  MCSE     ESS   \n",
      "a -10.0046 0.1491   0.0033 0.0049  922.5858\n",
      "c  -6.0035 0.1263   0.0028 0.0037 1164.7223\n",
      "\n",
      "Quantiles\n",
      "───────────────────────────────────────────\n",
      "parameters\n",
      "    2.5%     25.0%   50.0%   75.0%   97.5% \n",
      "a -12.6966 -10.0667 -9.9987 -9.9326 -9.6030\n",
      "c  -7.8976  -6.0692 -6.0002 -5.9299 -5.6692\n",
      "\n",
      "Log evidence      = 0.0\n",
      "Iterations        = 1:2000\n",
      "Thinning interval = 1\n",
      "Chains            = Chain1\n",
      "Samples per chain = 2000\n",
      "pooled            = b, d\n",
      "\n",
      "Empirical Posterior Estimates\n",
      "──────────────────────────────────────────\n",
      "pooled\n",
      "    Mean    SD   Naive SE  MCSE     ESS   \n",
      "b -8.0034 0.1412   0.0032 0.0046  927.1980\n",
      "d -4.0076 0.1192   0.0027 0.0033 1269.8993\n",
      "\n",
      "Quantiles\n",
      "──────────────────────────────────────────\n",
      "pooled\n",
      "    2.5%    25.0%   50.0%   75.0%   97.5% \n",
      "b -10.4886 -8.0623 -7.9989 -7.9381 -7.6636\n",
      "d  -5.6050 -4.0704 -4.0040 -3.9397 -3.5200\n",
      "\n"
     ]
    },
    {
     "output_type": "execute_result",
     "data": {
      "text/plain": "NaN"
     },
     "metadata": {},
     "execution_count": 1
    }
   ],
   "cell_type": "code",
   "source": [
    "using TuringModels\n",
    "\n",
    "@model model() = begin\n",
    "    a ~ Normal(-10,.1)\n",
    "    b ~ Normal(-8,.1)\n",
    "    c ~ Normal(-6,.1)\n",
    "    d ~ Normal(-4,.1)\n",
    "    return nothing\n",
    "end\n",
    "\n",
    "Nsamples = 2000\n",
    "Nadapt = 1000\n",
    "draws = Nadapt+1 : Nsamples\n",
    "δ = .85\n",
    "sampler = NUTS(Nsamples, Nadapt, δ)\n",
    "\n",
    "sampler = Turing.NUTS(2000, 1000, 0.65)\n",
    "chn = sample(model(), sampler)\n",
    "\n",
    "chn1 = move_parameters_to_new_section(chn, :pooled, [\"b\", \"d\", \"zeta\"])\n",
    "\n",
    "describe(chn1)\n",
    "describe(chn1, section=:pooled)\n",
    "\n",
    "mean(chn1[:a])"
   ],
   "metadata": {},
   "execution_count": 1
  },
  {
   "outputs": [],
   "cell_type": "markdown",
   "source": [
    "*This notebook was generated using [Literate.jl](https://github.com/fredrikekre/Literate.jl).*"
   ],
   "metadata": {}
  }
 ],
 "nbformat_minor": 3,
 "metadata": {
  "language_info": {
   "file_extension": ".jl",
   "mimetype": "application/julia",
   "name": "julia",
   "version": "1.2.0-DEV.439"
  },
  "kernelspec": {
   "name": "julia-1.2",
   "display_name": "Julia 1.2.0-DEV.439",
   "language": "julia"
  }
 },
 "nbformat": 4
}
