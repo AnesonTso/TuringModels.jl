{
 "cells": [
  {
   "outputs": [
    {
     "name": "stdout",
     "output_type": "stream",
     "text": [
      "┌ Info: [Turing]: global PROGRESS is set as false\n",
      "└ @ Turing /Users/rob/.julia/dev/Turing/src/Turing.jl:24\n"
     ]
    },
    {
     "output_type": "execute_result",
     "data": {
      "text/plain": "(504, 8)"
     },
     "metadata": {},
     "execution_count": 1
    }
   ],
   "cell_type": "code",
   "source": [
    "using TuringModels\n",
    "\n",
    "Turing.setadbackend(:reverse_diff);\n",
    "Turing.turnprogress(false);\n",
    "\n",
    "d = CSV.read(rel_path(\"..\", \"data\", \"chimpanzees.csv\"), delim=';');\n",
    "size(d) # Should be 504x8"
   ],
   "metadata": {},
   "execution_count": 1
  },
  {
   "outputs": [],
   "cell_type": "markdown",
   "source": [
    "pulled_left, condition, prosoc_left"
   ],
   "metadata": {}
  },
  {
   "outputs": [
    {
     "name": "stdout",
     "output_type": "stream",
     "text": [
      "┌ Info: [Turing] looking for good initial eps...\n",
      "└ @ Turing.Inference /Users/rob/.julia/dev/Turing/src/inference/support/hmc_core.jl:240\n",
      "┌ Info: \r[NUTS{Turing.Core.FluxTrackerAD,Union{}}] found initial ϵ: 0.2\n",
      "└ @ Turing.Inference /Users/rob/.julia/dev/Turing/src/inference/support/hmc_core.jl:235\n",
      "┌ Info:  Adapted ϵ = 0.07401522714345364, std = [1.0, 1.0, 1.0]; 1000 iterations is used for adaption.\n",
      "└ @ Turing.Inference /Users/rob/.julia/dev/Turing/src/inference/adapt/adapt.jl:91\n",
      "[NUTS] Finished with\n",
      "  Running time        = 297.0978411399998;\n",
      "  #lf / sample        = 0.0;\n",
      "  #evals / sample     = 28.515;\n",
      "  pre-cond. metric    = [1.0, 1.0, 1.0].\n"
     ]
    }
   ],
   "cell_type": "code",
   "source": [
    "@model m10_3(y, x₁, x₂) = begin\n",
    "    α ~ Normal(0, 10)\n",
    "    βp ~ Normal(0, 10)\n",
    "    βpC ~ Normal(0, 10)\n",
    "\n",
    "    for i ∈ 1:length(y)\n",
    "        p = logistic(α + (βp + βpC * x₁[i]) * x₂[i])\n",
    "        y[i] ~ Binomial(1, p)\n",
    "    end\n",
    "end;\n",
    "\n",
    "posterior = sample(m10_3(d[:,:pulled_left], d[:,:condition], d[:,:prosoc_left]),\n",
    "Turing.NUTS(2000, 1000, 0.95));"
   ],
   "metadata": {},
   "execution_count": 2
  },
  {
   "outputs": [],
   "cell_type": "markdown",
   "source": [
    "Fix the inclusion of adaptation samples"
   ],
   "metadata": {}
  },
  {
   "outputs": [],
   "cell_type": "code",
   "source": [
    "posterior2 = MCMCChain.Chains(posterior.value[1001:2000,:,:], names=posterior.names);"
   ],
   "metadata": {},
   "execution_count": 3
  },
  {
   "outputs": [],
   "cell_type": "markdown",
   "source": [
    "Rethinking result"
   ],
   "metadata": {}
  },
  {
   "outputs": [],
   "cell_type": "code",
   "source": [
    "m_10_03t_result = \"\n",
    "      Mean StdDev lower 0.89 upper 0.89 n_eff Rhat\n",
    " a    0.05   0.13      -0.15       0.25  3284    1\n",
    " bp   0.62   0.22       0.28       0.98  3032    1\n",
    " bpC -0.11   0.26      -0.53       0.29  3184    1\n",
    "\";"
   ],
   "metadata": {},
   "execution_count": 4
  },
  {
   "outputs": [],
   "cell_type": "markdown",
   "source": [
    "Describe the draws"
   ],
   "metadata": {}
  },
  {
   "outputs": [
    {
     "name": "stdout",
     "output_type": "stream",
     "text": [
      "Iterations = 1:1000\n",
      "Thinning interval = 1\n",
      "Chains = 1\n",
      "Samples per chain = 1000\n",
      "\n",
      "Empirical Posterior Estimates:\n",
      "              Mean                   SD                       Naive SE              MCSE         ESS   \n",
      "       α    0.052410534  0.126685288268529122612804 0.0040061405696356086961196 0.0053737770  555.76742\n",
      "     βpC   -0.108159213  0.271545412461579149798752 0.0085870199154846008765540 0.0150758411  324.43062\n",
      "  lf_num    0.000000000  0.000000000000000000000000 0.0000000000000000000000000 0.0000000000        NaN\n",
      " elapsed    0.135806777  0.076395598638849773753812 0.0024158409491082449491173 0.0028992753  694.31694\n",
      " epsilon    0.074015227  0.000000000000000097193123 0.0000000000000000030735164 0.0000000000 1000.00000\n",
      "      βp    0.608133222  0.224832286090436761494260 0.0071098211558837404872024 0.0129030657  303.62081\n",
      "      lp -349.399056989  1.277684537767762806836913 0.0404039327052555866104377 0.0754142472  287.03872\n",
      "eval_num   25.720000000 13.748841065000011241181710 0.4347765295305516253243638 0.4201904330 1000.00000\n",
      "  lf_eps    0.074015227  0.000000000000000097193123 0.0000000000000000030735164 0.0000000000 1000.00000\n",
      "\n",
      "Quantiles:\n",
      "              2.5%          25.0%          50.0%         75.0%         97.5%    \n",
      "       α   -0.189045863   -0.03748684    0.056610486    0.13433347    0.30085226\n",
      "     βpC   -0.626776357   -0.29278919   -0.098819387    0.07645953    0.49024307\n",
      "  lf_num    0.000000000    0.00000000    0.000000000    0.00000000    0.00000000\n",
      " elapsed    0.040575875    0.05747661    0.114708788    0.22415056    0.26904968\n",
      " epsilon    0.074015227    0.07401523    0.074015227    0.07401523    0.07401523\n",
      "      βp    0.157844030    0.46255189    0.607488743    0.75340926    1.05683011\n",
      "      lp -352.796539024 -349.92891797 -349.060627409 -348.47154178 -347.93987324\n",
      "eval_num   10.000000000   10.00000000   22.000000000   46.00000000   46.00000000\n",
      "  lf_eps    0.074015227    0.07401523    0.074015227    0.07401523    0.07401523\n",
      "\n"
     ]
    }
   ],
   "cell_type": "code",
   "source": [
    "describe(posterior2)"
   ],
   "metadata": {},
   "execution_count": 5
  },
  {
   "outputs": [],
   "cell_type": "markdown",
   "source": [
    "End of m_10_03t.jl#-\n",
    "*This notebook was generated using [Literate.jl](https://github.com/fredrikekre/Literate.jl).*"
   ],
   "metadata": {}
  }
 ],
 "nbformat_minor": 3,
 "metadata": {
  "language_info": {
   "file_extension": ".jl",
   "mimetype": "application/julia",
   "name": "julia",
   "version": "1.2.0-DEV.291"
  },
  "kernelspec": {
   "name": "julia-1.2",
   "display_name": "Julia 1.2.0-DEV.291",
   "language": "julia"
  }
 },
 "nbformat": 4
}
