{
 "cells": [
  {
   "outputs": [
    {
     "name": "stdout",
     "output_type": "stream",
     "text": [
      "┌ Info: [Turing]: global PROGRESS is set as false\n",
      "└ @ Turing /Users/rob/.julia/packages/Turing/UXxKz/src/Turing.jl:24\n"
     ]
    },
    {
     "output_type": "execute_result",
     "data": {
      "text/plain": "(504, 8)"
     },
     "metadata": {},
     "execution_count": 1
    }
   ],
   "cell_type": "code",
   "source": [
    "using TuringModels\n",
    "\n",
    "Turing.setadbackend(:reverse_diff);\n",
    "Turing.turnprogress(false);\n",
    "\n",
    "d = CSV.read(rel_path(\"..\", \"data\", \"chimpanzees.csv\"), delim=';');\n",
    "size(d) # Should be 504x8"
   ],
   "metadata": {},
   "execution_count": 1
  },
  {
   "outputs": [],
   "cell_type": "markdown",
   "source": [
    "pulled_left, condition, prosoc_left"
   ],
   "metadata": {}
  },
  {
   "outputs": [
    {
     "name": "stdout",
     "output_type": "stream",
     "text": [
      "┌ Info: [Turing] looking for good initial eps...\n",
      "└ @ Turing.Inference /Users/rob/.julia/packages/Turing/UXxKz/src/inference/support/hmc_core.jl:240\n",
      "┌ Info: \r[NUTS{Turing.Core.FluxTrackerAD,Union{}}] found initial ϵ: 0.2\n",
      "└ @ Turing.Inference /Users/rob/.julia/packages/Turing/UXxKz/src/inference/support/hmc_core.jl:235\n",
      "┌ Info:  Adapted ϵ = 0.05751073520096119, std = [1.0, 1.0, 1.0]; 1000 iterations is used for adaption.\n",
      "└ @ Turing.Inference /Users/rob/.julia/packages/Turing/UXxKz/src/inference/adapt/adapt.jl:91\n",
      "[NUTS] Finished with\n",
      "  Running time        = 348.9359764449993;\n",
      "  #lf / sample        = 0.0;\n",
      "  #evals / sample     = 31.686;\n",
      "  pre-cond. metric    = [1.0, 1.0, 1.0].\n"
     ]
    }
   ],
   "cell_type": "code",
   "source": [
    "@model m10_3(y, x₁, x₂) = begin\n",
    "    α ~ Normal(0, 10)\n",
    "    βp ~ Normal(0, 10)\n",
    "    βpC ~ Normal(0, 10)\n",
    "\n",
    "    for i ∈ 1:length(y)\n",
    "        p = logistic(α + (βp + βpC * x₁[i]) * x₂[i])\n",
    "        y[i] ~ Binomial(1, p)\n",
    "    end\n",
    "end;\n",
    "\n",
    "posterior = sample(m10_3(d[:,:pulled_left], d[:,:condition], d[:,:prosoc_left]),\n",
    "Turing.NUTS(2000, 1000, 0.95));"
   ],
   "metadata": {},
   "execution_count": 2
  },
  {
   "outputs": [],
   "cell_type": "markdown",
   "source": [
    "Fix the inclusion of adaptation samples"
   ],
   "metadata": {}
  },
  {
   "outputs": [],
   "cell_type": "code",
   "source": [
    "posterior2 = MCMCChain.Chains(posterior.value[1001:2000,:,:], names=posterior.names);"
   ],
   "metadata": {},
   "execution_count": 3
  },
  {
   "outputs": [],
   "cell_type": "markdown",
   "source": [
    "Rethinking result"
   ],
   "metadata": {}
  },
  {
   "outputs": [],
   "cell_type": "code",
   "source": [
    "m_10_03t_result = \"\n",
    "      Mean StdDev lower 0.89 upper 0.89 n_eff Rhat\n",
    " a    0.05   0.13      -0.15       0.25  3284    1\n",
    " bp   0.62   0.22       0.28       0.98  3032    1\n",
    " bpC -0.11   0.26      -0.53       0.29  3184    1\n",
    "\";"
   ],
   "metadata": {},
   "execution_count": 4
  },
  {
   "outputs": [],
   "cell_type": "markdown",
   "source": [
    "Describe the draws"
   ],
   "metadata": {}
  },
  {
   "outputs": [
    {
     "name": "stdout",
     "output_type": "stream",
     "text": [
      "Iterations = 1:1000\n",
      "Thinning interval = 1\n",
      "Chains = 1\n",
      "Samples per chain = 1000\n",
      "\n",
      "Empirical Posterior Estimates:\n",
      "              Mean           SD        Naive SE               MCSE                ESS   \n",
      "       α    0.047644387  0.130079828 0.0041134853 0.0056361364249392191527743  532.66838\n",
      "     βpC   -0.098425696  0.274451289 0.0086789118 0.0127949725573689807728295  460.09958\n",
      "  lf_num    0.000000000  0.000000000 0.0000000000 0.0000000000000000000000000        NaN\n",
      " elapsed    0.182290972  0.114010241 0.0036053204 0.0068662591221784431347319  275.70672\n",
      " epsilon    0.057510735  0.000000000 0.0000000000 0.0000000000000000023129646    0.00000\n",
      "      βp    0.609956880  0.246700756 0.0078013629 0.0140384031043162132990076  308.82009\n",
      "      lp -349.387004281  1.272188914 0.0402301458 0.0696864997378833644914309  333.27744\n",
      "eval_num   32.452000000 15.181112020 0.4800689140 0.3529079200018045425757407 1000.00000\n",
      "  lf_eps    0.057510735  0.000000000 0.0000000000 0.0000000000000000023129646    0.00000\n",
      "\n",
      "Quantiles:\n",
      "              2.5%           25.0%          50.0%          75.0%          97.5%    \n",
      "       α   -0.193062472   -0.040321529    0.051207044    0.130084411    0.290848312\n",
      "     βpC   -0.674032857   -0.274018027   -0.096092752    0.075085741    0.430036946\n",
      "  lf_num    0.000000000    0.000000000    0.000000000    0.000000000    0.000000000\n",
      " elapsed    0.043985402    0.111259337    0.179778415    0.245472946    0.384138369\n",
      " epsilon    0.057510735    0.057510735    0.057510735    0.057510735    0.057510735\n",
      "      βp    0.161243568    0.438538800    0.606627366    0.777260094    1.087190772\n",
      "      lp -352.576300247 -349.901944975 -349.073966002 -348.454785763 -347.947873310\n",
      "eval_num   10.000000000   22.000000000   34.000000000   46.000000000   52.000000000\n",
      "  lf_eps    0.057510735    0.057510735    0.057510735    0.057510735    0.057510735\n",
      "\n"
     ]
    }
   ],
   "cell_type": "code",
   "source": [
    "describe(posterior2)"
   ],
   "metadata": {},
   "execution_count": 5
  },
  {
   "outputs": [],
   "cell_type": "markdown",
   "source": [
    "End of m_10_03t.jl#-\n",
    "*This notebook was generated using [Literate.jl](https://github.com/fredrikekre/Literate.jl).*"
   ],
   "metadata": {}
  }
 ],
 "nbformat_minor": 3,
 "metadata": {
  "language_info": {
   "file_extension": ".jl",
   "mimetype": "application/julia",
   "name": "julia",
   "version": "1.2.0-DEV.283"
  },
  "kernelspec": {
   "name": "julia-1.2",
   "display_name": "Julia 1.2.0-DEV.283",
   "language": "julia"
  }
 },
 "nbformat": 4
}
