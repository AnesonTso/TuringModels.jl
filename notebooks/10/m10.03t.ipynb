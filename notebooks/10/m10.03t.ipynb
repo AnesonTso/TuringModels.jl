{
 "cells": [
  {
   "outputs": [
    {
     "name": "stdout",
     "output_type": "stream",
     "text": [
      "┌ Info: [Turing]: global PROGRESS is set as false\n",
      "└ @ Turing /Users/rob/.julia/packages/Turing/UXxKz/src/Turing.jl:24\n"
     ]
    },
    {
     "output_type": "execute_result",
     "data": {
      "text/plain": "(504, 8)"
     },
     "metadata": {},
     "execution_count": 1
    }
   ],
   "cell_type": "code",
   "source": [
    "using TuringModels\n",
    "using Turing\n",
    "\n",
    "Turing.setadbackend(:reverse_diff);\n",
    "Turing.turnprogress(false);\n",
    "\n",
    "d = CSV.read(rel_path(\"..\", \"data\", \"chimpanzees.csv\"), delim=';');\n",
    "size(d) # Should be 504x8"
   ],
   "metadata": {},
   "execution_count": 1
  },
  {
   "outputs": [],
   "cell_type": "markdown",
   "source": [
    "pulled_left, condition, prosoc_left"
   ],
   "metadata": {}
  },
  {
   "outputs": [
    {
     "name": "stdout",
     "output_type": "stream",
     "text": [
      "┌ Info: [Turing] looking for good initial eps...\n",
      "└ @ Turing.Inference /Users/rob/.julia/packages/Turing/UXxKz/src/inference/support/hmc_core.jl:240\n",
      "┌ Info: \r[NUTS{Turing.Core.FluxTrackerAD,Union{}}] found initial ϵ: 0.2\n",
      "└ @ Turing.Inference /Users/rob/.julia/packages/Turing/UXxKz/src/inference/support/hmc_core.jl:235\n",
      "┌ Info:  Adapted ϵ = 0.059976435076812704, std = [1.0, 1.0, 1.0]; 1000 iterations is used for adaption.\n",
      "└ @ Turing.Inference /Users/rob/.julia/packages/Turing/UXxKz/src/inference/adapt/adapt.jl:91\n",
      "[NUTS] Finished with\n",
      "  Running time        = 350.02213274299993;\n",
      "  #lf / sample        = 0.0;\n",
      "  #evals / sample     = 31.278;\n",
      "  pre-cond. metric    = [1.0, 1.0, 1.0].\n"
     ]
    }
   ],
   "cell_type": "code",
   "source": [
    "@model m10_3(y, x₁, x₂) = begin\n",
    "    α ~ Normal(0, 10)\n",
    "    βp ~ Normal(0, 10)\n",
    "    βpC ~ Normal(0, 10)\n",
    "\n",
    "    for i ∈ 1:length(y)\n",
    "        p = logistic(α + (βp + βpC * x₁[i]) * x₂[i])\n",
    "        y[i] ~ Binomial(1, p)\n",
    "    end\n",
    "end;\n",
    "\n",
    "posterior = sample(m10_3(d[:,:pulled_left], d[:,:condition], d[:,:prosoc_left]),\n",
    "Turing.NUTS(2000, 1000, 0.95));"
   ],
   "metadata": {},
   "execution_count": 2
  },
  {
   "outputs": [],
   "cell_type": "markdown",
   "source": [
    "Fix the inclusion of adaptation samples"
   ],
   "metadata": {}
  },
  {
   "outputs": [],
   "cell_type": "code",
   "source": [
    "posterior2 = MCMCChain.Chains(posterior.value[1001:2000,:,:], names=posterior.names);"
   ],
   "metadata": {},
   "execution_count": 3
  },
  {
   "outputs": [],
   "cell_type": "markdown",
   "source": [
    "Rethinking result"
   ],
   "metadata": {}
  },
  {
   "outputs": [],
   "cell_type": "code",
   "source": [
    "m_10_03t_result = \"\n",
    "      Mean StdDev lower 0.89 upper 0.89 n_eff Rhat\n",
    " a    0.05   0.13      -0.15       0.25  3284    1\n",
    " bp   0.62   0.22       0.28       0.98  3032    1\n",
    " bpC -0.11   0.26      -0.53       0.29  3184    1\n",
    "\";"
   ],
   "metadata": {},
   "execution_count": 4
  },
  {
   "outputs": [],
   "cell_type": "markdown",
   "source": [
    "Describe the draws"
   ],
   "metadata": {}
  },
  {
   "outputs": [
    {
     "name": "stdout",
     "output_type": "stream",
     "text": [
      "Iterations = 1:1000\n",
      "Thinning interval = 1\n",
      "Chains = 1\n",
      "Samples per chain = 1000\n",
      "\n",
      "Empirical Posterior Estimates:\n",
      "              Mean                  SD                       Naive SE                      MCSE               ESS   \n",
      "       α    0.049975465  0.12762142607358978318999 0.0040357438463134330183801 0.0046943050014495038904649 739.10234\n",
      "     βpC   -0.088285519  0.26110545317781258534140 0.0082568794153233746047071 0.0160372904152901452068392 265.07569\n",
      "  lf_num    0.000000000  0.00000000000000000000000 0.0000000000000000000000000 0.0000000000000000000000000       NaN\n",
      " elapsed    0.175691735  0.08643314501364857127541 0.0027332560357475484645595 0.0042715156684473998965901 409.44599\n",
      " epsilon    0.059976435  0.00000000000000006942366 0.0000000000000000021953689 0.0000000000000000023129646 900.90090\n",
      "      βp    0.603323867  0.22304769749361746944416 0.0070533875093606113529376 0.0132345314887681118204421 284.03924\n",
      "      lp -349.295271663  1.20982004255240727097487 0.0382578689338743602177395 0.0554626682952658253689115 475.81708\n",
      "eval_num   31.522000000 14.66064290713235784835433 0.4636102354893065768948190 0.4727832484342060492821247 961.57214\n",
      "  lf_eps    0.059976435  0.00000000000000006942366 0.0000000000000000021953689 0.0000000000000000023129646 900.90090\n",
      "\n",
      "Quantiles:\n",
      "              2.5%           25.0%          50.0%          75.0%          97.5%    \n",
      "       α   -0.198864171   -0.038013800    0.045017575    0.138523923    0.301759792\n",
      "     βpC   -0.557785708   -0.282827840   -0.091778881    0.086712701    0.448807347\n",
      "  lf_num    0.000000000    0.000000000    0.000000000    0.000000000    0.000000000\n",
      " elapsed    0.044128606    0.113131353    0.171880331    0.247824389    0.352695906\n",
      " epsilon    0.059976435    0.059976435    0.059976435    0.059976435    0.059976435\n",
      "      βp    0.170188858    0.448662301    0.601960333    0.749960981    1.049166473\n",
      "      lp -352.334218815 -349.871978015 -348.928441756 -348.428514416 -347.937279678\n",
      "eval_num   10.000000000   22.000000000   22.000000000   46.000000000   46.000000000\n",
      "  lf_eps    0.059976435    0.059976435    0.059976435    0.059976435    0.059976435\n",
      "\n"
     ]
    }
   ],
   "cell_type": "code",
   "source": [
    "describe(posterior2)"
   ],
   "metadata": {},
   "execution_count": 5
  },
  {
   "outputs": [],
   "cell_type": "markdown",
   "source": [
    "End of m_10_03t.jl#-\n",
    "*This notebook was generated using [Literate.jl](https://github.com/fredrikekre/Literate.jl).*"
   ],
   "metadata": {}
  }
 ],
 "nbformat_minor": 3,
 "metadata": {
  "language_info": {
   "file_extension": ".jl",
   "mimetype": "application/julia",
   "name": "julia",
   "version": "1.1.0"
  },
  "kernelspec": {
   "name": "julia-1.1",
   "display_name": "Julia 1.1.0",
   "language": "julia"
  }
 },
 "nbformat": 4
}
