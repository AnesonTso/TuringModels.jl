{
 "cells": [
  {
   "outputs": [
    {
     "name": "stdout",
     "output_type": "stream",
     "text": [
      "┌ Info: [Turing]: global PROGRESS is set as false\n",
      "└ @ Turing /Users/rob/.julia/packages/Turing/UXxKz/src/Turing.jl:24\n"
     ]
    },
    {
     "output_type": "execute_result",
     "data": {
      "text/plain": "(10, 5)"
     },
     "metadata": {},
     "execution_count": 1
    }
   ],
   "cell_type": "code",
   "source": [
    "using TuringModels\n",
    "using Turing\n",
    "\n",
    "Turing.setadbackend(:reverse_diff);\n",
    "Turing.turnprogress(false);\n",
    "\n",
    "d = CSV.read(rel_path(\"..\", \"data\", \"Kline.csv\"), delim=';');\n",
    "size(d) # Should be 10x5"
   ],
   "metadata": {},
   "execution_count": 1
  },
  {
   "outputs": [],
   "cell_type": "markdown",
   "source": [
    "New col log_pop, set log() for population data"
   ],
   "metadata": {}
  },
  {
   "outputs": [],
   "cell_type": "code",
   "source": [
    "d[:log_pop] = map((x) -> log(x), d[:population]);"
   ],
   "metadata": {},
   "execution_count": 2
  },
  {
   "outputs": [],
   "cell_type": "markdown",
   "source": [
    "New col contact_high, set binary values 1/0 if high/low contact"
   ],
   "metadata": {}
  },
  {
   "outputs": [],
   "cell_type": "code",
   "source": [
    "d[:contact_high] = map((x) -> ifelse(x==\"high\", 1, 0), d[:contact]);"
   ],
   "metadata": {},
   "execution_count": 3
  },
  {
   "outputs": [],
   "cell_type": "markdown",
   "source": [
    "New col where we center(!) the log_pop values"
   ],
   "metadata": {}
  },
  {
   "outputs": [
    {
     "name": "stdout",
     "output_type": "stream",
     "text": [
      "┌ Info: [Turing] looking for good initial eps...\n",
      "└ @ Turing.Inference /Users/rob/.julia/packages/Turing/UXxKz/src/inference/support/hmc_core.jl:240\n",
      "┌ Warning: Numerical error has been found in gradients.\n",
      "└ @ Turing.Core /Users/rob/.julia/packages/Turing/UXxKz/src/core/ad.jl:168\n",
      "┌ Warning: grad = [NaN, NaN, NaN, NaN]\n",
      "└ @ Turing.Core /Users/rob/.julia/packages/Turing/UXxKz/src/core/ad.jl:169\n",
      "┌ Info: \r[NUTS{Turing.Core.FluxTrackerAD,Union{}}] found initial ϵ: 0.05\n",
      "└ @ Turing.Inference /Users/rob/.julia/packages/Turing/UXxKz/src/inference/support/hmc_core.jl:235\n",
      "┌ Info:  Adapted ϵ = 0.028131021068456517, std = [1.0, 1.0, 1.0, 1.0]; 1000 iterations is used for adaption.\n",
      "└ @ Turing.Inference /Users/rob/.julia/packages/Turing/UXxKz/src/inference/adapt/adapt.jl:91\n",
      "[NUTS] Finished with\n",
      "  Running time        = 18.318581699000035;\n",
      "  #lf / sample        = 0.0;\n",
      "  #evals / sample     = 42.526;\n",
      "  pre-cond. metric    = [1.0, 1.0, 1.0, 1.0].\n"
     ]
    }
   ],
   "cell_type": "code",
   "source": [
    "mean_log_pop = mean(d[:log_pop]);\n",
    "d[:log_pop_c] = map((x) -> x - mean_log_pop, d[:log_pop]);\n",
    "\n",
    "@model m10_10stan_c(total_tools, log_pop_c, contact_high) = begin\n",
    "    α ~ Normal(0, 100)\n",
    "    βp ~ Normal(0, 1)\n",
    "    βc ~ Normal(0, 1)\n",
    "    βpc ~ Normal(0, 1)\n",
    "\n",
    "    for i ∈ 1:length(total_tools)\n",
    "        λ = exp(α + βp*log_pop_c[i] + βc*contact_high[i] +\n",
    "            βpc*contact_high[i]*log_pop_c[i])\n",
    "        total_tools[i] ~ Poisson(λ)\n",
    "    end\n",
    "end;\n",
    "\n",
    "posterior = sample(m10_10stan_c(d[:total_tools], d[:log_pop_c],\n",
    "d[:contact_high]), Turing.NUTS(2000, 1000, 0.95));"
   ],
   "metadata": {},
   "execution_count": 4
  },
  {
   "outputs": [],
   "cell_type": "markdown",
   "source": [
    "Fix the inclusion of adaptation samples"
   ],
   "metadata": {}
  },
  {
   "outputs": [
    {
     "output_type": "execute_result",
     "data": {
      "text/plain": "Object of type \"Chains{Float64}\"\n\nIterations = 1:1000\nThinning interval = 1\nChains = 1\nSamples per chain = 1000\n\nUnion{Missing, Float64}[3.63967 0.0 … 22.0 0.028131; 3.40297 0.0 … 22.0 0.028131; … ; 3.42866 0.0 … 94.0 0.028131; 3.09057 0.0 … 94.0 0.028131]"
     },
     "metadata": {},
     "execution_count": 5
    }
   ],
   "cell_type": "code",
   "source": [
    "posterior2 = MCMCChain.Chains(posterior.value[1001:2000,:,:], names=posterior.names)"
   ],
   "metadata": {},
   "execution_count": 5
  },
  {
   "outputs": [],
   "cell_type": "markdown",
   "source": [
    "Rethinking result"
   ],
   "metadata": {}
  },
  {
   "outputs": [],
   "cell_type": "code",
   "source": [
    "m_10_10t_c_result = \"\n",
    "    mean   sd  5.5% 94.5% n_eff Rhat\n",
    " a   3.31 0.09  3.17  3.45  3671    1\n",
    " bp  0.26 0.03  0.21  0.32  5052    1\n",
    " bc  0.28 0.12  0.10  0.47  3383    1\n",
    " bcp 0.07 0.17 -0.20  0.34  4683    1\n",
    "\";"
   ],
   "metadata": {},
   "execution_count": 6
  },
  {
   "outputs": [],
   "cell_type": "markdown",
   "source": [
    "Describe the draws"
   ],
   "metadata": {}
  },
  {
   "outputs": [
    {
     "name": "stdout",
     "output_type": "stream",
     "text": [
      "Iterations = 1:1000\n",
      "Thinning interval = 1\n",
      "Chains = 1\n",
      "Samples per chain = 1000\n",
      "\n",
      "Empirical Posterior Estimates:\n",
      "              Mean                  SD                       Naive SE                       MCSE                ESS   \n",
      "       α   3.315019988  0.091735838553702195308226 0.00290094192895185573957684 0.0031938988283797039441358  824.96545\n",
      "  lf_num   0.000000000  0.000000000000000000000000 0.00000000000000000000000000 0.0000000000000000000000000        NaN\n",
      "      βc   0.276000210  0.118892864371637180243013 0.00375972248955857299770877 0.0033007116828740901831596 1000.00000\n",
      "     βpc   0.061158820  0.177527769236720839307608 0.00561392098716809520575488 0.0052235597749018336868887 1000.00000\n",
      " elapsed   0.008183428  0.006754201446014766394010 0.00021358660345009461986945 0.0001319934568392831266120 1000.00000\n",
      " epsilon   0.028131021  0.000000000000000020827098 0.00000000000000000065861066 0.0000000000000000011564823  324.32432\n",
      "      βp   0.263963144  0.037116851913097603787861 0.00117373791620566515596369 0.0013501176839314571118122  755.78630\n",
      "      lp -45.841749485  1.400661070314345613141427 0.04429279212122586018018922 0.0525377936305560788721181  710.75914\n",
      "eval_num  39.550000000 23.409688454003688917737236 0.74027934829597519250654614 0.5960033556952509803394946 1000.00000\n",
      "  lf_eps   0.028131021  0.000000000000000020827098 0.00000000000000000065861066 0.0000000000000000011564823  324.32432\n",
      "\n",
      "Quantiles:\n",
      "              2.5%           25.0%         50.0%         75.0%         97.5%    \n",
      "       α   3.1347772027   3.2541843741   3.315025618   3.381503846   3.482633924\n",
      "  lf_num   0.0000000000   0.0000000000   0.000000000   0.000000000   0.000000000\n",
      "      βc   0.0546745423   0.1920332857   0.271316580   0.362864918   0.498695176\n",
      "     βpc  -0.2935161776  -0.0694771242   0.060861429   0.197501699   0.396956470\n",
      " elapsed   0.0015990531   0.0036805973   0.007476677   0.008543467   0.028674499\n",
      " epsilon   0.0281310211   0.0281310211   0.028131021   0.028131021   0.028131021\n",
      "      βp   0.1940879185   0.2379659112   0.264595371   0.290226958   0.333313168\n",
      "      lp -49.3050260655 -46.5853659750 -45.537695617 -44.830921671 -44.071658597\n",
      "eval_num  10.0000000000  22.0000000000  46.000000000  46.000000000  94.000000000\n",
      "  lf_eps   0.0281310211   0.0281310211   0.028131021   0.028131021   0.028131021\n",
      "\n"
     ]
    }
   ],
   "cell_type": "code",
   "source": [
    "describe(posterior2)"
   ],
   "metadata": {},
   "execution_count": 7
  },
  {
   "outputs": [],
   "cell_type": "markdown",
   "source": [
    "End of m_10_10t_c.jl"
   ],
   "metadata": {}
  },
  {
   "outputs": [],
   "cell_type": "markdown",
   "source": [
    "*This notebook was generated using [Literate.jl](https://github.com/fredrikekre/Literate.jl).*"
   ],
   "metadata": {}
  }
 ],
 "nbformat_minor": 3,
 "metadata": {
  "language_info": {
   "file_extension": ".jl",
   "mimetype": "application/julia",
   "name": "julia",
   "version": "1.1.0"
  },
  "kernelspec": {
   "name": "julia-1.1",
   "display_name": "Julia 1.1.0",
   "language": "julia"
  }
 },
 "nbformat": 4
}
