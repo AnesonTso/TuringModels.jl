{
 "cells": [
  {
   "outputs": [
    {
     "output_type": "execute_result",
     "data": {
      "text/plain": ":reverse_diff"
     },
     "metadata": {},
     "execution_count": 1
    }
   ],
   "cell_type": "code",
   "source": [
    "using TuringModels\n",
    "using Turing\n",
    "\n",
    "Turing.setadbackend(:reverse_diff)"
   ],
   "metadata": {},
   "execution_count": 1
  },
  {
   "outputs": [],
   "cell_type": "markdown",
   "source": [
    "outcome and predictor almost perfectly associated"
   ],
   "metadata": {}
  },
  {
   "outputs": [
    {
     "name": "stdout",
     "output_type": "stream",
     "text": [
      "┌ Info: [Turing] looking for good initial eps...\n",
      "└ @ Turing.Inference /Users/rob/.julia/packages/Turing/UXxKz/src/inference/support/hmc_core.jl:240\n",
      "┌ Info: \r[NUTS{Turing.Core.FluxTrackerAD,Union{}}] found initial ϵ: 1.6\n",
      "└ @ Turing.Inference /Users/rob/.julia/packages/Turing/UXxKz/src/inference/support/hmc_core.jl:235\n",
      "┌ Warning: Numerical error has been found in gradients.\n",
      "└ @ Turing.Core /Users/rob/.julia/packages/Turing/UXxKz/src/core/ad.jl:168\n",
      "┌ Warning: grad = [NaN, NaN]\n",
      "└ @ Turing.Core /Users/rob/.julia/packages/Turing/UXxKz/src/core/ad.jl:169\n",
      "┌ Warning: 5.364916752348037 exceeds 5.0; capped to 5.0 for numerical stability\n",
      "└ @ Turing.Inference /Users/rob/.julia/packages/Turing/UXxKz/src/inference/adapt/stepsize.jl:96\n",
      "┌ Warning: Numerical error has been found in gradients.\n",
      "└ @ Turing.Core /Users/rob/.julia/packages/Turing/UXxKz/src/core/ad.jl:168\n",
      "┌ Warning: grad = [NaN, NaN]\n",
      "└ @ Turing.Core /Users/rob/.julia/packages/Turing/UXxKz/src/core/ad.jl:169\n",
      "┌ Warning: 7.377776808822792 exceeds 5.0; capped to 5.0 for numerical stability\n",
      "└ @ Turing.Inference /Users/rob/.julia/packages/Turing/UXxKz/src/inference/adapt/stepsize.jl:96\n",
      "┌ Warning: 5.591052960988894 exceeds 5.0; capped to 5.0 for numerical stability\n",
      "└ @ Turing.Inference /Users/rob/.julia/packages/Turing/UXxKz/src/inference/adapt/stepsize.jl:96\n",
      "┌ Warning: 7.6966352834892495 exceeds 5.0; capped to 5.0 for numerical stability\n",
      "└ @ Turing.Inference /Users/rob/.julia/packages/Turing/UXxKz/src/inference/adapt/stepsize.jl:96\n",
      "┌ Warning: 7.207622676710773 exceeds 5.0; capped to 5.0 for numerical stability\n",
      "└ @ Turing.Inference /Users/rob/.julia/packages/Turing/UXxKz/src/inference/adapt/stepsize.jl:96\n",
      "┌ Info:  Adapted ϵ = 0.6207035125928296, std = [1.0, 1.0]; 1000 iterations is used for adaption.\n",
      "└ @ Turing.Inference /Users/rob/.julia/packages/Turing/UXxKz/src/inference/adapt/adapt.jl:91\n",
      "[NUTS] Finished with\n",
      "  Running time        = 19.921068101000007;\n",
      "  #lf / sample        = 0.0;\n",
      "  #evals / sample     = 36.1655;\n",
      "  pre-cond. metric    = [1.0, 1.0].\n"
     ]
    },
    {
     "output_type": "execute_result",
     "data": {
      "text/plain": "Turing.Utilities.Chain{AbstractRange{Int64}}(0.0, Turing.Utilities.Sample[Sample(0.0005, Dict{Symbol,Any}(:α=>2.23737,:lf_num=>0,:elapsed=>0.183161,:epsilon=>1.6,:lp=>-22.9871,:β=>1.09159,:eval_num=>26,:lf_eps=>1.6)), Sample(0.0005, Dict{Symbol,Any}(:α=>2.23737,:lf_num=>0,:elapsed=>0.255657,:epsilon=>3.01361,:lp=>-22.9871,:β=>1.09159,:eval_num=>10,:lf_eps=>3.01361)), Sample(0.0005, Dict{Symbol,Any}(:α=>2.23737,:lf_num=>0,:elapsed=>0.00187556,:epsilon=>0.195774,:lp=>-22.9871,:β=>1.09159,:eval_num=>6,:lf_eps=>0.195774)), Sample(0.0005, Dict{Symbol,Any}(:α=>1.79678,:lf_num=>0,:elapsed=>0.00264765,:epsilon=>0.12589,:lp=>-16.9504,:β=>1.70814,:eval_num=>10,:lf_eps=>0.12589)), Sample(0.0005, Dict{Symbol,Any}(:α=>0.684188,:lf_num=>0,:elapsed=>0.00633799,:epsilon=>0.102345,:lp=>-12.5859,:β=>1.704,:eval_num=>22,:lf_eps=>0.102345)), Sample(0.0005, Dict{Symbol,Any}(:α=>-1.35287,:lf_num=>0,:elapsed=>0.04514,:epsilon=>0.095361,:lp=>-10.3343,:β=>2.85949,:eval_num=>94,:lf_eps=>0.095361)), Sample(0.0005, Dict{Symbol,Any}(:α=>-1.55341,:lf_num=>0,:elapsed=>0.0340478,:epsilon=>0.096791,:lp=>-10.264,:β=>4.81849,:eval_num=>142,:lf_eps=>0.096791)), Sample(0.0005, Dict{Symbol,Any}(:α=>-1.22111,:lf_num=>0,:elapsed=>0.0232071,:epsilon=>0.10347,:lp=>-10.9035,:β=>5.34159,:eval_num=>94,:lf_eps=>0.10347)), Sample(0.0005, Dict{Symbol,Any}(:α=>0.613368,:lf_num=>0,:elapsed=>0.0492608,:epsilon=>0.114698,:lp=>-11.8018,:β=>4.36359,:eval_num=>142,:lf_eps=>0.114698)), Sample(0.0005, Dict{Symbol,Any}(:α=>0.709367,:lf_num=>0,:elapsed=>0.00476527,:epsilon=>0.131099,:lp=>-12.0708,:β=>4.56747,:eval_num=>22,:lf_eps=>0.131099))  …  Sample(0.0005, Dict{Symbol,Any}(:α=>-7.65931,:lf_num=>0,:elapsed=>0.0284118,:epsilon=>0.620704,:lp=>-13.7417,:β=>13.7001,:eval_num=>46,:lf_eps=>0.620704)), Sample(0.0005, Dict{Symbol,Any}(:α=>-9.0283,:lf_num=>0,:elapsed=>0.00498691,:epsilon=>0.620704,:lp=>-12.6024,:β=>13.7378,:eval_num=>22,:lf_eps=>0.620704)), Sample(0.0005, Dict{Symbol,Any}(:α=>-0.822698,:lf_num=>0,:elapsed=>0.0202222,:epsilon=>0.620704,:lp=>-11.0136,:β=>5.0818,:eval_num=>94,:lf_eps=>0.620704)), Sample(0.0005, Dict{Symbol,Any}(:α=>-5.12796,:lf_num=>0,:elapsed=>0.0121975,:epsilon=>0.620704,:lp=>-10.7707,:β=>8.62362,:eval_num=>58,:lf_eps=>0.620704)), Sample(0.0005, Dict{Symbol,Any}(:α=>-7.05417,:lf_num=>0,:elapsed=>0.0105285,:epsilon=>0.620704,:lp=>-10.4788,:β=>9.33466,:eval_num=>46,:lf_eps=>0.620704)), Sample(0.0005, Dict{Symbol,Any}(:α=>-7.20714,:lf_num=>0,:elapsed=>0.0021221,:epsilon=>0.620704,:lp=>-10.5014,:β=>9.43262,:eval_num=>10,:lf_eps=>0.620704)), Sample(0.0005, Dict{Symbol,Any}(:α=>-7.41256,:lf_num=>0,:elapsed=>0.00442248,:epsilon=>0.620704,:lp=>-10.5363,:β=>9.57798,:eval_num=>22,:lf_eps=>0.620704)), Sample(0.0005, Dict{Symbol,Any}(:α=>-2.20207,:lf_num=>0,:elapsed=>0.0301241,:epsilon=>0.620704,:lp=>-10.0573,:β=>5.02325,:eval_num=>70,:lf_eps=>0.620704)), Sample(0.0005, Dict{Symbol,Any}(:α=>-3.18556,:lf_num=>0,:elapsed=>0.00810971,:epsilon=>0.620704,:lp=>-10.078,:β=>5.03871,:eval_num=>34,:lf_eps=>0.620704)), Sample(0.0005, Dict{Symbol,Any}(:α=>-1.32881,:lf_num=>0,:elapsed=>0.00792996,:epsilon=>0.620704,:lp=>-9.96902,:β=>3.95015,:eval_num=>34,:lf_eps=>0.620704))], [2.23737 0.0 … 26.0 1.6; 2.23737 0.0 … 10.0 3.01361; … ; -3.18556 0.0 … 34.0 0.620704; -1.32881 0.0 … 34.0 0.620704], 1:1:2000, [\"α\", \"lf_num\", \"elapsed\", \"epsilon\", \"lp\", \"β\", \"eval_num\", \"lf_eps\"], [1], Dict{Symbol,Any}())"
     },
     "metadata": {},
     "execution_count": 2
    }
   ],
   "cell_type": "code",
   "source": [
    "x = repeat([-1], 9); append!(x, repeat([1],11))\n",
    "y = repeat([0], 10); append!(y, repeat([1],10))\n",
    "\n",
    "@model m_good_stan(x,y) = begin\n",
    "    α ~ Normal(0,10)\n",
    "    β ~ Normal(0,10)\n",
    "\n",
    "    for i ∈ 1:length(y)\n",
    "        p = logistic(α + β * x[i])\n",
    "        y[i] ~ Binomial(1, p)\n",
    "    end\n",
    "end\n",
    "\n",
    "posterior = sample(m_good_stan(x,y), Turing.NUTS(2000, 1000, 0.95))"
   ],
   "metadata": {},
   "execution_count": 2
  },
  {
   "outputs": [],
   "cell_type": "markdown",
   "source": [
    "Fix the inclusion of adaptation samples"
   ],
   "metadata": {}
  },
  {
   "outputs": [
    {
     "output_type": "execute_result",
     "data": {
      "text/plain": "Object of type \"Chains{Float64}\"\n\nIterations = 1:1000\nThinning interval = 1\nChains = 1\nSamples per chain = 1000\n\nUnion{Missing, Float64}[-3.14602 0.0 … 22.0 0.620704; -3.77062 0.0 … 46.0 0.620704; … ; -3.18556 0.0 … 34.0 0.620704; -1.32881 0.0 … 34.0 0.620704]"
     },
     "metadata": {},
     "execution_count": 3
    }
   ],
   "cell_type": "code",
   "source": [
    "posterior2 = MCMCChain.Chains(posterior.value[1001:2000,:,:], names=posterior.names)"
   ],
   "metadata": {},
   "execution_count": 3
  },
  {
   "outputs": [],
   "cell_type": "markdown",
   "source": [
    "Stan results"
   ],
   "metadata": {}
  },
  {
   "outputs": [],
   "cell_type": "code",
   "source": [
    "m_10_x,_results = \"\n",
    "    mean   sd   5.5% 94.5% n_eff Rhat\n",
    " a -5.09 4.08 -12.62 -0.25   100 1.00\n",
    " b  7.86 4.09   2.96 15.75   104 1.01\n",
    "\";"
   ],
   "metadata": {},
   "execution_count": 4
  },
  {
   "outputs": [],
   "cell_type": "markdown",
   "source": [
    "Look at the proper draws (in corrected chn2)"
   ],
   "metadata": {}
  },
  {
   "outputs": [
    {
     "name": "stdout",
     "output_type": "stream",
     "text": [
      "Iterations = 1:1000\n",
      "Thinning interval = 1\n",
      "Chains = 1\n",
      "Samples per chain = 1000\n",
      "\n",
      "Empirical Posterior Estimates:\n",
      "              Mean                 SD                     Naive SE                     MCSE                ESS   \n",
      "       α  -4.990587418  4.5202288976289572985934 0.142942188618195908933473 0.418085896706728910032780  116.89335\n",
      "  lf_num   0.000000000  0.0000000000000000000000 0.000000000000000000000000 0.000000000000000000000000        NaN\n",
      " elapsed   0.008893441  0.0150537681609612655070 0.000476041947567618409752 0.000432336968334109364616 1000.00000\n",
      " epsilon   0.620703513  0.0000000000000004443114 0.000000000000000014050361 0.000000000000000037007434  144.14414\n",
      "      lp -11.212034131  1.4755715493979069119490 0.046661669466410427009606 0.129121948658191765257897  130.59315\n",
      "       β   7.934284533  4.3302501882635917596076 0.136934534332858764971164 0.365315165790559170932994  140.50461\n",
      "eval_num  32.326000000 21.6866787691438815954825 0.685792997949115856748392 0.781457612414134916711816  770.14986\n",
      "  lf_eps   0.620703513  0.0000000000000004443114 0.000000000000000014050361 0.000000000000000037007434  144.14414\n",
      "\n",
      "Quantiles:\n",
      "              2.5%           25.0%          50.0%        75.0%        97.5%   \n",
      "       α -14.8476589760  -7.6745805912  -3.8956195615  -1.5959214  0.851694490\n",
      "  lf_num   0.0000000000   0.0000000000   0.0000000000   0.0000000  0.000000000\n",
      " elapsed   0.0007984942   0.0023322185   0.0053187325   0.0108285  0.031706616\n",
      " epsilon   0.6207035126   0.6207035126   0.6207035126   0.6207035  0.620703513\n",
      "      lp -14.2361801453 -11.6359455111 -10.8140526269 -10.2795262 -9.950131960\n",
      "       β   2.3240987114   4.7020885800   6.7225826124  10.3534514 18.437550276\n",
      "eval_num   4.0000000000  10.0000000000  22.0000000000  46.0000000 70.000000000\n",
      "  lf_eps   0.6207035126   0.6207035126   0.6207035126   0.6207035  0.620703513\n",
      "\n"
     ]
    }
   ],
   "cell_type": "code",
   "source": [
    "describe(posterior2)"
   ],
   "metadata": {},
   "execution_count": 5
  },
  {
   "outputs": [],
   "cell_type": "markdown",
   "source": [
    "End of 10/m_10_xxt.jl"
   ],
   "metadata": {}
  },
  {
   "outputs": [],
   "cell_type": "markdown",
   "source": [
    "*This notebook was generated using [Literate.jl](https://github.com/fredrikekre/Literate.jl).*"
   ],
   "metadata": {}
  }
 ],
 "nbformat_minor": 3,
 "metadata": {
  "language_info": {
   "file_extension": ".jl",
   "mimetype": "application/julia",
   "name": "julia",
   "version": "1.1.0"
  },
  "kernelspec": {
   "name": "julia-1.1",
   "display_name": "Julia 1.1.0",
   "language": "julia"
  }
 },
 "nbformat": 4
}
