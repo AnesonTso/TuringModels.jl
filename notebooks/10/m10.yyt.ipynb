{
 "cells": [
  {
   "outputs": [
    {
     "name": "stdout",
     "output_type": "stream",
     "text": [
      "┌ Info: [Turing]: global PROGRESS is set as false\n",
      "└ @ Turing /Users/rob/.julia/packages/Turing/UXxKz/src/Turing.jl:24\n",
      "┌ Info: [Turing] looking for good initial eps...\n",
      "└ @ Turing.Inference /Users/rob/.julia/packages/Turing/UXxKz/src/inference/support/hmc_core.jl:240\n",
      "┌ Warning: Numerical error has been found in gradients.\n",
      "└ @ Turing.Core /Users/rob/.julia/packages/Turing/UXxKz/src/core/ad.jl:168\n",
      "┌ Warning: grad = [-1755.06, NaN]\n",
      "└ @ Turing.Core /Users/rob/.julia/packages/Turing/UXxKz/src/core/ad.jl:169\n",
      "┌ Warning: Numerical error has been found in gradients.\n",
      "└ @ Turing.Core /Users/rob/.julia/packages/Turing/UXxKz/src/core/ad.jl:168\n",
      "┌ Warning: grad = [-1755.01, NaN]\n",
      "└ @ Turing.Core /Users/rob/.julia/packages/Turing/UXxKz/src/core/ad.jl:169\n",
      "┌ Warning: Numerical error has been found in gradients.\n",
      "└ @ Turing.Core /Users/rob/.julia/packages/Turing/UXxKz/src/core/ad.jl:168\n",
      "┌ Warning: grad = [-1755.0, NaN]\n",
      "└ @ Turing.Core /Users/rob/.julia/packages/Turing/UXxKz/src/core/ad.jl:169\n",
      "┌ Warning: Numerical error has been found in gradients.\n",
      "└ @ Turing.Core /Users/rob/.julia/packages/Turing/UXxKz/src/core/ad.jl:168\n",
      "┌ Warning: grad = [-1746.62, NaN]\n",
      "└ @ Turing.Core /Users/rob/.julia/packages/Turing/UXxKz/src/core/ad.jl:169\n",
      "┌ Warning: Numerical error has been found in gradients.\n",
      "└ @ Turing.Core /Users/rob/.julia/packages/Turing/UXxKz/src/core/ad.jl:168\n",
      "┌ Warning: grad = [9629.61, NaN]\n",
      "└ @ Turing.Core /Users/rob/.julia/packages/Turing/UXxKz/src/core/ad.jl:169\n",
      "┌ Info: \r[NUTS{Turing.Core.FluxTrackerAD,Union{}}] found initial ϵ: 0.0015625\n",
      "└ @ Turing.Inference /Users/rob/.julia/packages/Turing/UXxKz/src/inference/support/hmc_core.jl:235\n",
      "┌ Info:  Adapted ϵ = 0.01384326444664673, std = [1.0, 1.0]; 1000 iterations is used for adaption.\n",
      "└ @ Turing.Inference /Users/rob/.julia/packages/Turing/UXxKz/src/inference/adapt/adapt.jl:91\n",
      "[NUTS] Finished with\n",
      "  Running time        = 5.898405869000008;\n",
      "  #lf / sample        = 0.0;\n",
      "  #evals / sample     = 16.3755;\n",
      "  pre-cond. metric    = [1.0, 1.0].\n"
     ]
    }
   ],
   "cell_type": "code",
   "source": [
    "using TuringModels\n",
    "using Turing\n",
    "\n",
    "Turing.setadbackend(:reverse_diff);\n",
    "Turing.turnprogress(false)\n",
    "\n",
    "d = CSV.read(rel_path(\"..\", \"data\", \"UCBadmit.csv\"), delim=';');\n",
    "size(d) # Should be 12x5\n",
    "\n",
    "@model m_pois(admit, reject) = begin\n",
    "   α₁ ~ Normal(0,100)\n",
    "   α₂ ~ Normal(0,100)\n",
    "\n",
    "   for i ∈ 1:length(admit)\n",
    "       λₐ = exp(α₁)\n",
    "       λᵣ = exp(α₂)\n",
    "       admit[i] ~ Poisson(λₐ)\n",
    "       reject[i] ~ Poisson(λᵣ)\n",
    "   end\n",
    "end;\n",
    "\n",
    "posterior = sample(m_pois(d[:admit], d[:reject]), Turing.NUTS(2000, 1000, 0.95));"
   ],
   "metadata": {},
   "execution_count": 1
  },
  {
   "outputs": [],
   "cell_type": "markdown",
   "source": [
    "Fix the inclusion of adaptation samples"
   ],
   "metadata": {}
  },
  {
   "outputs": [],
   "cell_type": "code",
   "source": [
    "posterior2 = MCMCChain.Chains(posterior.value[1001:2000,:,:], names=posterior.names);"
   ],
   "metadata": {},
   "execution_count": 2
  },
  {
   "outputs": [],
   "cell_type": "markdown",
   "source": [
    "Rethinking/CmdStan result"
   ],
   "metadata": {}
  },
  {
   "outputs": [],
   "cell_type": "code",
   "source": [
    "m_10_yyt_result = \"\n",
    "    mean   sd 5.5% 94.5% n_eff Rhat\n",
    " a1 4.99 0.02 4.95  5.02  2201    1\n",
    " a2 5.44 0.02 5.41  5.47  2468    1\n",
    "\";"
   ],
   "metadata": {},
   "execution_count": 3
  },
  {
   "outputs": [],
   "cell_type": "markdown",
   "source": [
    "Describe the draws"
   ],
   "metadata": {}
  },
  {
   "outputs": [
    {
     "name": "stdout",
     "output_type": "stream",
     "text": [
      "Iterations = 1:1000\n",
      "Thinning interval = 1\n",
      "Chains = 1\n",
      "Samples per chain = 1000\n",
      "\n",
      "Empirical Posterior Estimates:\n",
      "               Mean                  SD                       Naive SE               MCSE          ESS   \n",
      "  lf_num     0.000000000 0.000000000000000000000000 0.0000000000000000000000000 0.000000000000        NaN\n",
      "      α₂     5.442012567 0.019197071477433106517774 0.0006070647027374229814933 0.000616455951  969.76357\n",
      " elapsed     0.002685179 0.002689088245628723592567 0.0000850364368537309141651 0.000051617626 1000.00000\n",
      " epsilon     0.013843264 0.000000000000000013884732 0.0000000000000000004390738 0.000000000000 1000.00000\n",
      "      α₁     4.984720749 0.024495915615291307537715 0.0007746288671560546150105 0.000690993576 1000.00000\n",
      "      lp -1301.650191456 1.024868775237942841727090 0.0324091963253907433539780 0.046509437742  485.57279\n",
      "eval_num    16.216000000 6.332254056924867313682626 0.2002434554272409517050590 0.232929173785  739.04161\n",
      "  lf_eps     0.013843264 0.000000000000000013884732 0.0000000000000000004390738 0.000000000000 1000.00000\n",
      "\n",
      "Quantiles:\n",
      "               2.5%             25.0%            50.0%           75.0%            97.5%     \n",
      "  lf_num     0.0000000000     0.0000000000     0.0000000000     0.000000000     0.0000000000\n",
      "      α₂     5.4048597973     5.4289690371     5.4424058553     5.455734877     5.4771385125\n",
      " elapsed     0.0005293544     0.0013968177     0.0028474365     0.003116511     0.0040127884\n",
      " epsilon     0.0138432644     0.0138432644     0.0138432644     0.013843264     0.0138432644\n",
      "      α₁     4.9348014473     4.9680232448     4.9847917943     5.000858192     5.0304841989\n",
      "      lp -1304.2092442030 -1302.0196403875 -1301.3602624135 -1300.932253447 -1300.6465713552\n",
      "eval_num     4.0000000000    10.0000000000    22.0000000000    22.000000000    22.0000000000\n",
      "  lf_eps     0.0138432644     0.0138432644     0.0138432644     0.013843264     0.0138432644\n",
      "\n"
     ]
    }
   ],
   "cell_type": "code",
   "source": [
    "describe(posterior2)"
   ],
   "metadata": {},
   "execution_count": 4
  },
  {
   "outputs": [],
   "cell_type": "markdown",
   "source": [
    "End of 10/m_10_yyt.jl#-\n",
    "*This notebook was generated using [Literate.jl](https://github.com/fredrikekre/Literate.jl).*"
   ],
   "metadata": {}
  }
 ],
 "nbformat_minor": 3,
 "metadata": {
  "language_info": {
   "file_extension": ".jl",
   "mimetype": "application/julia",
   "name": "julia",
   "version": "1.1.0"
  },
  "kernelspec": {
   "name": "julia-1.1",
   "display_name": "Julia 1.1.0",
   "language": "julia"
  }
 },
 "nbformat": 4
}
