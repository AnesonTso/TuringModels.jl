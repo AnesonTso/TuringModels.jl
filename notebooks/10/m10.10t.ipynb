{
 "cells": [
  {
   "outputs": [
    {
     "name": "stdout",
     "output_type": "stream",
     "text": [
      "┌ Info: [Turing]: global PROGRESS is set as false\n",
      "└ @ Turing /Users/rob/.julia/dev/Turing/src/Turing.jl:24\n"
     ]
    },
    {
     "output_type": "execute_result",
     "data": {
      "text/plain": "(10, 5)"
     },
     "metadata": {},
     "execution_count": 1
    }
   ],
   "cell_type": "code",
   "source": [
    "using TuringModels\n",
    "\n",
    "Turing.setadbackend(:reverse_diff);\n",
    "Turing.turnprogress(false);\n",
    "\n",
    "d = CSV.read(rel_path(\"..\", \"data\", \"Kline.csv\"), delim=';');\n",
    "size(d) # Should be 10x5"
   ],
   "metadata": {},
   "execution_count": 1
  },
  {
   "outputs": [],
   "cell_type": "markdown",
   "source": [
    "New col log_pop, set log() for population data"
   ],
   "metadata": {}
  },
  {
   "outputs": [],
   "cell_type": "code",
   "source": [
    "d[:log_pop] = map(x -> log(x), d[:population]);"
   ],
   "metadata": {},
   "execution_count": 2
  },
  {
   "outputs": [],
   "cell_type": "markdown",
   "source": [
    "New col contact_high, set binary values 1/0 if high/low contact"
   ],
   "metadata": {}
  },
  {
   "outputs": [],
   "cell_type": "code",
   "source": [
    "d[:contact_high] = map(x -> ifelse(x==\"high\", 1, 0), d[:contact]);"
   ],
   "metadata": {},
   "execution_count": 3
  },
  {
   "outputs": [],
   "cell_type": "markdown",
   "source": [
    "This is supposed to be a \"bad\" model since we take non-centered data for the\n",
    "predictor log_pop"
   ],
   "metadata": {}
  },
  {
   "outputs": [
    {
     "name": "stdout",
     "output_type": "stream",
     "text": [
      "┌ Info: [Turing] looking for good initial eps...\n",
      "└ @ Turing.Inference /Users/rob/.julia/dev/Turing/src/inference/support/hmc_core.jl:240\n",
      "┌ Warning: Numerical error has been found in gradients.\n",
      "└ @ Turing.Core /Users/rob/.julia/dev/Turing/src/core/ad.jl:168\n",
      "┌ Warning: grad = [NaN, NaN, NaN, NaN]\n",
      "└ @ Turing.Core /Users/rob/.julia/dev/Turing/src/core/ad.jl:169\n",
      "┌ Warning: Numerical error has been found in gradients.\n",
      "└ @ Turing.Core /Users/rob/.julia/dev/Turing/src/core/ad.jl:168\n",
      "┌ Warning: grad = [NaN, NaN, NaN, NaN]\n",
      "└ @ Turing.Core /Users/rob/.julia/dev/Turing/src/core/ad.jl:169\n",
      "┌ Warning: Numerical error has been found in gradients.\n",
      "└ @ Turing.Core /Users/rob/.julia/dev/Turing/src/core/ad.jl:168\n",
      "┌ Warning: grad = [NaN, NaN, NaN, NaN]\n",
      "└ @ Turing.Core /Users/rob/.julia/dev/Turing/src/core/ad.jl:169\n",
      "┌ Warning: Numerical error has been found in gradients.\n",
      "└ @ Turing.Core /Users/rob/.julia/dev/Turing/src/core/ad.jl:168\n",
      "┌ Warning: grad = [NaN, NaN, NaN, NaN]\n",
      "└ @ Turing.Core /Users/rob/.julia/dev/Turing/src/core/ad.jl:169\n",
      "┌ Warning: Numerical error has been found in gradients.\n",
      "└ @ Turing.Core /Users/rob/.julia/dev/Turing/src/core/ad.jl:168\n",
      "┌ Warning: grad = [NaN, NaN, NaN, NaN]\n",
      "└ @ Turing.Core /Users/rob/.julia/dev/Turing/src/core/ad.jl:169\n",
      "┌ Warning: Numerical error has been found in gradients.\n",
      "└ @ Turing.Core /Users/rob/.julia/dev/Turing/src/core/ad.jl:168\n",
      "┌ Warning: grad = [NaN, NaN, NaN, NaN]\n",
      "└ @ Turing.Core /Users/rob/.julia/dev/Turing/src/core/ad.jl:169\n",
      "┌ Warning: Numerical error has been found in gradients.\n",
      "└ @ Turing.Core /Users/rob/.julia/dev/Turing/src/core/ad.jl:168\n",
      "┌ Warning: grad = [NaN, NaN, NaN, NaN]\n",
      "└ @ Turing.Core /Users/rob/.julia/dev/Turing/src/core/ad.jl:169\n",
      "┌ Warning: Numerical error has been found in gradients.\n",
      "└ @ Turing.Core /Users/rob/.julia/dev/Turing/src/core/ad.jl:168\n",
      "┌ Warning: grad = [NaN, NaN, NaN, NaN]\n",
      "└ @ Turing.Core /Users/rob/.julia/dev/Turing/src/core/ad.jl:169\n",
      "┌ Warning: Numerical error has been found in gradients.\n",
      "└ @ Turing.Core /Users/rob/.julia/dev/Turing/src/core/ad.jl:168\n",
      "┌ Warning: grad = [NaN, NaN, NaN, NaN]\n",
      "└ @ Turing.Core /Users/rob/.julia/dev/Turing/src/core/ad.jl:169\n",
      "┌ Warning: Numerical error has been found in gradients.\n",
      "└ @ Turing.Core /Users/rob/.julia/dev/Turing/src/core/ad.jl:168\n",
      "┌ Warning: grad = [NaN, NaN, NaN, NaN]\n",
      "└ @ Turing.Core /Users/rob/.julia/dev/Turing/src/core/ad.jl:169\n",
      "┌ Warning: Numerical error has been found in gradients.\n",
      "└ @ Turing.Core /Users/rob/.julia/dev/Turing/src/core/ad.jl:168\n",
      "┌ Warning: grad = [NaN, NaN, NaN, NaN]\n",
      "└ @ Turing.Core /Users/rob/.julia/dev/Turing/src/core/ad.jl:169\n",
      "┌ Warning: Numerical error has been found in gradients.\n",
      "└ @ Turing.Core /Users/rob/.julia/dev/Turing/src/core/ad.jl:168\n",
      "┌ Warning: grad = [NaN, NaN, NaN, NaN]\n",
      "└ @ Turing.Core /Users/rob/.julia/dev/Turing/src/core/ad.jl:169\n",
      "┌ Warning: Numerical error has been found in gradients.\n",
      "└ @ Turing.Core /Users/rob/.julia/dev/Turing/src/core/ad.jl:168\n",
      "┌ Warning: grad = [NaN, NaN, NaN, NaN]\n",
      "└ @ Turing.Core /Users/rob/.julia/dev/Turing/src/core/ad.jl:169\n",
      "┌ Warning: Numerical error has been found in gradients.\n",
      "└ @ Turing.Core /Users/rob/.julia/dev/Turing/src/core/ad.jl:168\n",
      "┌ Warning: grad = [NaN, NaN, NaN, NaN]\n",
      "└ @ Turing.Core /Users/rob/.julia/dev/Turing/src/core/ad.jl:169\n",
      "┌ Info: \r[NUTS{Turing.Core.FluxTrackerAD,Union{}}] found initial ϵ: 6.103515625e-6\n",
      "└ @ Turing.Inference /Users/rob/.julia/dev/Turing/src/inference/support/hmc_core.jl:235\n",
      "┌ Info:  Adapted ϵ = 0.0032517200287768356, std = [1.0, 1.0, 1.0, 1.0]; 1000 iterations is used for adaption.\n",
      "└ @ Turing.Inference /Users/rob/.julia/dev/Turing/src/inference/adapt/adapt.jl:91\n",
      "[NUTS] Finished with\n",
      "  Running time        = 51.49828959199991;\n",
      "  #lf / sample        = 0.0;\n",
      "  #evals / sample     = 129.139;\n",
      "  pre-cond. metric    = [1.0, 1.0, 1.0, 1.0].\n"
     ]
    }
   ],
   "cell_type": "code",
   "source": [
    "@model m10_10stan(total_tools, log_pop, contact_high) = begin\n",
    "    α ~ Normal(0, 100)\n",
    "    βp ~ Normal(0, 1)\n",
    "    βc ~ Normal(0, 1)\n",
    "    βpc ~ Normal(0, 1)\n",
    "\n",
    "    for i ∈ 1:length(total_tools)\n",
    "        λ = exp(α + βp*log_pop[i] + βc*contact_high[i] +\n",
    "            βpc*contact_high[i]*log_pop[i])\n",
    "        total_tools[i] ~ Poisson(λ)\n",
    "    end\n",
    "end;\n",
    "\n",
    "posterior = sample(m10_10stan(d[:total_tools], d[:log_pop],\n",
    "    d[:contact_high]), Turing.NUTS(2000, 1000, 0.95));\n",
    "# Fix the inclusion of adaptation samples\n",
    "posterior2 = MCMCChain.Chains(posterior.value[1001:2000,:,:], names=posterior.names);"
   ],
   "metadata": {},
   "execution_count": 4
  },
  {
   "outputs": [],
   "cell_type": "markdown",
   "source": [
    "Rethinking result"
   ],
   "metadata": {}
  },
  {
   "outputs": [],
   "cell_type": "code",
   "source": [
    "m_10_10t_result = \"\n",
    "     mean   sd  5.5% 94.5% n_eff Rhat\n",
    " a    0.94 0.37  0.36  1.53  3379    1\n",
    " bp   0.26 0.04  0.21  0.32  3347    1\n",
    " bc  -0.08 0.84 -1.41  1.23  2950    1\n",
    " bpc  0.04 0.09 -0.10  0.19  2907    1\n",
    "\";"
   ],
   "metadata": {},
   "execution_count": 5
  },
  {
   "outputs": [],
   "cell_type": "markdown",
   "source": [
    "Describe the draws"
   ],
   "metadata": {}
  },
  {
   "outputs": [
    {
     "name": "stdout",
     "output_type": "stream",
     "text": [
      "Iterations = 1:1000\n",
      "Thinning interval = 1\n",
      "Chains = 1\n",
      "Samples per chain = 1000\n",
      "\n",
      "Empirical Posterior Estimates:\n",
      "              Mean                  SD                        Naive SE                MCSE         ESS    \n",
      "       α   0.918178947  0.3460359900265679855557721 0.01094261880875264068835317 0.06666126422   26.946071\n",
      "  lf_num   0.000000000  0.0000000000000000000000000 0.00000000000000000000000000 0.00000000000         NaN\n",
      "      βc  -0.017650561  0.8515630480330687035461779 0.02692878803019865818768608 0.23227427157   13.440994\n",
      "     βpc   0.035631581  0.0927513371350874721299462 0.00293305481373032882197460 0.02491304271   13.860753\n",
      " elapsed   0.023869051  0.0133581401367446582495457 0.00042242148135826214187805 0.00062899789  451.017727\n",
      " epsilon   0.003251720  0.0000000000000000017355915 0.00000000000000000005488422 0.00000000000 1000.000000\n",
      "      βp   0.265469649  0.0334668486927697100830059 0.00105831467977380981083935 0.00622322475   28.920025\n",
      "      lp -45.812021553  1.4803915333819082089661379 0.04681409074316020269002081 0.20019770067   54.680820\n",
      "eval_num 135.106000000 72.4850525753195853440047358 2.29217862455063592364012948 3.43208915968  446.046148\n",
      "  lf_eps   0.003251720  0.0000000000000000017355915 0.00000000000000000005488422 0.00000000000 1000.000000\n",
      "\n",
      "Quantiles:\n",
      "              2.5%           25.0%          50.0%         75.0%         97.5%    \n",
      "       α   0.2457916035   0.68547454078   0.929324283   1.174506530   1.588396226\n",
      "  lf_num   0.0000000000   0.00000000000   0.000000000   0.000000000   0.000000000\n",
      "      βc  -1.3531419781  -0.62565633577  -0.045943410   0.307684189   2.305597983\n",
      "     βpc  -0.2131537666  -0.00034063254   0.039243315   0.099905429   0.180902714\n",
      " elapsed   0.0014650423   0.00778673800   0.029396960   0.032732635   0.041229384\n",
      " epsilon   0.0032517200   0.00325172003   0.003251720   0.003251720   0.003251720\n",
      "      βp   0.2029406773   0.24036760051   0.263883971   0.289532081   0.331317666\n",
      "      lp -49.6763594408 -46.51802047355 -45.445663784 -44.719633595 -44.040393565\n",
      "eval_num  10.0000000000  46.00000000000 190.000000000 190.000000000 190.000000000\n",
      "  lf_eps   0.0032517200   0.00325172003   0.003251720   0.003251720   0.003251720\n",
      "\n"
     ]
    }
   ],
   "cell_type": "code",
   "source": [
    "describe(posterior2)"
   ],
   "metadata": {},
   "execution_count": 6
  },
  {
   "outputs": [],
   "cell_type": "markdown",
   "source": [
    "End of m_10_10t.jl"
   ],
   "metadata": {}
  },
  {
   "outputs": [],
   "cell_type": "markdown",
   "source": [
    "*This notebook was generated using [Literate.jl](https://github.com/fredrikekre/Literate.jl).*"
   ],
   "metadata": {}
  }
 ],
 "nbformat_minor": 3,
 "metadata": {
  "language_info": {
   "file_extension": ".jl",
   "mimetype": "application/julia",
   "name": "julia",
   "version": "1.2.0-DEV.291"
  },
  "kernelspec": {
   "name": "julia-1.2",
   "display_name": "Julia 1.2.0-DEV.291",
   "language": "julia"
  }
 },
 "nbformat": 4
}
