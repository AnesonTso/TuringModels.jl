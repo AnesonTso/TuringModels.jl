{
 "cells": [
  {
   "outputs": [
    {
     "name": "stdout",
     "output_type": "stream",
     "text": [
      "┌ Info: [Turing]: global PROGRESS is set as false\n",
      "└ @ Turing /Users/rob/.julia/packages/Turing/UXxKz/src/Turing.jl:24\n"
     ]
    },
    {
     "output_type": "execute_result",
     "data": {
      "text/plain": "(10, 5)"
     },
     "metadata": {},
     "execution_count": 1
    }
   ],
   "cell_type": "code",
   "source": [
    "using TuringModels\n",
    "using Turing\n",
    "\n",
    "Turing.setadbackend(:reverse_diff);\n",
    "Turing.turnprogress(false);\n",
    "\n",
    "d = CSV.read(rel_path(\"..\", \"data\", \"Kline.csv\"), delim=';');\n",
    "size(d) # Should be 10x5"
   ],
   "metadata": {},
   "execution_count": 1
  },
  {
   "outputs": [],
   "cell_type": "markdown",
   "source": [
    "New col log_pop, set log() for population data"
   ],
   "metadata": {}
  },
  {
   "outputs": [],
   "cell_type": "code",
   "source": [
    "d[:log_pop] = map(x -> log(x), d[:population]);"
   ],
   "metadata": {},
   "execution_count": 2
  },
  {
   "outputs": [],
   "cell_type": "markdown",
   "source": [
    "New col contact_high, set binary values 1/0 if high/low contact"
   ],
   "metadata": {}
  },
  {
   "outputs": [],
   "cell_type": "code",
   "source": [
    "d[:contact_high] = map(x -> ifelse(x==\"high\", 1, 0), d[:contact]);"
   ],
   "metadata": {},
   "execution_count": 3
  },
  {
   "outputs": [],
   "cell_type": "markdown",
   "source": [
    "This is supposed to be a \"bad\" model since we take non-centered data for the\n",
    "predictor log_pop"
   ],
   "metadata": {}
  },
  {
   "outputs": [
    {
     "name": "stdout",
     "output_type": "stream",
     "text": [
      "┌ Info: [Turing] looking for good initial eps...\n",
      "└ @ Turing.Inference /Users/rob/.julia/packages/Turing/UXxKz/src/inference/support/hmc_core.jl:240\n",
      "┌ Warning: Numerical error has been found in gradients.\n",
      "└ @ Turing.Core /Users/rob/.julia/packages/Turing/UXxKz/src/core/ad.jl:168\n",
      "┌ Warning: grad = [NaN, NaN, NaN, NaN]\n",
      "└ @ Turing.Core /Users/rob/.julia/packages/Turing/UXxKz/src/core/ad.jl:169\n",
      "┌ Warning: Numerical error has been found in gradients.\n",
      "└ @ Turing.Core /Users/rob/.julia/packages/Turing/UXxKz/src/core/ad.jl:168\n",
      "┌ Warning: grad = [NaN, NaN, NaN, NaN]\n",
      "└ @ Turing.Core /Users/rob/.julia/packages/Turing/UXxKz/src/core/ad.jl:169\n",
      "┌ Warning: Numerical error has been found in gradients.\n",
      "└ @ Turing.Core /Users/rob/.julia/packages/Turing/UXxKz/src/core/ad.jl:168\n",
      "┌ Warning: grad = [NaN, NaN, NaN, NaN]\n",
      "└ @ Turing.Core /Users/rob/.julia/packages/Turing/UXxKz/src/core/ad.jl:169\n",
      "┌ Warning: Numerical error has been found in gradients.\n",
      "└ @ Turing.Core /Users/rob/.julia/packages/Turing/UXxKz/src/core/ad.jl:168\n",
      "┌ Warning: grad = [NaN, NaN, NaN, NaN]\n",
      "└ @ Turing.Core /Users/rob/.julia/packages/Turing/UXxKz/src/core/ad.jl:169\n",
      "┌ Warning: Numerical error has been found in gradients.\n",
      "└ @ Turing.Core /Users/rob/.julia/packages/Turing/UXxKz/src/core/ad.jl:168\n",
      "┌ Warning: grad = [NaN, NaN, NaN, NaN]\n",
      "└ @ Turing.Core /Users/rob/.julia/packages/Turing/UXxKz/src/core/ad.jl:169\n",
      "┌ Warning: Numerical error has been found in gradients.\n",
      "└ @ Turing.Core /Users/rob/.julia/packages/Turing/UXxKz/src/core/ad.jl:168\n",
      "┌ Warning: grad = [NaN, NaN, NaN, NaN]\n",
      "└ @ Turing.Core /Users/rob/.julia/packages/Turing/UXxKz/src/core/ad.jl:169\n",
      "┌ Warning: Numerical error has been found in gradients.\n",
      "└ @ Turing.Core /Users/rob/.julia/packages/Turing/UXxKz/src/core/ad.jl:168\n",
      "┌ Warning: grad = [NaN, NaN, NaN, NaN]\n",
      "└ @ Turing.Core /Users/rob/.julia/packages/Turing/UXxKz/src/core/ad.jl:169\n",
      "┌ Warning: Numerical error has been found in gradients.\n",
      "└ @ Turing.Core /Users/rob/.julia/packages/Turing/UXxKz/src/core/ad.jl:168\n",
      "┌ Warning: grad = [NaN, NaN, NaN, NaN]\n",
      "└ @ Turing.Core /Users/rob/.julia/packages/Turing/UXxKz/src/core/ad.jl:169\n",
      "┌ Warning: Numerical error has been found in gradients.\n",
      "└ @ Turing.Core /Users/rob/.julia/packages/Turing/UXxKz/src/core/ad.jl:168\n",
      "┌ Warning: grad = [NaN, NaN, NaN, NaN]\n",
      "└ @ Turing.Core /Users/rob/.julia/packages/Turing/UXxKz/src/core/ad.jl:169\n",
      "┌ Warning: Numerical error has been found in gradients.\n",
      "└ @ Turing.Core /Users/rob/.julia/packages/Turing/UXxKz/src/core/ad.jl:168\n",
      "┌ Warning: grad = [NaN, NaN, NaN, NaN]\n",
      "└ @ Turing.Core /Users/rob/.julia/packages/Turing/UXxKz/src/core/ad.jl:169\n",
      "┌ Warning: Numerical error has been found in gradients.\n",
      "└ @ Turing.Core /Users/rob/.julia/packages/Turing/UXxKz/src/core/ad.jl:168\n",
      "┌ Warning: grad = [NaN, NaN, NaN, NaN]\n",
      "└ @ Turing.Core /Users/rob/.julia/packages/Turing/UXxKz/src/core/ad.jl:169\n",
      "┌ Warning: Numerical error has been found in gradients.\n",
      "└ @ Turing.Core /Users/rob/.julia/packages/Turing/UXxKz/src/core/ad.jl:168\n",
      "┌ Warning: grad = [NaN, NaN, NaN, NaN]\n",
      "└ @ Turing.Core /Users/rob/.julia/packages/Turing/UXxKz/src/core/ad.jl:169\n",
      "┌ Warning: Numerical error has been found in gradients.\n",
      "└ @ Turing.Core /Users/rob/.julia/packages/Turing/UXxKz/src/core/ad.jl:168\n",
      "┌ Warning: grad = [NaN, NaN, NaN, NaN]\n",
      "└ @ Turing.Core /Users/rob/.julia/packages/Turing/UXxKz/src/core/ad.jl:169\n",
      "┌ Warning: Numerical error has been found in gradients.\n",
      "└ @ Turing.Core /Users/rob/.julia/packages/Turing/UXxKz/src/core/ad.jl:168\n",
      "┌ Warning: grad = [NaN, NaN, NaN, NaN]\n",
      "└ @ Turing.Core /Users/rob/.julia/packages/Turing/UXxKz/src/core/ad.jl:169\n",
      "┌ Warning: Numerical error has been found in gradients.\n",
      "└ @ Turing.Core /Users/rob/.julia/packages/Turing/UXxKz/src/core/ad.jl:168\n",
      "┌ Warning: grad = [NaN, NaN, NaN, NaN]\n",
      "└ @ Turing.Core /Users/rob/.julia/packages/Turing/UXxKz/src/core/ad.jl:169\n",
      "┌ Warning: Numerical error has been found in gradients.\n",
      "└ @ Turing.Core /Users/rob/.julia/packages/Turing/UXxKz/src/core/ad.jl:168\n",
      "┌ Warning: grad = [NaN, NaN, NaN, NaN]\n",
      "└ @ Turing.Core /Users/rob/.julia/packages/Turing/UXxKz/src/core/ad.jl:169\n",
      "┌ Info: \r[NUTS{Turing.Core.FluxTrackerAD,Union{}}] found initial ϵ: 1.52587890625e-6\n",
      "└ @ Turing.Inference /Users/rob/.julia/packages/Turing/UXxKz/src/inference/support/hmc_core.jl:235\n",
      "┌ Info:  Adapted ϵ = 0.004425266160359523, std = [1.0, 1.0, 1.0, 1.0]; 1000 iterations is used for adaption.\n",
      "└ @ Turing.Inference /Users/rob/.julia/packages/Turing/UXxKz/src/inference/adapt/adapt.jl:91\n",
      "[NUTS] Finished with\n",
      "  Running time        = 55.52598111500005;\n",
      "  #lf / sample        = 0.0;\n",
      "  #evals / sample     = 131.94;\n",
      "  pre-cond. metric    = [1.0, 1.0, 1.0, 1.0].\n"
     ]
    }
   ],
   "cell_type": "code",
   "source": [
    "@model m10_10stan(total_tools, log_pop, contact_high) = begin\n",
    "    α ~ Normal(0, 100)\n",
    "    βp ~ Normal(0, 1)\n",
    "    βc ~ Normal(0, 1)\n",
    "    βpc ~ Normal(0, 1)\n",
    "\n",
    "    for i ∈ 1:length(total_tools)\n",
    "        λ = exp(α + βp*log_pop[i] + βc*contact_high[i] +\n",
    "            βpc*contact_high[i]*log_pop[i])\n",
    "        total_tools[i] ~ Poisson(λ)\n",
    "    end\n",
    "end;\n",
    "\n",
    "posterior = sample(m10_10stan(d[:total_tools], d[:log_pop],\n",
    "    d[:contact_high]), Turing.NUTS(2000, 1000, 0.95));\n",
    "# Fix the inclusion of adaptation samples\n",
    "posterior2 = MCMCChain.Chains(posterior.value[1001:2000,:,:], names=posterior.names);"
   ],
   "metadata": {},
   "execution_count": 4
  },
  {
   "outputs": [],
   "cell_type": "markdown",
   "source": [
    "Rethinking result"
   ],
   "metadata": {}
  },
  {
   "outputs": [],
   "cell_type": "code",
   "source": [
    "m_10_10t_result = \"\n",
    "     mean   sd  5.5% 94.5% n_eff Rhat\n",
    " a    0.94 0.37  0.36  1.53  3379    1\n",
    " bp   0.26 0.04  0.21  0.32  3347    1\n",
    " bc  -0.08 0.84 -1.41  1.23  2950    1\n",
    " bpc  0.04 0.09 -0.10  0.19  2907    1\n",
    "\";"
   ],
   "metadata": {},
   "execution_count": 5
  },
  {
   "outputs": [],
   "cell_type": "markdown",
   "source": [
    "Describe the draws"
   ],
   "metadata": {}
  },
  {
   "outputs": [
    {
     "name": "stdout",
     "output_type": "stream",
     "text": [
      "Iterations = 1:1000\n",
      "Thinning interval = 1\n",
      "Chains = 1\n",
      "Samples per chain = 1000\n",
      "\n",
      "Empirical Posterior Estimates:\n",
      "              Mean           SD        Naive SE               MCSE                ESS    \n",
      "       α   0.8996068994  0.396412125 0.0125356521 0.0586794766824411326289201   45.637453\n",
      "  lf_num   0.0000000000  0.000000000 0.0000000000 0.0000000000000000000000000         NaN\n",
      "     βpc   0.0497646397  0.083275101 0.0026333899 0.0189400158917350548704039   19.331683\n",
      "      βc  -0.1462900470  0.752607228 0.0237995303 0.1706291098780035320192638   19.454968\n",
      " elapsed   0.0289675535  0.016577288 0.0005242199 0.0005050476037407463118442 1000.000000\n",
      " epsilon   0.0044252662  0.000000000 0.0000000000 0.0000000000000000002891206    0.000000\n",
      "      βp   0.2675817601  0.038030768 0.0012026385 0.0055090118616234647064278   47.656569\n",
      "      lp -45.7827885824  1.473393073 0.0465927800 0.0969509819896755553614298  230.957900\n",
      "eval_num 139.8100000000 71.726652038 2.2681958938 2.3155172208385761400961655  959.544431\n",
      "  lf_eps   0.0044252662  0.000000000 0.0000000000 0.0000000000000000002891206    0.000000\n",
      "\n",
      "Quantiles:\n",
      "              2.5%           25.0%          50.0%          75.0%          97.5%    \n",
      "       α   0.1726165306   0.6183411142   0.9094423531   1.1829415070   1.6382317092\n",
      "  lf_num   0.0000000000   0.0000000000   0.0000000000   0.0000000000   0.0000000000\n",
      "     βpc  -0.0914530943  -0.0044169252   0.0411154409   0.0905775967   0.2666251114\n",
      "      βc  -2.2171202955  -0.4929597907  -0.0427586107   0.3380793156   1.1036415032\n",
      " elapsed   0.0016446042   0.0136252952   0.0321433950   0.0362940795   0.0529251772\n",
      " epsilon   0.0044252662   0.0044252662   0.0044252662   0.0044252662   0.0044252662\n",
      "      βp   0.1969642502   0.2400083225   0.2666601797   0.2937248897   0.3398318868\n",
      "      lp -49.3237091911 -46.6107704953 -45.4199626090 -44.6178342205 -43.9784636584\n",
      "eval_num  10.0000000000  70.0000000000 190.0000000000 190.0000000000 190.0000000000\n",
      "  lf_eps   0.0044252662   0.0044252662   0.0044252662   0.0044252662   0.0044252662\n",
      "\n"
     ]
    }
   ],
   "cell_type": "code",
   "source": [
    "describe(posterior2)"
   ],
   "metadata": {},
   "execution_count": 6
  },
  {
   "outputs": [],
   "cell_type": "markdown",
   "source": [
    "End of m_10_10t.jl"
   ],
   "metadata": {}
  },
  {
   "outputs": [],
   "cell_type": "markdown",
   "source": [
    "*This notebook was generated using [Literate.jl](https://github.com/fredrikekre/Literate.jl).*"
   ],
   "metadata": {}
  }
 ],
 "nbformat_minor": 3,
 "metadata": {
  "language_info": {
   "file_extension": ".jl",
   "mimetype": "application/julia",
   "name": "julia",
   "version": "1.1.0"
  },
  "kernelspec": {
   "name": "julia-1.1",
   "display_name": "Julia 1.1.0",
   "language": "julia"
  }
 },
 "nbformat": 4
}
