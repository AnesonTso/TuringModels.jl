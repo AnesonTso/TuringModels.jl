{
 "cells": [
  {
   "cell_type": "code",
   "execution_count": 6,
   "metadata": {},
   "outputs": [
    {
     "name": "stderr",
     "output_type": "stream",
     "text": [
      "┌ Info: [Turing]: global PROGRESS is set as false\n",
      "└ @ Turing /Users/rob/.julia/packages/Turing/r03H1/src/Turing.jl:24\n"
     ]
    },
    {
     "data": {
      "text/plain": [
       "(504, 8)"
      ]
     },
     "execution_count": 6,
     "metadata": {},
     "output_type": "execute_result"
    }
   ],
   "source": [
    "using TuringModels\n",
    "\n",
    "Turing.setadbackend(:reverse_diff);\n",
    "Turing.turnprogress(false);\n",
    "\n",
    "d = CSV.read(rel_path(\"..\", \"data\", \"chimpanzees.csv\"), delim=';');\n",
    "size(d) # Should be 504x8"
   ]
  },
  {
   "cell_type": "markdown",
   "metadata": {},
   "source": [
    "pulled_left, actors, condition, prosoc_left"
   ]
  },
  {
   "cell_type": "code",
   "execution_count": 7,
   "metadata": {},
   "outputs": [
    {
     "name": "stderr",
     "output_type": "stream",
     "text": [
      "┌ Info: [Turing] looking for good initial eps...\n",
      "└ @ Turing.Inference /Users/rob/.julia/packages/Turing/r03H1/src/inference/support/hmc_core.jl:240\n",
      "[NUTS{Turing.Core.FluxTrackerAD,Union{}}] found initial ϵ: 0.4\n",
      "└ @ Turing.Inference /Users/rob/.julia/packages/Turing/r03H1/src/inference/support/hmc_core.jl:235\n",
      "┌ Warning: Numerical error has been found in gradients.\n",
      "└ @ Turing.Core /Users/rob/.julia/packages/Turing/r03H1/src/core/ad.jl:169\n",
      "┌ Warning: grad = [NaN, NaN, NaN, NaN, NaN, NaN, NaN, NaN, NaN]\n",
      "└ @ Turing.Core /Users/rob/.julia/packages/Turing/r03H1/src/core/ad.jl:170\n",
      "┌ Info:  Adapted ϵ = 0.09340741377838617, std = [1.0, 1.0, 1.0, 1.0, 1.0, 1.0, 1.0, 1.0, 1.0]; 1000 iterations is used for adaption.\n",
      "└ @ Turing.Inference /Users/rob/.julia/packages/Turing/r03H1/src/inference/adapt/adapt.jl:91\n",
      "┌ Warning: Numerical error has been found in gradients.\n",
      "└ @ Turing.Core /Users/rob/.julia/packages/Turing/r03H1/src/core/ad.jl:169\n",
      "┌ Warning: grad = [-1.413683823692169, NaN, -0.0053143216643326, 6.180638719948819, 5.7481680727318825, 1.2802685894642976, 2.4636098718763173, NaN, NaN]\n",
      "└ @ Turing.Core /Users/rob/.julia/packages/Turing/r03H1/src/core/ad.jl:170\n"
     ]
    },
    {
     "name": "stdout",
     "output_type": "stream",
     "text": [
      "[NUTS] Finished with\n",
      "  Running time        = 1036.9406298429983;\n",
      "  #lf / sample        = 0.0;\n",
      "  #evals / sample     = 67.339;\n",
      "  pre-cond. metric    = [1.0, 1.0, 1.0, 1.0, 1.0, 1.0,....\n"
     ]
    }
   ],
   "source": [
    "@model m10_4(y, actors, x₁, x₂) = begin\n",
    "    # Number of unique actors in the data set\n",
    "    N_actor = length(unique(actors))\n",
    "    # Set an TArray for the priors/param\n",
    "    α = TArray{Any}(undef, N_actor)\n",
    "    # For each actor [1,..,7] set a prior\n",
    "    for i ∈ 1:length(α)\n",
    "        α[i] ~ Normal(0,10)\n",
    "    end\n",
    "\n",
    "    βp ~ Normal(0, 10)\n",
    "    βpC ~ Normal(0, 10)\n",
    "\n",
    "    for i ∈ 1:length(y)\n",
    "        p = logistic(α[actors[i]] + (βp + βpC * x₁[i]) * x₂[i])\n",
    "        y[i] ~ Binomial(1, p)\n",
    "    end\n",
    "end;\n",
    "\n",
    "posterior = sample(m10_4(d[:,:pulled_left], d[:,:actor],d[:,:condition],\n",
    "d[:,:prosoc_left]), Turing.NUTS(2000, 1000, 0.95));"
   ]
  },
  {
   "cell_type": "markdown",
   "metadata": {},
   "source": [
    "Fix the inclusion of adaptation samples"
   ]
  },
  {
   "cell_type": "code",
   "execution_count": 8,
   "metadata": {},
   "outputs": [
    {
     "data": {
      "text/plain": [
       "Object of type Chains, with data of type 1000×9×1 Array{Union{Missing, Float64},3}\n",
       "\n",
       "Log evidence      = 0.0\n",
       "Iterations        = 1001:2000\n",
       "Thinning interval = 1\n",
       "Chains            = Chain1\n",
       "Samples per chain = 1000\n",
       "parameters        = α[2], βpC, βp, α[7], α[4], α[6], α[5], α[3], α[1]\n",
       "\n",
       "parameters\n",
       "       Mean    SD   Naive SE  MCSE     ESS   \n",
       "α[1] -0.7368 0.2626   0.0083 0.0096  743.4117\n",
       "α[2] 11.1931 5.4292   0.1717 0.8311   42.6710\n",
       "α[3] -1.0455 0.2848   0.0090 0.0076 1000.0000\n",
       "α[4] -1.0465 0.2808   0.0089 0.0065 1000.0000\n",
       "α[5] -0.7435 0.2715   0.0086 0.0084 1000.0000\n",
       "α[6]  0.2216 0.2738   0.0087 0.0065 1000.0000\n",
       "α[7]  1.8233 0.3832   0.0121 0.0146  692.2298\n",
       "  βp  0.8450 0.2572   0.0081 0.0115  500.4234\n",
       " βpC -0.1528 0.2815   0.0089 0.0101  782.8304\n",
       "\n"
      ]
     },
     "execution_count": 8,
     "metadata": {},
     "output_type": "execute_result"
    }
   ],
   "source": [
    "draws = 1001:2000\n",
    "posterior2 = Chains(posterior[draws,:,:], :parameters)"
   ]
  },
  {
   "cell_type": "markdown",
   "metadata": {},
   "source": [
    "Rethinking/CmdStan results"
   ]
  },
  {
   "cell_type": "code",
   "execution_count": 9,
   "metadata": {},
   "outputs": [],
   "source": [
    "m_10_04s_result = \"\n",
    "Iterations = 1:1000\n",
    "Thinning interval = 1\n",
    "Chains = 1,2,3,4\n",
    "Samples per chain = 1000\n",
    "\n",
    "Empirical Posterior Estimates:\n",
    "        Mean        SD       Naive SE       MCSE      ESS\n",
    "a.1 -0.74503184 0.26613979 0.0042080396 0.0060183398 1000\n",
    "a.2 10.77955494 5.32538998 0.0842018089 0.1269148045 1000\n",
    "a.3 -1.04982353 0.28535997 0.0045119373 0.0049074219 1000\n",
    "a.4 -1.04898135 0.28129307 0.0044476339 0.0056325117 1000\n",
    "a.5 -0.74390933 0.26949936 0.0042611590 0.0052178124 1000\n",
    "a.6  0.21599365 0.26307574 0.0041595927 0.0045153523 1000\n",
    "a.7  1.81090866 0.39318577 0.0062168129 0.0071483527 1000\n",
    "bp  0.83979926 0.26284676 0.0041559722 0.0059795826 1000\n",
    "bpC -0.12913322 0.29935741 0.0047332562 0.0049519863 1000\n",
    "\";"
   ]
  },
  {
   "cell_type": "markdown",
   "metadata": {},
   "source": [
    "Describe the draws"
   ]
  },
  {
   "cell_type": "code",
   "execution_count": 10,
   "metadata": {},
   "outputs": [
    {
     "name": "stdout",
     "output_type": "stream",
     "text": [
      "Log evidence      = 0.0\n",
      "Iterations        = 1001:2000\n",
      "Thinning interval = 1\n",
      "Chains            = Chain1\n",
      "Samples per chain = 1000\n",
      "parameters        = α[2], βpC, βp, α[7], α[4], α[6], α[5], α[3], α[1]\n",
      "\n"
     ]
    },
    {
     "name": "stderr",
     "output_type": "stream",
     "text": [
      "┌ Warning: `quantile(v::AbstractArray{<:Real})` is deprecated, use `quantile(v, [0.0, 0.25, 0.5, 0.75, 1.0])` instead.\n",
      "│   caller = (::getfield(MCMCChains, Symbol(\"##102#104\")){Chains{Union{Missing, Float64},Float64,NamedTuple{(:parameters,),Tuple{Array{String,1}}},NamedTuple{(:hashedsummary,),Tuple{Base.RefValue{Tuple{UInt64,MCMCChains.ChainSummaries}}}}}})(::String) at none:0\n",
      "└ @ MCMCChains ./none:0\n"
     ]
    },
    {
     "name": "stdout",
     "output_type": "stream",
     "text": [
      "\u001b[36m\u001b[1mEmpirical Posterior Estimates\u001b[22m\u001b[39m\n",
      "─────────────────────────────────────────────\n",
      "parameters\n",
      "       Mean    SD   Naive SE  MCSE     ESS   \n",
      "α[1] -0.7368 0.2626   0.0083 0.0096  743.4117\n",
      "α[2] 11.1931 5.4292   0.1717 0.8311   42.6710\n",
      "α[3] -1.0455 0.2848   0.0090 0.0076 1000.0000\n",
      "α[4] -1.0465 0.2808   0.0089 0.0065 1000.0000\n",
      "α[5] -0.7435 0.2715   0.0086 0.0084 1000.0000\n",
      "α[6]  0.2216 0.2738   0.0087 0.0065 1000.0000\n",
      "α[7]  1.8233 0.3832   0.0121 0.0146  692.2298\n",
      "  βp  0.8450 0.2572   0.0081 0.0115  500.4234\n",
      " βpC -0.1528 0.2815   0.0089 0.0101  782.8304\n",
      "\n",
      "\u001b[36m\u001b[1mQuantiles\u001b[22m\u001b[39m\n",
      "─────────────────────────────────────────────\n",
      "parameters\n",
      "       2.5%   25.0%   50.0%   75.0%   97.5% \n",
      "α[1] -1.7078 -0.9135 -0.7309 -0.5709  0.1285\n",
      "α[2]  3.0412  7.2461 10.0285 14.0184 31.8224\n",
      "α[3] -2.1025 -1.2400 -1.0375 -0.8606 -0.1937\n",
      "α[4] -2.0072 -1.2185 -1.0397 -0.8696 -0.0853\n",
      "α[5] -1.5113 -0.9400 -0.7376 -0.5517  0.0889\n",
      "α[6] -0.6183  0.0334  0.2297  0.4092  1.1575\n",
      "α[7]  0.7556  1.5585  1.8237  2.0891  3.1643\n",
      "  βp  0.1388  0.6579  0.8346  1.0279  1.6540\n",
      " βpC -0.9645 -0.3344 -0.1512  0.0349  0.6841\n",
      "\n"
     ]
    }
   ],
   "source": [
    "describe(posterior2)"
   ]
  },
  {
   "cell_type": "markdown",
   "metadata": {},
   "source": [
    "Create a DataFrame"
   ]
  },
  {
   "cell_type": "code",
   "execution_count": 11,
   "metadata": {},
   "outputs": [
    {
     "data": {
      "text/html": [
       "<table class=\"data-frame\"><thead><tr><th></th><th>a_1</th><th>a_2</th><th>a_3</th><th>a_4</th><th>a_5</th><th>a_6</th><th>a_7</th><th>bp</th><th>bpC</th></tr><tr><th></th><th>Float64</th><th>Float64</th><th>Float64</th><th>Float64</th><th>Float64</th><th>Float64</th><th>Float64</th><th>Float64</th><th>Float64</th></tr></thead><tbody><p>5 rows × 9 columns</p><tr><th>1</th><td>-1.0929</td><td>6.73563</td><td>-0.976573</td><td>-1.12526</td><td>-0.886459</td><td>0.322946</td><td>2.6305</td><td>0.850382</td><td>-0.395548</td></tr><tr><th>2</th><td>-0.431177</td><td>6.35147</td><td>-1.23014</td><td>-1.1136</td><td>-0.704243</td><td>-0.0204245</td><td>1.48751</td><td>0.558974</td><td>0.0371371</td></tr><tr><th>3</th><td>-0.732745</td><td>4.9389</td><td>-0.913287</td><td>-1.05535</td><td>-0.778746</td><td>0.569156</td><td>2.39251</td><td>0.942476</td><td>-0.376117</td></tr><tr><th>4</th><td>-0.647605</td><td>4.52435</td><td>-0.908345</td><td>-0.982594</td><td>-0.555483</td><td>-0.234643</td><td>1.56546</td><td>1.02727</td><td>-0.187141</td></tr><tr><th>5</th><td>-0.518945</td><td>8.02371</td><td>-1.03367</td><td>-0.914572</td><td>-0.562902</td><td>-0.145583</td><td>2.15204</td><td>0.586953</td><td>-0.084613</td></tr></tbody></table>"
      ],
      "text/latex": [
       "\\begin{tabular}{r|ccccccccc}\n",
       "\t& a\\_1 & a\\_2 & a\\_3 & a\\_4 & a\\_5 & a\\_6 & a\\_7 & bp & bpC\\\\\n",
       "\t\\hline\n",
       "\t& Float64 & Float64 & Float64 & Float64 & Float64 & Float64 & Float64 & Float64 & Float64\\\\\n",
       "\t\\hline\n",
       "\t1 & -1.0929 & 6.73563 & -0.976573 & -1.12526 & -0.886459 & 0.322946 & 2.6305 & 0.850382 & -0.395548 \\\\\n",
       "\t2 & -0.431177 & 6.35147 & -1.23014 & -1.1136 & -0.704243 & -0.0204245 & 1.48751 & 0.558974 & 0.0371371 \\\\\n",
       "\t3 & -0.732745 & 4.9389 & -0.913287 & -1.05535 & -0.778746 & 0.569156 & 2.39251 & 0.942476 & -0.376117 \\\\\n",
       "\t4 & -0.647605 & 4.52435 & -0.908345 & -0.982594 & -0.555483 & -0.234643 & 1.56546 & 1.02727 & -0.187141 \\\\\n",
       "\t5 & -0.518945 & 8.02371 & -1.03367 & -0.914572 & -0.562902 & -0.145583 & 2.15204 & 0.586953 & -0.084613 \\\\\n",
       "\\end{tabular}\n"
      ],
      "text/plain": [
       "5×9 DataFrame. Omitted printing of 3 columns\n",
       "│ Row │ a_1       │ a_2     │ a_3       │ a_4       │ a_5       │ a_6        │\n",
       "│     │ \u001b[90mFloat64\u001b[39m   │ \u001b[90mFloat64\u001b[39m │ \u001b[90mFloat64\u001b[39m   │ \u001b[90mFloat64\u001b[39m   │ \u001b[90mFloat64\u001b[39m   │ \u001b[90mFloat64\u001b[39m    │\n",
       "├─────┼───────────┼─────────┼───────────┼───────────┼───────────┼────────────┤\n",
       "│ 1   │ -1.0929   │ 6.73563 │ -0.976573 │ -1.12526  │ -0.886459 │ 0.322946   │\n",
       "│ 2   │ -0.431177 │ 6.35147 │ -1.23014  │ -1.1136   │ -0.704243 │ -0.0204245 │\n",
       "│ 3   │ -0.732745 │ 4.9389  │ -0.913287 │ -1.05535  │ -0.778746 │ 0.569156   │\n",
       "│ 4   │ -0.647605 │ 4.52435 │ -0.908345 │ -0.982594 │ -0.555483 │ -0.234643  │\n",
       "│ 5   │ -0.518945 │ 8.02371 │ -1.03367  │ -0.914572 │ -0.562902 │ -0.145583  │"
      ]
     },
     "execution_count": 11,
     "metadata": {},
     "output_type": "execute_result"
    }
   ],
   "source": [
    "cnames = [\n",
    "  :a_1, :a_2, :a_3, :a_4, :a_5, :a_6, :a_7,\n",
    "  :bp, :bpC\n",
    "]\n",
    "\n",
    "df = DataFrame(convert(Matrix{Float64}, to_df(posterior2)), cnames)\n",
    "first(df, 5)"
   ]
  },
  {
   "cell_type": "markdown",
   "metadata": {},
   "source": [
    "End of 10/m_10_04t.jl#-\n",
    "*This notebook was generated using [Literate.jl](https://github.com/fredrikekre/Literate.jl).*"
   ]
  }
 ],
 "metadata": {
  "kernelspec": {
   "display_name": "Julia 1.2.0-DEV",
   "language": "julia",
   "name": "julia-1.2"
  },
  "language_info": {
   "file_extension": ".jl",
   "mimetype": "application/julia",
   "name": "julia",
   "version": "1.2.0"
  }
 },
 "nbformat": 4,
 "nbformat_minor": 3
}
