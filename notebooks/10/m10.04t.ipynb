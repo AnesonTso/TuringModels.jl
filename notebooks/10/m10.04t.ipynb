{
 "cells": [
  {
   "outputs": [
    {
     "name": "stdout",
     "output_type": "stream",
     "text": [
      "┌ Info: [Turing]: global PROGRESS is set as false\n",
      "└ @ Turing /Users/rob/.julia/packages/Turing/UXxKz/src/Turing.jl:24\n"
     ]
    },
    {
     "output_type": "execute_result",
     "data": {
      "text/plain": "(504, 8)"
     },
     "metadata": {},
     "execution_count": 1
    }
   ],
   "cell_type": "code",
   "source": [
    "using TuringModels\n",
    "using Turing\n",
    "\n",
    "Turing.setadbackend(:reverse_diff);\n",
    "Turing.turnprogress(false);\n",
    "\n",
    "d = CSV.read(rel_path(\"..\", \"data\", \"chimpanzees.csv\"), delim=';');\n",
    "size(d) # Should be 504x8"
   ],
   "metadata": {},
   "execution_count": 1
  },
  {
   "outputs": [],
   "cell_type": "markdown",
   "source": [
    "pulled_left, actors, condition, prosoc_left"
   ],
   "metadata": {}
  },
  {
   "outputs": [
    {
     "name": "stdout",
     "output_type": "stream",
     "text": [
      "┌ Info: [Turing] looking for good initial eps...\n",
      "└ @ Turing.Inference /Users/rob/.julia/packages/Turing/UXxKz/src/inference/support/hmc_core.jl:240\n",
      "┌ Info: \r[NUTS{Turing.Core.FluxTrackerAD,Union{}}] found initial ϵ: 0.8\n",
      "└ @ Turing.Inference /Users/rob/.julia/packages/Turing/UXxKz/src/inference/support/hmc_core.jl:235\n",
      "┌ Info:  Adapted ϵ = 0.09801634521936992, std = [1.0, 1.0, 1.0, 1.0, 1.0, 1.0, 1.0, 1.0, 1.0]; 1000 iterations is used for adaption.\n",
      "└ @ Turing.Inference /Users/rob/.julia/packages/Turing/UXxKz/src/inference/adapt/adapt.jl:91\n",
      "[NUTS] Finished with\n",
      "  Running time        = 1039.8654113840005;\n",
      "  #lf / sample        = 0.0;\n",
      "  #evals / sample     = 67.273;\n",
      "  pre-cond. metric    = [1.0, 1.0, 1.0, 1.0, 1.0, 1.0,....\n"
     ]
    }
   ],
   "cell_type": "code",
   "source": [
    "@model m10_4(y, actors, x₁, x₂) = begin\n",
    "    # Number of unique actors in the data set\n",
    "    N_actor = length(unique(actors))\n",
    "    # Set an TArray for the priors/param\n",
    "    α = TArray{Any}(undef, N_actor)\n",
    "    # For each actor [1,..,7] set a prior\n",
    "    for i ∈ 1:length(α)\n",
    "        α[i] ~ Normal(0,10)\n",
    "    end\n",
    "\n",
    "    βp ~ Normal(0, 10)\n",
    "    βpC ~ Normal(0, 10)\n",
    "\n",
    "    for i ∈ 1:length(y)\n",
    "        p = logistic(α[actors[i]] + (βp + βpC * x₁[i]) * x₂[i])\n",
    "        y[i] ~ Binomial(1, p)\n",
    "    end\n",
    "end;\n",
    "\n",
    "posterior = sample(m10_4(d[:,:pulled_left], d[:,:actor],d[:,:condition],\n",
    "d[:,:prosoc_left]), Turing.NUTS(2000, 1000, 0.95));"
   ],
   "metadata": {},
   "execution_count": 2
  },
  {
   "outputs": [],
   "cell_type": "markdown",
   "source": [
    "Fix the inclusion of adaptation samples"
   ],
   "metadata": {}
  },
  {
   "outputs": [],
   "cell_type": "code",
   "source": [
    "posterior2 = MCMCChain.Chains(posterior.value[1001:2000,:,:], names=posterior.names);"
   ],
   "metadata": {},
   "execution_count": 3
  },
  {
   "outputs": [],
   "cell_type": "markdown",
   "source": [
    "Rethinking/CmdStan results"
   ],
   "metadata": {}
  },
  {
   "outputs": [],
   "cell_type": "code",
   "source": [
    "m_10_04s_result = \"\n",
    "Iterations = 1:1000\n",
    "Thinning interval = 1\n",
    "Chains = 1,2,3,4\n",
    "Samples per chain = 1000\n",
    "\n",
    "Empirical Posterior Estimates:\n",
    "        Mean        SD       Naive SE       MCSE      ESS\n",
    "a.1 -0.74503184 0.26613979 0.0042080396 0.0060183398 1000\n",
    "a.2 10.77955494 5.32538998 0.0842018089 0.1269148045 1000\n",
    "a.3 -1.04982353 0.28535997 0.0045119373 0.0049074219 1000\n",
    "a.4 -1.04898135 0.28129307 0.0044476339 0.0056325117 1000\n",
    "a.5 -0.74390933 0.26949936 0.0042611590 0.0052178124 1000\n",
    "a.6  0.21599365 0.26307574 0.0041595927 0.0045153523 1000\n",
    "a.7  1.81090866 0.39318577 0.0062168129 0.0071483527 1000\n",
    " bp  0.83979926 0.26284676 0.0041559722 0.0059795826 1000\n",
    "bpC -0.12913322 0.29935741 0.0047332562 0.0049519863 1000\n",
    " bpC  -0.13 0.30 -0.63  0.34  3508    1\n",
    "\";"
   ],
   "metadata": {},
   "execution_count": 4
  },
  {
   "outputs": [],
   "cell_type": "markdown",
   "source": [
    "Describe the draws"
   ],
   "metadata": {}
  },
  {
   "outputs": [
    {
     "name": "stdout",
     "output_type": "stream",
     "text": [
      "Iterations = 1:1000\n",
      "Thinning interval = 1\n",
      "Chains = 1\n",
      "Samples per chain = 1000\n",
      "\n",
      "Empirical Posterior Estimates:\n",
      "              Mean                  SD                       Naive SE                      MCSE                ESS   \n",
      "     βpC   -0.135010063  0.29465711501644087366714 0.0093178761222615560239069 0.0088045329947883405746767 1000.00000\n",
      "  lf_num    0.000000000  0.00000000000000000000000 0.0000000000000000000000000 0.0000000000000000000000000        NaN\n",
      "    α[2]    9.807223012  4.34796844204733012873021 0.1374948347140338422711636 0.4674209893971316143179706   86.52794\n",
      " epsilon    0.098016345  0.00000000000000008330839 0.0000000000000000026344427 0.0000000000000000046259293  324.32432\n",
      " elapsed    0.550549137  0.44476736547578293867744 0.0140647790381601325154781 0.0152051519620942394289687  855.62664\n",
      "    α[4]   -1.052112766  0.28276508593773813649008 0.0089418171433650137785998 0.0084379483556627065538036 1000.00000\n",
      "    α[1]   -0.744907626  0.27327472540482311558208 0.0086417055923632048880512 0.0074749607657726493958883 1000.00000\n",
      "    α[3]   -1.049882918  0.28042068325324753796934 0.0088676806210089779286543 0.0084082531965170397014742 1000.00000\n",
      "eval_num   67.624000000 53.77671018720426587833572 1.7005688926234534541492849 1.8289056837354955575847271  864.58131\n",
      "    α[5]   -0.736001918  0.27581119556209959808868 0.0087219158215035962750106 0.0103333029104651571983275  712.43535\n",
      "    α[7]    1.809610133  0.39668880180158139214797 0.0125444013597610284221906 0.0139489155322195142183705  808.75875\n",
      "    α[6]    0.220361759  0.25956668387835857281232 0.0082082192575252121979901 0.0053315851371642086070635 1000.00000\n",
      "      βp    0.833844440  0.25942563937485380032300 0.0082037590386999838937276 0.0070994305520885063118253 1000.00000\n",
      "      lp -290.329543707  2.09382299114842274079251 0.0662124966925559249597555 0.1105639244460899367483719  358.63530\n",
      "  lf_eps    0.098016345  0.00000000000000008330839 0.0000000000000000026344427 0.0000000000000000046259293  324.32432\n",
      "\n",
      "Quantiles:\n",
      "              2.5%           25.0%          50.0%          75.0%          97.5%    \n",
      "     βpC   -0.708766686   -0.319151426   -0.150341134    0.066394755    0.453574052\n",
      "  lf_num    0.000000000    0.000000000    0.000000000    0.000000000    0.000000000\n",
      "    α[2]    3.739181831    6.479183659    9.085759557   12.190836602   20.024328941\n",
      " epsilon    0.098016345    0.098016345    0.098016345    0.098016345    0.098016345\n",
      " elapsed    0.155541266    0.350419982    0.375844055    0.588452226    1.587378408\n",
      "    α[4]   -1.602858059   -1.238112432   -1.055061195   -0.871976497   -0.478081858\n",
      "    α[1]   -1.308880978   -0.918450673   -0.757038867   -0.554072974   -0.224095056\n",
      "    α[3]   -1.631342060   -1.234994750   -1.039064959   -0.851370818   -0.533921660\n",
      "eval_num   22.000000000   46.000000000   46.000000000   70.000000000  190.000000000\n",
      "    α[5]   -1.288647299   -0.923570989   -0.732789557   -0.550523712   -0.212885499\n",
      "    α[7]    1.106741692    1.529786256    1.800925094    2.081076677    2.590052635\n",
      "    α[6]   -0.290958764    0.052182417    0.220530491    0.390816016    0.736555019\n",
      "      βp    0.327540673    0.665257601    0.824424297    1.011016121    1.351024765\n",
      "      lp -295.477394435 -291.642708513 -290.004324651 -288.794578475 -287.251632227\n",
      "  lf_eps    0.098016345    0.098016345    0.098016345    0.098016345    0.098016345\n",
      "\n"
     ]
    }
   ],
   "cell_type": "code",
   "source": [
    "describe(posterior2)"
   ],
   "metadata": {},
   "execution_count": 5
  },
  {
   "outputs": [],
   "cell_type": "markdown",
   "source": [
    "End of 10/m_10_04t.jl#-\n",
    "*This notebook was generated using [Literate.jl](https://github.com/fredrikekre/Literate.jl).*"
   ],
   "metadata": {}
  }
 ],
 "nbformat_minor": 3,
 "metadata": {
  "language_info": {
   "file_extension": ".jl",
   "mimetype": "application/julia",
   "name": "julia",
   "version": "1.1.0"
  },
  "kernelspec": {
   "name": "julia-1.1",
   "display_name": "Julia 1.1.0",
   "language": "julia"
  }
 },
 "nbformat": 4
}
